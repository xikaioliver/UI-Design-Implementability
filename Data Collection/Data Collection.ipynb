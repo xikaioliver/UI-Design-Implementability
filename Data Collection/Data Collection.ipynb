{
 "cells": [
  {
   "cell_type": "code",
   "execution_count": 4,
   "metadata": {},
   "outputs": [
    {
     "data": {
      "text/plain": [
       "{'currentPackageName': 'com.poupa.vinylmusicplayer',\n",
       " 'displayHeight': 1794,\n",
       " 'displayRotation': 0,\n",
       " 'displaySizeDpX': 411,\n",
       " 'displaySizeDpY': 731,\n",
       " 'displayWidth': 1080,\n",
       " 'productName': 'sdk_gphone_x86',\n",
       " 'screenOn': True,\n",
       " 'sdkInt': 28,\n",
       " 'naturalOrientation': True}"
      ]
     },
     "execution_count": 4,
     "metadata": {},
     "output_type": "execute_result"
    }
   ],
   "source": [
    "from uiautomator import device as d\n",
    "d.info"
   ]
  },
  {
   "cell_type": "code",
   "execution_count": 3,
   "metadata": {},
   "outputs": [],
   "source": [
    "d.screen.on()"
   ]
  },
  {
   "cell_type": "code",
   "execution_count": 8,
   "metadata": {},
   "outputs": [
    {
     "data": {
      "text/plain": [
       "True"
      ]
     },
     "execution_count": 8,
     "metadata": {},
     "output_type": "execute_result"
    }
   ],
   "source": [
    "d.press.camera()"
   ]
  },
  {
   "cell_type": "code",
   "execution_count": 14,
   "metadata": {},
   "outputs": [
    {
     "data": {
      "text/plain": [
       "'natural'"
      ]
     },
     "execution_count": 14,
     "metadata": {},
     "output_type": "execute_result"
    }
   ],
   "source": [
    "d.orientation"
   ]
  },
  {
   "cell_type": "code",
   "execution_count": 90,
   "metadata": {},
   "outputs": [
    {
     "data": {
      "text/plain": [
       "'home.png'"
      ]
     },
     "execution_count": 90,
     "metadata": {},
     "output_type": "execute_result"
    }
   ],
   "source": [
    "d.screenshot(\"home.png\")"
   ]
  },
  {
   "cell_type": "code",
   "execution_count": 84,
   "metadata": {},
   "outputs": [
    {
     "data": {
      "text/plain": [
       "'<?xml version=\\'1.0\\' encoding=\\'UTF-8\\' standalone=\\'yes\\' ?>\\r\\n<hierarchy rotation=\"0\">\\r\\n  <node index=\"0\" text=\"\" resource-id=\"com.android.systemui:id/navigation_bar_frame\" class=\"android.widget.FrameLayout\" package=\"com.android.systemui\" content-desc=\"\" checkable=\"false\" checked=\"false\" clickable=\"false\" enabled=\"true\" focusable=\"false\" focused=\"false\" scrollable=\"false\" long-clickable=\"false\" password=\"false\" selected=\"false\" bounds=\"[0,1794][1080,1920]\">\\r\\n    <node index=\"0\" text=\"\" resource-id=\"\" class=\"android.widget.FrameLayout\" package=\"com.android.systemui\" content-desc=\"\" checkable=\"false\" checked=\"false\" clickable=\"false\" enabled=\"true\" focusable=\"false\" focused=\"false\" scrollable=\"false\" long-clickable=\"false\" password=\"false\" selected=\"false\" bounds=\"[0,1794][1080,1920]\">\\r\\n      <node index=\"0\" text=\"\" resource-id=\"com.android.systemui:id/navigation_inflater\" class=\"android.widget.FrameLayout\" package=\"com.android.systemui\" content-desc=\"\" checkable=\"false\" checked=\"false\" clickable=\"false\" enabled=\"true\" focusable=\"false\" focused=\"false\" scrollable=\"false\" long-clickable=\"false\" password=\"false\" selected=\"false\" bounds=\"[0,1794][1080,1920]\">\\r\\n        <node index=\"0\" text=\"\" resource-id=\"com.android.systemui:id/rot0\" class=\"android.widget.FrameLayout\" package=\"com.android.systemui\" content-desc=\"\" checkable=\"false\" checked=\"false\" clickable=\"false\" enabled=\"true\" focusable=\"false\" focused=\"false\" scrollable=\"false\" long-clickable=\"false\" password=\"false\" selected=\"false\" bounds=\"[0,1794][1080,1920]\">\\r\\n          <node index=\"0\" text=\"\" resource-id=\"com.android.systemui:id/nav_buttons\" class=\"android.widget.FrameLayout\" package=\"com.android.systemui\" content-desc=\"\" checkable=\"false\" checked=\"false\" clickable=\"false\" enabled=\"true\" focusable=\"false\" focused=\"false\" scrollable=\"false\" long-clickable=\"false\" password=\"false\" selected=\"false\" bounds=\"[0,1794][1080,1920]\">\\r\\n            <node index=\"0\" text=\"\" resource-id=\"com.android.systemui:id/ends_group\" class=\"android.widget.LinearLayout\" package=\"com.android.systemui\" content-desc=\"\" checkable=\"false\" checked=\"false\" clickable=\"false\" enabled=\"true\" focusable=\"false\" focused=\"false\" scrollable=\"false\" long-clickable=\"false\" password=\"false\" selected=\"false\" bounds=\"[21,1794][1059,1920]\">\\r\\n              <node index=\"0\" text=\"\" resource-id=\"\" class=\"android.widget.RelativeLayout\" package=\"com.android.systemui\" content-desc=\"\" checkable=\"false\" checked=\"false\" clickable=\"false\" enabled=\"true\" focusable=\"false\" focused=\"false\" scrollable=\"false\" long-clickable=\"false\" password=\"false\" selected=\"false\" bounds=\"[42,1794][141,1920]\" />\\r\\n              <node index=\"1\" text=\"\" resource-id=\"\" class=\"android.widget.RelativeLayout\" package=\"com.android.systemui\" content-desc=\"\" checkable=\"false\" checked=\"false\" clickable=\"false\" enabled=\"true\" focusable=\"false\" focused=\"false\" scrollable=\"false\" long-clickable=\"false\" password=\"false\" selected=\"false\" bounds=\"[141,1794][340,1920]\">\\r\\n                <node index=\"0\" text=\"\" resource-id=\"com.android.systemui:id/back\" class=\"android.widget.ImageView\" package=\"com.android.systemui\" content-desc=\"Back\" checkable=\"false\" checked=\"false\" clickable=\"true\" enabled=\"true\" focusable=\"true\" focused=\"false\" scrollable=\"false\" long-clickable=\"true\" password=\"false\" selected=\"false\" bounds=\"[141,1794][340,1920]\" />\\r\\n              </node>\\r\\n              <node index=\"2\" text=\"\" resource-id=\"\" class=\"android.widget.RelativeLayout\" package=\"com.android.systemui\" content-desc=\"\" checkable=\"false\" checked=\"false\" clickable=\"false\" enabled=\"true\" focusable=\"false\" focused=\"false\" scrollable=\"false\" long-clickable=\"false\" password=\"false\" selected=\"false\" bounds=\"[738,1794][938,1920]\">\\r\\n                <node index=\"0\" text=\"\" resource-id=\"com.android.systemui:id/recent_apps\" class=\"android.widget.ImageView\" package=\"com.android.systemui\" content-desc=\"Overview\" checkable=\"false\" checked=\"false\" clickable=\"true\" enabled=\"true\" focusable=\"true\" focused=\"false\" scrollable=\"false\" long-clickable=\"true\" password=\"false\" selected=\"false\" bounds=\"[738,1794][938,1920]\" />\\r\\n              </node>\\r\\n              <node index=\"3\" text=\"\" resource-id=\"\" class=\"android.widget.RelativeLayout\" package=\"com.android.systemui\" content-desc=\"\" checkable=\"false\" checked=\"false\" clickable=\"false\" enabled=\"true\" focusable=\"false\" focused=\"false\" scrollable=\"false\" long-clickable=\"false\" password=\"false\" selected=\"false\" bounds=\"[938,1794][1038,1920]\">\\r\\n                <node NAF=\"true\" index=\"0\" text=\"\" resource-id=\"com.android.systemui:id/menu_container\" class=\"android.widget.FrameLayout\" package=\"com.android.systemui\" content-desc=\"\" checkable=\"false\" checked=\"false\" clickable=\"true\" enabled=\"true\" focusable=\"true\" focused=\"false\" scrollable=\"false\" long-clickable=\"true\" password=\"false\" selected=\"false\" bounds=\"[938,1794][1038,1920]\" />\\r\\n              </node>\\r\\n            </node>\\r\\n            <node index=\"1\" text=\"\" resource-id=\"com.android.systemui:id/center_group\" class=\"android.widget.LinearLayout\" package=\"com.android.systemui\" content-desc=\"\" checkable=\"false\" checked=\"false\" clickable=\"false\" enabled=\"true\" focusable=\"false\" focused=\"false\" scrollable=\"false\" long-clickable=\"false\" password=\"false\" selected=\"false\" bounds=\"[414,1794][666,1920]\">\\r\\n              <node index=\"0\" text=\"\" resource-id=\"com.android.systemui:id/home\" class=\"android.widget.FrameLayout\" package=\"com.android.systemui\" content-desc=\"\" checkable=\"false\" checked=\"false\" clickable=\"true\" enabled=\"true\" focusable=\"true\" focused=\"false\" scrollable=\"false\" long-clickable=\"false\" password=\"false\" selected=\"false\" bounds=\"[435,1794][645,1920]\">\\r\\n                <node index=\"0\" text=\"\" resource-id=\"com.android.systemui:id/home_button\" class=\"android.widget.ImageView\" package=\"com.android.systemui\" content-desc=\"Home\" checkable=\"false\" checked=\"false\" clickable=\"true\" enabled=\"true\" focusable=\"true\" focused=\"false\" scrollable=\"false\" long-clickable=\"true\" password=\"false\" selected=\"false\" bounds=\"[435,1794][645,1920]\" />\\r\\n                <node index=\"1\" text=\"\" resource-id=\"\" class=\"android.widget.RelativeLayout\" package=\"com.android.systemui\" content-desc=\"\" checkable=\"false\" checked=\"false\" clickable=\"false\" enabled=\"true\" focusable=\"false\" focused=\"false\" scrollable=\"false\" long-clickable=\"false\" password=\"false\" selected=\"false\" bounds=\"[435,1794][645,1920]\" />\\r\\n                <node index=\"2\" text=\"\" resource-id=\"com.android.systemui:id/white_cutout\" class=\"android.widget.ImageView\" package=\"com.android.systemui\" content-desc=\"\" checkable=\"false\" checked=\"false\" clickable=\"false\" enabled=\"true\" focusable=\"false\" focused=\"false\" scrollable=\"false\" long-clickable=\"false\" password=\"false\" selected=\"false\" bounds=\"[516,1833][563,1880]\" />\\r\\n                <node index=\"3\" text=\"\" resource-id=\"com.android.systemui:id/white\" class=\"android.widget.ImageView\" package=\"com.android.systemui\" content-desc=\"\" checkable=\"false\" checked=\"false\" clickable=\"false\" enabled=\"true\" focusable=\"false\" focused=\"false\" scrollable=\"false\" long-clickable=\"false\" password=\"false\" selected=\"false\" bounds=\"[516,1833][563,1880]\" />\\r\\n              </node>\\r\\n            </node>\\r\\n          </node>\\r\\n        </node>\\r\\n      </node>\\r\\n    </node>\\r\\n  </node>\\r\\n  <node index=\"0\" text=\"\" resource-id=\"\" class=\"android.widget.FrameLayout\" package=\"com.android.systemui\" content-desc=\"\" checkable=\"false\" checked=\"false\" clickable=\"false\" enabled=\"true\" focusable=\"false\" focused=\"false\" scrollable=\"false\" long-clickable=\"false\" password=\"false\" selected=\"false\" bounds=\"[0,0][1080,63]\">\\r\\n    <node index=\"0\" text=\"\" resource-id=\"com.android.systemui:id/scrim_in_front\" class=\"android.view.View\" package=\"com.android.systemui\" content-desc=\"\" checkable=\"false\" checked=\"false\" clickable=\"false\" enabled=\"true\" focusable=\"true\" focused=\"false\" scrollable=\"false\" long-clickable=\"false\" password=\"false\" selected=\"false\" bounds=\"[0,0][1080,63]\" />\\r\\n    <node index=\"1\" text=\"\" resource-id=\"com.android.systemui:id/scrim_behind\" class=\"android.view.View\" package=\"com.android.systemui\" content-desc=\"\" checkable=\"false\" checked=\"false\" clickable=\"false\" enabled=\"true\" focusable=\"true\" focused=\"false\" scrollable=\"false\" long-clickable=\"false\" password=\"false\" selected=\"false\" bounds=\"[0,0][1080,63]\" />\\r\\n    <node index=\"2\" text=\"\" resource-id=\"com.android.systemui:id/status_bar_container\" class=\"android.widget.FrameLayout\" package=\"com.android.systemui\" content-desc=\"\" checkable=\"false\" checked=\"false\" clickable=\"false\" enabled=\"true\" focusable=\"false\" focused=\"false\" scrollable=\"false\" long-clickable=\"false\" password=\"false\" selected=\"false\" bounds=\"[0,0][1080,63]\">\\r\\n      <node index=\"0\" text=\"\" resource-id=\"com.android.systemui:id/status_bar\" class=\"android.widget.FrameLayout\" package=\"com.android.systemui\" content-desc=\"\" checkable=\"false\" checked=\"false\" clickable=\"false\" enabled=\"true\" focusable=\"false\" focused=\"false\" scrollable=\"false\" long-clickable=\"false\" password=\"false\" selected=\"false\" bounds=\"[0,0][1080,63]\">\\r\\n        <node index=\"0\" text=\"\" resource-id=\"com.android.systemui:id/status_bar_contents\" class=\"android.widget.LinearLayout\" package=\"com.android.systemui\" content-desc=\"\" checkable=\"false\" checked=\"false\" clickable=\"false\" enabled=\"true\" focusable=\"false\" focused=\"false\" scrollable=\"false\" long-clickable=\"false\" password=\"false\" selected=\"false\" bounds=\"[21,0][1059,63]\">\\r\\n          <node index=\"0\" text=\"\" resource-id=\"\" class=\"android.widget.FrameLayout\" package=\"com.android.systemui\" content-desc=\"\" checkable=\"false\" checked=\"false\" clickable=\"false\" enabled=\"true\" focusable=\"false\" focused=\"false\" scrollable=\"false\" long-clickable=\"false\" password=\"false\" selected=\"false\" bounds=\"[37,0][540,63]\">\\r\\n            <node index=\"0\" text=\"\" resource-id=\"com.android.systemui:id/status_bar_left_side\" class=\"android.widget.LinearLayout\" package=\"com.android.systemui\" content-desc=\"\" checkable=\"false\" checked=\"false\" clickable=\"false\" enabled=\"true\" focusable=\"false\" focused=\"false\" scrollable=\"false\" long-clickable=\"false\" password=\"false\" selected=\"false\" bounds=\"[37,0][540,63]\">\\r\\n              <node index=\"0\" text=\"3:19\" resource-id=\"com.android.systemui:id/clock\" class=\"android.widget.TextView\" package=\"com.android.systemui\" content-desc=\"3:19 PM\" checkable=\"false\" checked=\"false\" clickable=\"false\" enabled=\"true\" focusable=\"false\" focused=\"false\" scrollable=\"false\" long-clickable=\"false\" password=\"false\" selected=\"false\" bounds=\"[37,0][128,63]\" />\\r\\n              <node index=\"1\" text=\"\" resource-id=\"com.android.systemui:id/notification_icon_area\" class=\"android.widget.FrameLayout\" package=\"com.android.systemui\" content-desc=\"\" checkable=\"false\" checked=\"false\" clickable=\"false\" enabled=\"true\" focusable=\"false\" focused=\"false\" scrollable=\"false\" long-clickable=\"false\" password=\"false\" selected=\"false\" bounds=\"[128,0][540,63]\">\\r\\n                <node index=\"0\" text=\"\" resource-id=\"com.android.systemui:id/notification_icon_area_inner\" class=\"android.widget.LinearLayout\" package=\"com.android.systemui\" content-desc=\"\" checkable=\"false\" checked=\"false\" clickable=\"false\" enabled=\"true\" focusable=\"false\" focused=\"false\" scrollable=\"false\" long-clickable=\"false\" password=\"false\" selected=\"false\" bounds=\"[128,0][540,63]\">\\r\\n                  <node index=\"0\" text=\"\" resource-id=\"com.android.systemui:id/notificationIcons\" class=\"android.widget.FrameLayout\" package=\"com.android.systemui\" content-desc=\"\" checkable=\"false\" checked=\"false\" clickable=\"false\" enabled=\"true\" focusable=\"false\" focused=\"false\" scrollable=\"false\" long-clickable=\"false\" password=\"false\" selected=\"false\" bounds=\"[128,0][540,63]\">\\r\\n                    <node index=\"0\" text=\"\" resource-id=\"\" class=\"android.widget.ImageView\" package=\"com.android.systemui\" content-desc=\"Music notification: Just to Save Me\" checkable=\"false\" checked=\"false\" clickable=\"false\" enabled=\"true\" focusable=\"false\" focused=\"false\" scrollable=\"false\" long-clickable=\"false\" password=\"false\" selected=\"false\" bounds=\"[128,0][186,63]\" />\\r\\n                    <node index=\"1\" text=\"\" resource-id=\"\" class=\"android.widget.ImageView\" package=\"com.android.systemui\" content-desc=\"Android Setup notification: Finish setting up your Android SDK built for x86\" checkable=\"false\" checked=\"false\" clickable=\"false\" enabled=\"true\" focusable=\"false\" focused=\"false\" scrollable=\"false\" long-clickable=\"false\" password=\"false\" selected=\"false\" bounds=\"[186,0][244,63]\" />\\r\\n                    <node index=\"2\" text=\"\" resource-id=\"\" class=\"android.widget.ImageView\" package=\"com.android.systemui\" content-desc=\"Google Play Store notification: Google Play Protect is turned on\" checkable=\"false\" checked=\"false\" clickable=\"false\" enabled=\"true\" focusable=\"false\" focused=\"false\" scrollable=\"false\" long-clickable=\"false\" password=\"false\" selected=\"false\" bounds=\"[244,0][302,63]\" />\\r\\n                    <node index=\"3\" text=\"\" resource-id=\"\" class=\"android.widget.ImageView\" package=\"com.android.systemui\" content-desc=\"Snaptee notification: Let’s bring out the Picasso in you. Check your email inbox &amp; activate account to gain full access to all features.\" checkable=\"false\" checked=\"false\" clickable=\"false\" enabled=\"true\" focusable=\"false\" focused=\"false\" scrollable=\"false\" long-clickable=\"false\" password=\"false\" selected=\"false\" bounds=\"[302,0][360,63]\" />\\r\\n                    <node index=\"4\" text=\"\" resource-id=\"\" class=\"android.widget.ImageView\" package=\"com.android.systemui\" content-desc=\"Settings notification: Virtual SD card\" checkable=\"false\" checked=\"false\" clickable=\"false\" enabled=\"true\" focusable=\"false\" focused=\"false\" scrollable=\"false\" long-clickable=\"false\" password=\"false\" selected=\"false\" bounds=\"[360,0][418,63]\" />\\r\\n                  </node>\\r\\n                </node>\\r\\n              </node>\\r\\n            </node>\\r\\n          </node>\\r\\n          <node index=\"1\" text=\"\" resource-id=\"com.android.systemui:id/system_icon_area\" class=\"android.widget.LinearLayout\" package=\"com.android.systemui\" content-desc=\"\" checkable=\"false\" checked=\"false\" clickable=\"false\" enabled=\"true\" focusable=\"false\" focused=\"false\" scrollable=\"false\" long-clickable=\"false\" password=\"false\" selected=\"false\" bounds=\"[540,0][1043,63]\">\\r\\n            <node index=\"0\" text=\"\" resource-id=\"com.android.systemui:id/system_icons\" class=\"android.widget.LinearLayout\" package=\"com.android.systemui\" content-desc=\"\" checkable=\"false\" checked=\"false\" clickable=\"false\" enabled=\"true\" focusable=\"false\" focused=\"false\" scrollable=\"false\" long-clickable=\"false\" password=\"false\" selected=\"false\" bounds=\"[540,0][1043,63]\">\\r\\n              <node index=\"0\" text=\"\" resource-id=\"com.android.systemui:id/statusIcons\" class=\"android.widget.LinearLayout\" package=\"com.android.systemui\" content-desc=\"\" checkable=\"false\" checked=\"false\" clickable=\"false\" enabled=\"true\" focusable=\"false\" focused=\"false\" scrollable=\"false\" long-clickable=\"false\" password=\"false\" selected=\"false\" bounds=\"[540,0][1021,63]\">\\r\\n                <node index=\"0\" text=\"\" resource-id=\"com.android.systemui:id/wifi_combo\" class=\"android.widget.FrameLayout\" package=\"com.android.systemui\" content-desc=\"Wifi signal full.\" checkable=\"false\" checked=\"false\" clickable=\"false\" enabled=\"true\" focusable=\"false\" focused=\"false\" scrollable=\"false\" long-clickable=\"false\" password=\"false\" selected=\"false\" bounds=\"[916,2][966,60]\">\\r\\n                  <node index=\"0\" text=\"\" resource-id=\"com.android.systemui:id/wifi_group\" class=\"android.widget.LinearLayout\" package=\"com.android.systemui\" content-desc=\"\" checkable=\"false\" checked=\"false\" clickable=\"false\" enabled=\"true\" focusable=\"false\" focused=\"false\" scrollable=\"false\" long-clickable=\"false\" password=\"false\" selected=\"false\" bounds=\"[923,2][966,60]\">\\r\\n                    <node index=\"0\" text=\"\" resource-id=\"com.android.systemui:id/wifi_combo\" class=\"android.widget.FrameLayout\" package=\"com.android.systemui\" content-desc=\"\" checkable=\"false\" checked=\"false\" clickable=\"false\" enabled=\"true\" focusable=\"false\" focused=\"false\" scrollable=\"false\" long-clickable=\"false\" password=\"false\" selected=\"false\" bounds=\"[923,11][966,50]\">\\r\\n                      <node index=\"0\" text=\"\" resource-id=\"com.android.systemui:id/wifi_signal\" class=\"android.widget.ImageView\" package=\"com.android.systemui\" content-desc=\"\" checkable=\"false\" checked=\"false\" clickable=\"false\" enabled=\"true\" focusable=\"false\" focused=\"false\" scrollable=\"false\" long-clickable=\"false\" password=\"false\" selected=\"false\" bounds=\"[923,11][966,50]\" />\\r\\n                    </node>\\r\\n                  </node>\\r\\n                </node>\\r\\n                <node index=\"1\" text=\"\" resource-id=\"com.android.systemui:id/mobile_combo\" class=\"android.widget.FrameLayout\" package=\"com.android.systemui\" content-desc=\"Phone two bars.\" checkable=\"false\" checked=\"false\" clickable=\"false\" enabled=\"true\" focusable=\"false\" focused=\"false\" scrollable=\"false\" long-clickable=\"false\" password=\"false\" selected=\"false\" bounds=\"[966,2][1005,60]\">\\r\\n                  <node index=\"0\" text=\"\" resource-id=\"com.android.systemui:id/mobile_group\" class=\"android.widget.LinearLayout\" package=\"com.android.systemui\" content-desc=\"\" checkable=\"false\" checked=\"false\" clickable=\"false\" enabled=\"true\" focusable=\"false\" focused=\"false\" scrollable=\"false\" long-clickable=\"false\" password=\"false\" selected=\"false\" bounds=\"[966,2][1005,60]\">\\r\\n                    <node index=\"0\" text=\"\" resource-id=\"\" class=\"android.widget.FrameLayout\" package=\"com.android.systemui\" content-desc=\"\" checkable=\"false\" checked=\"false\" clickable=\"false\" enabled=\"true\" focusable=\"false\" focused=\"false\" scrollable=\"false\" long-clickable=\"false\" password=\"false\" selected=\"false\" bounds=\"[966,11][1005,50]\">\\r\\n                      <node index=\"0\" text=\"\" resource-id=\"com.android.systemui:id/mobile_signal\" class=\"android.widget.ImageView\" package=\"com.android.systemui\" content-desc=\"\" checkable=\"false\" checked=\"false\" clickable=\"false\" enabled=\"true\" focusable=\"false\" focused=\"false\" scrollable=\"false\" long-clickable=\"false\" password=\"false\" selected=\"false\" bounds=\"[966,11][1005,50]\" />\\r\\n                    </node>\\r\\n                  </node>\\r\\n                </node>\\r\\n              </node>\\r\\n              <node index=\"1\" text=\"\" resource-id=\"com.android.systemui:id/battery\" class=\"android.widget.LinearLayout\" package=\"com.android.systemui\" content-desc=\"Battery charging, 100 percent.\" checkable=\"false\" checked=\"false\" clickable=\"false\" enabled=\"true\" focusable=\"false\" focused=\"false\" scrollable=\"false\" long-clickable=\"false\" password=\"false\" selected=\"false\" bounds=\"[1021,0][1043,63]\">\\r\\n                <node index=\"0\" text=\"\" resource-id=\"\" class=\"android.widget.ImageView\" package=\"com.android.systemui\" content-desc=\"\" checkable=\"false\" checked=\"false\" clickable=\"false\" enabled=\"true\" focusable=\"false\" focused=\"false\" scrollable=\"false\" long-clickable=\"false\" password=\"false\" selected=\"false\" bounds=\"[1021,14][1043,48]\" />\\r\\n              </node>\\r\\n            </node>\\r\\n          </node>\\r\\n        </node>\\r\\n      </node>\\r\\n    </node>\\r\\n  </node>\\r\\n  <node index=\"0\" text=\"\" resource-id=\"\" class=\"android.widget.FrameLayout\" package=\"com.maxfour.music\" content-desc=\"\" checkable=\"false\" checked=\"false\" clickable=\"false\" enabled=\"true\" focusable=\"false\" focused=\"false\" scrollable=\"false\" long-clickable=\"false\" password=\"false\" selected=\"false\" bounds=\"[0,0][1080,1794]\">\\r\\n    <node index=\"0\" text=\"\" resource-id=\"\" class=\"android.widget.LinearLayout\" package=\"com.maxfour.music\" content-desc=\"\" checkable=\"false\" checked=\"false\" clickable=\"false\" enabled=\"true\" focusable=\"false\" focused=\"false\" scrollable=\"false\" long-clickable=\"false\" password=\"false\" selected=\"false\" bounds=\"[0,0][1080,1794]\">\\r\\n      <node index=\"0\" text=\"\" resource-id=\"\" class=\"android.widget.FrameLayout\" package=\"com.maxfour.music\" content-desc=\"\" checkable=\"false\" checked=\"false\" clickable=\"false\" enabled=\"true\" focusable=\"false\" focused=\"false\" scrollable=\"false\" long-clickable=\"false\" password=\"false\" selected=\"false\" bounds=\"[0,0][1080,1794]\">\\r\\n        <node index=\"0\" text=\"\" resource-id=\"com.maxfour.music:id/action_bar_root\" class=\"android.widget.LinearLayout\" package=\"com.maxfour.music\" content-desc=\"\" checkable=\"false\" checked=\"false\" clickable=\"false\" enabled=\"true\" focusable=\"false\" focused=\"false\" scrollable=\"false\" long-clickable=\"false\" password=\"false\" selected=\"false\" bounds=\"[0,0][1080,1794]\">\\r\\n          <node index=\"0\" text=\"\" resource-id=\"android:id/content\" class=\"android.widget.FrameLayout\" package=\"com.maxfour.music\" content-desc=\"\" checkable=\"false\" checked=\"false\" clickable=\"false\" enabled=\"true\" focusable=\"false\" focused=\"false\" scrollable=\"false\" long-clickable=\"false\" password=\"false\" selected=\"false\" bounds=\"[0,0][1080,1794]\">\\r\\n            <node index=\"0\" text=\"\" resource-id=\"com.maxfour.music:id/sliding_layout\" class=\"android.view.ViewGroup\" package=\"com.maxfour.music\" content-desc=\"\" checkable=\"false\" checked=\"false\" clickable=\"false\" enabled=\"true\" focusable=\"false\" focused=\"false\" scrollable=\"false\" long-clickable=\"false\" password=\"false\" selected=\"false\" bounds=\"[0,0][1080,1794]\">\\r\\n              <node index=\"0\" text=\"\" resource-id=\"com.maxfour.music:id/sliding_panel\" class=\"android.widget.FrameLayout\" package=\"com.maxfour.music\" content-desc=\"\" checkable=\"false\" checked=\"false\" clickable=\"true\" enabled=\"true\" focusable=\"false\" focused=\"false\" scrollable=\"false\" long-clickable=\"false\" password=\"false\" selected=\"false\" bounds=\"[0,0][1080,1794]\">\\r\\n                <node index=\"0\" text=\"\" resource-id=\"com.maxfour.music:id/player_fragment_container\" class=\"android.widget.FrameLayout\" package=\"com.maxfour.music\" content-desc=\"\" checkable=\"false\" checked=\"false\" clickable=\"false\" enabled=\"true\" focusable=\"false\" focused=\"false\" scrollable=\"false\" long-clickable=\"false\" password=\"false\" selected=\"false\" bounds=\"[0,0][1080,1794]\">\\r\\n                  <node index=\"0\" text=\"\" resource-id=\"\" class=\"android.widget.FrameLayout\" package=\"com.maxfour.music\" content-desc=\"\" checkable=\"false\" checked=\"false\" clickable=\"false\" enabled=\"true\" focusable=\"false\" focused=\"false\" scrollable=\"false\" long-clickable=\"false\" password=\"false\" selected=\"false\" bounds=\"[0,0][1080,1794]\">\\r\\n                    <node index=\"0\" text=\"\" resource-id=\"com.maxfour.music:id/player_sliding_layout\" class=\"android.view.ViewGroup\" package=\"com.maxfour.music\" content-desc=\"\" checkable=\"false\" checked=\"false\" clickable=\"false\" enabled=\"true\" focusable=\"true\" focused=\"false\" scrollable=\"false\" long-clickable=\"false\" password=\"false\" selected=\"false\" bounds=\"[0,0][1080,1794]\">\\r\\n                      <node index=\"0\" text=\"\" resource-id=\"\" class=\"android.widget.FrameLayout\" package=\"com.maxfour.music\" content-desc=\"\" checkable=\"false\" checked=\"false\" clickable=\"false\" enabled=\"true\" focusable=\"false\" focused=\"false\" scrollable=\"false\" long-clickable=\"false\" password=\"false\" selected=\"false\" bounds=\"[0,0][1080,1794]\">\\r\\n                        <node index=\"0\" text=\"\" resource-id=\"com.maxfour.music:id/color_background\" class=\"android.view.View\" package=\"com.maxfour.music\" content-desc=\"\" checkable=\"false\" checked=\"false\" clickable=\"false\" enabled=\"true\" focusable=\"false\" focused=\"false\" scrollable=\"false\" long-clickable=\"false\" password=\"false\" selected=\"false\" bounds=\"[0,0][1080,1794]\" />\\r\\n                        <node index=\"1\" text=\"\" resource-id=\"com.maxfour.music:id/player_content\" class=\"android.widget.RelativeLayout\" package=\"com.maxfour.music\" content-desc=\"\" checkable=\"false\" checked=\"false\" clickable=\"false\" enabled=\"true\" focusable=\"false\" focused=\"false\" scrollable=\"false\" long-clickable=\"false\" password=\"false\" selected=\"false\" bounds=\"[0,0][1080,1448]\">\\r\\n                          <node index=\"0\" text=\"\" resource-id=\"com.maxfour.music:id/album_cover_container\" class=\"android.widget.FrameLayout\" package=\"com.maxfour.music\" content-desc=\"\" checkable=\"false\" checked=\"false\" clickable=\"false\" enabled=\"true\" focusable=\"false\" focused=\"false\" scrollable=\"false\" long-clickable=\"false\" password=\"false\" selected=\"false\" bounds=\"[0,0][1080,1080]\">\\r\\n                            <node index=\"0\" text=\"\" resource-id=\"com.maxfour.music:id/player_album_cover_fragment\" class=\"android.widget.FrameLayout\" package=\"com.maxfour.music\" content-desc=\"\" checkable=\"false\" checked=\"false\" clickable=\"false\" enabled=\"true\" focusable=\"false\" focused=\"false\" scrollable=\"false\" long-clickable=\"false\" password=\"false\" selected=\"false\" bounds=\"[0,0][1080,1080]\">\\r\\n                              <node index=\"0\" text=\"\" resource-id=\"com.maxfour.music:id/player_album_cover_viewpager\" class=\"android.support.v4.view.ViewPager\" package=\"com.maxfour.music\" content-desc=\"\" checkable=\"false\" checked=\"false\" clickable=\"false\" enabled=\"true\" focusable=\"true\" focused=\"false\" scrollable=\"false\" long-clickable=\"false\" password=\"false\" selected=\"false\" bounds=\"[0,0][1080,1080]\">\\r\\n                                <node index=\"0\" text=\"\" resource-id=\"com.maxfour.music:id/player_album_art_frame\" class=\"android.widget.FrameLayout\" package=\"com.maxfour.music\" content-desc=\"\" checkable=\"false\" checked=\"false\" clickable=\"false\" enabled=\"true\" focusable=\"false\" focused=\"false\" scrollable=\"false\" long-clickable=\"false\" password=\"false\" selected=\"false\" bounds=\"[0,0][1080,1080]\">\\r\\n                                  <node index=\"0\" text=\"\" resource-id=\"com.maxfour.music:id/player_image\" class=\"android.widget.ImageView\" package=\"com.maxfour.music\" content-desc=\"\" checkable=\"false\" checked=\"false\" clickable=\"false\" enabled=\"true\" focusable=\"false\" focused=\"false\" scrollable=\"false\" long-clickable=\"false\" password=\"false\" selected=\"false\" bounds=\"[0,0][1080,1080]\" />\\r\\n                                </node>\\r\\n                              </node>\\r\\n                            </node>\\r\\n                          </node>\\r\\n                          <node index=\"1\" text=\"\" resource-id=\"com.maxfour.music:id/playback_controls_fragment\" class=\"android.widget.LinearLayout\" package=\"com.maxfour.music\" content-desc=\"\" checkable=\"false\" checked=\"false\" clickable=\"false\" enabled=\"true\" focusable=\"false\" focused=\"false\" scrollable=\"false\" long-clickable=\"false\" password=\"false\" selected=\"false\" bounds=\"[0,1080][1080,1448]\">\\r\\n                            <node index=\"0\" text=\"\" resource-id=\"\" class=\"android.widget.RelativeLayout\" package=\"com.maxfour.music\" content-desc=\"\" checkable=\"false\" checked=\"false\" clickable=\"false\" enabled=\"true\" focusable=\"false\" focused=\"false\" scrollable=\"false\" long-clickable=\"false\" password=\"false\" selected=\"false\" bounds=\"[0,1080][1080,1133]\">\\r\\n                              <node index=\"0\" text=\"0:16\" resource-id=\"com.maxfour.music:id/player_song_current_progress\" class=\"android.widget.TextView\" package=\"com.maxfour.music\" content-desc=\"\" checkable=\"false\" checked=\"false\" clickable=\"false\" enabled=\"true\" focusable=\"false\" focused=\"false\" scrollable=\"false\" long-clickable=\"false\" password=\"false\" selected=\"false\" bounds=\"[0,1080][83,1133]\" />\\r\\n                              <node index=\"1\" text=\"\" resource-id=\"com.maxfour.music:id/player_progress_slider\" class=\"android.widget.SeekBar\" package=\"com.maxfour.music\" content-desc=\"\" checkable=\"false\" checked=\"false\" clickable=\"false\" enabled=\"true\" focusable=\"true\" focused=\"false\" scrollable=\"false\" long-clickable=\"false\" password=\"false\" selected=\"false\" bounds=\"[83,1080][997,1133]\" />\\r\\n                              <node index=\"2\" text=\"3:10\" resource-id=\"com.maxfour.music:id/player_song_total_time\" class=\"android.widget.TextView\" package=\"com.maxfour.music\" content-desc=\"\" checkable=\"false\" checked=\"false\" clickable=\"false\" enabled=\"true\" focusable=\"false\" focused=\"false\" scrollable=\"false\" long-clickable=\"false\" password=\"false\" selected=\"false\" bounds=\"[997,1080][1080,1133]\" />\\r\\n                            </node>\\r\\n                            <node index=\"1\" text=\"\" resource-id=\"com.maxfour.music:id/player_media_controller_container\" class=\"android.widget.RelativeLayout\" package=\"com.maxfour.music\" content-desc=\"\" checkable=\"false\" checked=\"false\" clickable=\"false\" enabled=\"true\" focusable=\"false\" focused=\"false\" scrollable=\"false\" long-clickable=\"false\" password=\"false\" selected=\"false\" bounds=\"[0,1133][1080,1448]\">\\r\\n                              <node NAF=\"true\" index=\"0\" text=\"\" resource-id=\"com.maxfour.music:id/player_repeat_button\" class=\"android.widget.ImageButton\" package=\"com.maxfour.music\" content-desc=\"\" checkable=\"false\" checked=\"false\" clickable=\"true\" enabled=\"true\" focusable=\"true\" focused=\"false\" scrollable=\"false\" long-clickable=\"false\" password=\"false\" selected=\"false\" bounds=\"[42,1196][231,1385]\" />\\r\\n                              <node NAF=\"true\" index=\"1\" text=\"\" resource-id=\"com.maxfour.music:id/player_prev_button\" class=\"android.widget.ImageButton\" package=\"com.maxfour.music\" content-desc=\"\" checkable=\"false\" checked=\"false\" clickable=\"true\" enabled=\"true\" focusable=\"true\" focused=\"false\" scrollable=\"false\" long-clickable=\"false\" password=\"false\" selected=\"false\" bounds=\"[298,1196][487,1385]\" />\\r\\n                              <node NAF=\"true\" index=\"2\" text=\"\" resource-id=\"com.maxfour.music:id/player_play_pause_fab\" class=\"android.widget.ImageButton\" package=\"com.maxfour.music\" content-desc=\"\" checkable=\"false\" checked=\"false\" clickable=\"true\" enabled=\"true\" focusable=\"true\" focused=\"false\" scrollable=\"false\" long-clickable=\"false\" password=\"false\" selected=\"false\" bounds=\"[466,1217][613,1364]\" />\\r\\n                              <node NAF=\"true\" index=\"3\" text=\"\" resource-id=\"com.maxfour.music:id/player_next_button\" class=\"android.widget.ImageButton\" package=\"com.maxfour.music\" content-desc=\"\" checkable=\"false\" checked=\"false\" clickable=\"true\" enabled=\"true\" focusable=\"true\" focused=\"false\" scrollable=\"false\" long-clickable=\"false\" password=\"false\" selected=\"false\" bounds=\"[592,1196][781,1385]\" />\\r\\n                              <node NAF=\"true\" index=\"4\" text=\"\" resource-id=\"com.maxfour.music:id/player_shuffle_button\" class=\"android.widget.ImageButton\" package=\"com.maxfour.music\" content-desc=\"\" checkable=\"false\" checked=\"false\" clickable=\"true\" enabled=\"true\" focusable=\"true\" focused=\"false\" scrollable=\"false\" long-clickable=\"false\" password=\"false\" selected=\"false\" bounds=\"[849,1196][1038,1385]\" />\\r\\n                            </node>\\r\\n                          </node>\\r\\n                        </node>\\r\\n                        <node index=\"2\" text=\"\" resource-id=\"com.maxfour.music:id/toolbar_container\" class=\"android.widget.FrameLayout\" package=\"com.maxfour.music\" content-desc=\"\" checkable=\"false\" checked=\"false\" clickable=\"false\" enabled=\"true\" focusable=\"false\" focused=\"false\" scrollable=\"false\" long-clickable=\"false\" password=\"false\" selected=\"false\" bounds=\"[0,0][1080,441]\">\\r\\n                          <node index=\"0\" text=\"\" resource-id=\"\" class=\"android.widget.RelativeLayout\" package=\"com.maxfour.music\" content-desc=\"\" checkable=\"false\" checked=\"false\" clickable=\"false\" enabled=\"true\" focusable=\"false\" focused=\"false\" scrollable=\"false\" long-clickable=\"false\" password=\"false\" selected=\"false\" bounds=\"[0,0][1080,441]\">\\r\\n                            <node index=\"0\" text=\"\" resource-id=\"\" class=\"android.view.View\" package=\"com.maxfour.music\" content-desc=\"\" checkable=\"false\" checked=\"false\" clickable=\"false\" enabled=\"true\" focusable=\"false\" focused=\"false\" scrollable=\"false\" long-clickable=\"false\" password=\"false\" selected=\"false\" bounds=\"[0,0][1080,126]\" />\\r\\n                            <node index=\"1\" text=\"\" resource-id=\"com.maxfour.music:id/dummy_statusbar_actionbar\" class=\"android.widget.LinearLayout\" package=\"com.maxfour.music\" content-desc=\"\" checkable=\"false\" checked=\"false\" clickable=\"false\" enabled=\"true\" focusable=\"false\" focused=\"false\" scrollable=\"false\" long-clickable=\"false\" password=\"false\" selected=\"false\" bounds=\"[0,0][1080,126]\">\\r\\n                              <node index=\"1\" text=\"\" resource-id=\"\" class=\"android.view.View\" package=\"com.maxfour.music\" content-desc=\"\" checkable=\"false\" checked=\"false\" clickable=\"false\" enabled=\"true\" focusable=\"false\" focused=\"false\" scrollable=\"false\" long-clickable=\"false\" password=\"false\" selected=\"false\" bounds=\"[0,63][1080,126]\" />\\r\\n                            </node>\\r\\n                          </node>\\r\\n                          <node index=\"1\" text=\"\" resource-id=\"\" class=\"android.widget.LinearLayout\" package=\"com.maxfour.music\" content-desc=\"\" checkable=\"false\" checked=\"false\" clickable=\"false\" enabled=\"true\" focusable=\"false\" focused=\"false\" scrollable=\"false\" long-clickable=\"false\" password=\"false\" selected=\"false\" bounds=\"[0,0][1080,210]\">\\r\\n                            <node index=\"1\" text=\"\" resource-id=\"com.maxfour.music:id/player_toolbar\" class=\"android.view.ViewGroup\" package=\"com.maxfour.music\" content-desc=\"\" checkable=\"false\" checked=\"false\" clickable=\"false\" enabled=\"true\" focusable=\"false\" focused=\"false\" scrollable=\"false\" long-clickable=\"false\" password=\"false\" selected=\"false\" bounds=\"[0,63][1080,210]\">\\r\\n                              <node NAF=\"true\" index=\"0\" text=\"\" resource-id=\"\" class=\"android.widget.ImageButton\" package=\"com.maxfour.music\" content-desc=\"\" checkable=\"false\" checked=\"false\" clickable=\"true\" enabled=\"true\" focusable=\"true\" focused=\"false\" scrollable=\"false\" long-clickable=\"false\" password=\"false\" selected=\"false\" bounds=\"[0,63][147,210]\" />\\r\\n                              <node index=\"1\" text=\"\" resource-id=\"\" class=\"android.support.v7.widget.LinearLayoutCompat\" package=\"com.maxfour.music\" content-desc=\"\" checkable=\"false\" checked=\"false\" clickable=\"false\" enabled=\"true\" focusable=\"false\" focused=\"false\" scrollable=\"false\" long-clickable=\"false\" password=\"false\" selected=\"false\" bounds=\"[848,63][1080,210]\">\\r\\n                                <node index=\"0\" text=\"\" resource-id=\"com.maxfour.music:id/action_toggle_favorite\" class=\"android.widget.TextView\" package=\"com.maxfour.music\" content-desc=\"Add to favorites\" checkable=\"false\" checked=\"false\" clickable=\"true\" enabled=\"true\" focusable=\"true\" focused=\"false\" scrollable=\"false\" long-clickable=\"false\" password=\"false\" selected=\"false\" bounds=\"[848,73][975,199]\" />\\r\\n                                <node index=\"1\" text=\"\" resource-id=\"\" class=\"android.widget.ImageView\" package=\"com.maxfour.music\" content-desc=\"More options\" checkable=\"false\" checked=\"false\" clickable=\"true\" enabled=\"true\" focusable=\"true\" focused=\"false\" scrollable=\"false\" long-clickable=\"true\" password=\"false\" selected=\"false\" bounds=\"[975,73][1080,199]\" />\\r\\n                              </node>\\r\\n                            </node>\\r\\n                          </node>\\r\\n                        </node>\\r\\n                      </node>\\r\\n                      <node index=\"1\" text=\"\" resource-id=\"com.maxfour.music:id/player_panel\" class=\"android.widget.FrameLayout\" package=\"com.maxfour.music\" content-desc=\"\" checkable=\"false\" checked=\"false\" clickable=\"true\" enabled=\"true\" focusable=\"false\" focused=\"false\" scrollable=\"false\" long-clickable=\"false\" password=\"false\" selected=\"false\" bounds=\"[0,1427][1080,1794]\">\\r\\n                        <node index=\"0\" text=\"\" resource-id=\"com.maxfour.music:id/playing_queue_card\" class=\"android.widget.FrameLayout\" package=\"com.maxfour.music\" content-desc=\"\" checkable=\"false\" checked=\"false\" clickable=\"false\" enabled=\"true\" focusable=\"false\" focused=\"false\" scrollable=\"false\" long-clickable=\"false\" password=\"false\" selected=\"false\" bounds=\"[42,1448][1038,1794]\">\\r\\n                          <node index=\"0\" text=\"\" resource-id=\"\" class=\"android.widget.RelativeLayout\" package=\"com.maxfour.music\" content-desc=\"\" checkable=\"false\" checked=\"false\" clickable=\"false\" enabled=\"true\" focusable=\"false\" focused=\"false\" scrollable=\"false\" long-clickable=\"false\" password=\"false\" selected=\"false\" bounds=\"[42,1448][1038,1794]\">\\r\\n                            <node index=\"0\" text=\"\" resource-id=\"com.maxfour.music:id/card_content\" class=\"android.widget.LinearLayout\" package=\"com.maxfour.music\" content-desc=\"\" checkable=\"false\" checked=\"false\" clickable=\"false\" enabled=\"true\" focusable=\"false\" focused=\"false\" scrollable=\"false\" long-clickable=\"false\" password=\"false\" selected=\"false\" bounds=\"[42,1448][1038,1794]\">\\r\\n                              <node index=\"0\" text=\"\" resource-id=\"com.maxfour.music:id/current_song\" class=\"android.widget.FrameLayout\" package=\"com.maxfour.music\" content-desc=\"\" checkable=\"false\" checked=\"false\" clickable=\"true\" enabled=\"true\" focusable=\"true\" focused=\"false\" scrollable=\"false\" long-clickable=\"true\" password=\"false\" selected=\"false\" bounds=\"[42,1448][1038,1637]\">\\r\\n                                <node index=\"0\" text=\"\" resource-id=\"\" class=\"android.widget.LinearLayout\" package=\"com.maxfour.music\" content-desc=\"\" checkable=\"false\" checked=\"false\" clickable=\"false\" enabled=\"true\" focusable=\"false\" focused=\"false\" scrollable=\"false\" long-clickable=\"false\" password=\"false\" selected=\"false\" bounds=\"[42,1448][1038,1637]\">\\r\\n                                  <node index=\"0\" text=\"\" resource-id=\"com.maxfour.music:id/image_container\" class=\"android.widget.FrameLayout\" package=\"com.maxfour.music\" content-desc=\"\" checkable=\"false\" checked=\"false\" clickable=\"false\" enabled=\"true\" focusable=\"false\" focused=\"false\" scrollable=\"false\" long-clickable=\"false\" password=\"false\" selected=\"false\" bounds=\"[42,1448][189,1637]\">\\r\\n                                    <node index=\"0\" text=\"\" resource-id=\"com.maxfour.music:id/image\" class=\"android.widget.ImageView\" package=\"com.maxfour.music\" content-desc=\"\" checkable=\"false\" checked=\"false\" clickable=\"false\" enabled=\"true\" focusable=\"false\" focused=\"false\" scrollable=\"false\" long-clickable=\"false\" password=\"false\" selected=\"false\" bounds=\"[84,1490][189,1595]\" />\\r\\n                                  </node>\\r\\n                                  <node index=\"1\" text=\"\" resource-id=\"\" class=\"android.widget.LinearLayout\" package=\"com.maxfour.music\" content-desc=\"\" checkable=\"false\" checked=\"false\" clickable=\"false\" enabled=\"true\" focusable=\"false\" focused=\"false\" scrollable=\"false\" long-clickable=\"false\" password=\"false\" selected=\"false\" bounds=\"[189,1488][870,1596]\">\\r\\n                                    <node index=\"0\" text=\"Just to Save Me\" resource-id=\"com.maxfour.music:id/title\" class=\"android.widget.TextView\" package=\"com.maxfour.music\" content-desc=\"\" checkable=\"false\" checked=\"false\" clickable=\"false\" enabled=\"true\" focusable=\"false\" focused=\"false\" scrollable=\"false\" long-clickable=\"false\" password=\"false\" selected=\"false\" bounds=\"[231,1488][530,1545]\" />\\r\\n                                    <node index=\"1\" text=\"&lt;unknown&gt;\" resource-id=\"com.maxfour.music:id/text\" class=\"android.widget.TextView\" package=\"com.maxfour.music\" content-desc=\"\" checkable=\"false\" checked=\"false\" clickable=\"false\" enabled=\"true\" focusable=\"false\" focused=\"false\" scrollable=\"false\" long-clickable=\"false\" password=\"false\" selected=\"false\" bounds=\"[231,1545][417,1596]\" />\\r\\n                                  </node>\\r\\n                                  <node NAF=\"true\" index=\"2\" text=\"\" resource-id=\"com.maxfour.music:id/menu\" class=\"android.widget.ImageView\" package=\"com.maxfour.music\" content-desc=\"\" checkable=\"false\" checked=\"false\" clickable=\"true\" enabled=\"true\" focusable=\"false\" focused=\"false\" scrollable=\"false\" long-clickable=\"false\" password=\"false\" selected=\"false\" bounds=\"[891,1479][1017,1605]\" />\\r\\n                                </node>\\r\\n                                <node index=\"1\" text=\"\" resource-id=\"com.maxfour.music:id/separator\" class=\"android.view.View\" package=\"com.maxfour.music\" content-desc=\"\" checkable=\"false\" checked=\"false\" clickable=\"false\" enabled=\"true\" focusable=\"false\" focused=\"false\" scrollable=\"false\" long-clickable=\"false\" password=\"false\" selected=\"false\" bounds=\"[42,1634][1038,1637]\" />\\r\\n                              </node>\\r\\n                              <node index=\"1\" text=\"Up next  •  0:00\" resource-id=\"com.maxfour.music:id/player_queue_sub_header\" class=\"android.widget.TextView\" package=\"com.maxfour.music\" content-desc=\"\" checkable=\"false\" checked=\"false\" clickable=\"false\" enabled=\"true\" focusable=\"false\" focused=\"false\" scrollable=\"false\" long-clickable=\"false\" password=\"false\" selected=\"false\" bounds=\"[42,1637][1038,1763]\" />\\r\\n                              <node index=\"2\" text=\"\" resource-id=\"com.maxfour.music:id/player_recycler_view\" class=\"android.support.v7.widget.RecyclerView\" package=\"com.maxfour.music\" content-desc=\"\" checkable=\"false\" checked=\"false\" clickable=\"false\" enabled=\"true\" focusable=\"true\" focused=\"true\" scrollable=\"false\" long-clickable=\"false\" password=\"false\" selected=\"false\" bounds=\"[42,1763][1038,1794]\">\\r\\n                                <node index=\"0\" text=\"\" resource-id=\"\" class=\"android.widget.FrameLayout\" package=\"com.maxfour.music\" content-desc=\"\" checkable=\"false\" checked=\"false\" clickable=\"true\" enabled=\"true\" focusable=\"true\" focused=\"false\" scrollable=\"false\" long-clickable=\"true\" password=\"false\" selected=\"false\" bounds=\"[42,1763][1038,1794]\">\\r\\n                                  <node index=\"0\" text=\"\" resource-id=\"\" class=\"android.widget.LinearLayout\" package=\"com.maxfour.music\" content-desc=\"\" checkable=\"false\" checked=\"false\" clickable=\"false\" enabled=\"true\" focusable=\"false\" focused=\"false\" scrollable=\"false\" long-clickable=\"false\" password=\"false\" selected=\"false\" bounds=\"[42,1763][1038,1794]\">\\r\\n                                    <node index=\"0\" text=\"\" resource-id=\"com.maxfour.music:id/image_container\" class=\"android.widget.FrameLayout\" package=\"com.maxfour.music\" content-desc=\"\" checkable=\"false\" checked=\"false\" clickable=\"false\" enabled=\"true\" focusable=\"false\" focused=\"false\" scrollable=\"false\" long-clickable=\"false\" password=\"false\" selected=\"false\" bounds=\"[42,1763][189,1794]\">\\r\\n                                      <node index=\"0\" text=\"0\" resource-id=\"com.maxfour.music:id/image_text\" class=\"android.widget.TextView\" package=\"com.maxfour.music\" content-desc=\"\" checkable=\"false\" checked=\"false\" clickable=\"false\" enabled=\"true\" focusable=\"false\" focused=\"false\" scrollable=\"false\" long-clickable=\"false\" password=\"false\" selected=\"false\" bounds=\"[84,1763][189,1794]\" />\\r\\n                                    </node>\\r\\n                                  </node>\\r\\n                                </node>\\r\\n                              </node>\\r\\n                            </node>\\r\\n                            <node index=\"1\" text=\"\" resource-id=\"com.maxfour.music:id/draggable_area\" class=\"android.view.View\" package=\"com.maxfour.music\" content-desc=\"\" checkable=\"false\" checked=\"false\" clickable=\"false\" enabled=\"true\" focusable=\"false\" focused=\"false\" scrollable=\"false\" long-clickable=\"false\" password=\"false\" selected=\"false\" bounds=\"[42,1763][231,1794]\" />\\r\\n                          </node>\\r\\n                        </node>\\r\\n                      </node>\\r\\n                    </node>\\r\\n                  </node>\\r\\n                </node>\\r\\n              </node>\\r\\n            </node>\\r\\n          </node>\\r\\n        </node>\\r\\n      </node>\\r\\n    </node>\\r\\n  </node>\\r\\n</hierarchy>'"
      ]
     },
     "execution_count": 84,
     "metadata": {},
     "output_type": "execute_result"
    }
   ],
   "source": [
    "d.dump(\"hierarchy.xml\", compressed=False)"
   ]
  },
  {
   "cell_type": "code",
   "execution_count": 104,
   "metadata": {},
   "outputs": [
    {
     "data": {
      "text/plain": [
       "{'bounds': {'bottom': 1794, 'left': 0, 'right': 1080, 'top': 63},\n",
       " 'childCount': 7,\n",
       " 'className': 'android.webkit.WebView',\n",
       " 'contentDescription': None,\n",
       " 'packageName': 'com.uberspot.a2048',\n",
       " 'resourceName': None,\n",
       " 'text': '2048',\n",
       " 'visibleBounds': {'bottom': 1794, 'left': 0, 'right': 1080, 'top': 63},\n",
       " 'checkable': False,\n",
       " 'checked': False,\n",
       " 'clickable': False,\n",
       " 'enabled': True,\n",
       " 'focusable': True,\n",
       " 'focused': True,\n",
       " 'longClickable': False,\n",
       " 'scrollable': True,\n",
       " 'selected': False}"
      ]
     },
     "execution_count": 104,
     "metadata": {},
     "output_type": "execute_result"
    }
   ],
   "source": [
    "d(scrollable='true').info"
   ]
  },
  {
   "cell_type": "code",
   "execution_count": 82,
   "metadata": {},
   "outputs": [
    {
     "data": {
      "text/plain": [
       "'<?xml version=\\'1.0\\' encoding=\\'UTF-8\\' standalone=\\'yes\\' ?>\\r\\n<hierarchy rotation=\"1\">\\r\\n  <node index=\"0\" text=\"\" resource-id=\"com.android.systemui:id/navigation_bar_frame\" class=\"android.widget.FrameLayout\" package=\"com.android.systemui\" content-desc=\"\" checkable=\"false\" checked=\"false\" clickable=\"false\" enabled=\"true\" focusable=\"false\" focused=\"false\" scrollable=\"false\" long-clickable=\"false\" password=\"false\" selected=\"false\" bounds=\"[1794,0][1920,1080]\">\\r\\n    <node index=\"0\" text=\"\" resource-id=\"\" class=\"android.widget.FrameLayout\" package=\"com.android.systemui\" content-desc=\"\" checkable=\"false\" checked=\"false\" clickable=\"false\" enabled=\"true\" focusable=\"false\" focused=\"false\" scrollable=\"false\" long-clickable=\"false\" password=\"false\" selected=\"false\" bounds=\"[1794,0][1920,1080]\">\\r\\n      <node index=\"0\" text=\"\" resource-id=\"com.android.systemui:id/menu\" class=\"android.widget.ImageView\" package=\"com.android.systemui\" content-desc=\"Menu\" checkable=\"false\" checked=\"false\" clickable=\"true\" enabled=\"true\" focusable=\"true\" focused=\"false\" scrollable=\"false\" long-clickable=\"true\" password=\"false\" selected=\"false\" bounds=\"[1794,42][1920,141]\" />\\r\\n      <node index=\"1\" text=\"\" resource-id=\"com.android.systemui:id/recent_apps\" class=\"android.widget.ImageView\" package=\"com.android.systemui\" content-desc=\"Overview\" checkable=\"false\" checked=\"false\" clickable=\"true\" enabled=\"true\" focusable=\"true\" focused=\"false\" scrollable=\"false\" long-clickable=\"true\" password=\"false\" selected=\"false\" bounds=\"[1794,141][1920,340]\" />\\r\\n      <node index=\"2\" text=\"\" resource-id=\"com.android.systemui:id/back\" class=\"android.widget.ImageView\" package=\"com.android.systemui\" content-desc=\"Back\" checkable=\"false\" checked=\"false\" clickable=\"true\" enabled=\"true\" focusable=\"true\" focused=\"false\" scrollable=\"false\" long-clickable=\"true\" password=\"false\" selected=\"false\" bounds=\"[1794,738][1920,938]\" />\\r\\n      <node index=\"3\" text=\"\" resource-id=\"com.android.systemui:id/home\" class=\"android.widget.FrameLayout\" package=\"com.android.systemui\" content-desc=\"\" checkable=\"false\" checked=\"false\" clickable=\"true\" enabled=\"true\" focusable=\"true\" focused=\"false\" scrollable=\"false\" long-clickable=\"false\" password=\"false\" selected=\"false\" bounds=\"[1794,435][1920,645]\">\\r\\n        <node index=\"0\" text=\"\" resource-id=\"com.android.systemui:id/home_button\" class=\"android.widget.ImageView\" package=\"com.android.systemui\" content-desc=\"Home\" checkable=\"false\" checked=\"false\" clickable=\"true\" enabled=\"true\" focusable=\"true\" focused=\"false\" scrollable=\"false\" long-clickable=\"true\" password=\"false\" selected=\"false\" bounds=\"[1794,435][1920,645]\" />\\r\\n      </node>\\r\\n    </node>\\r\\n  </node>\\r\\n  <node index=\"0\" text=\"\" resource-id=\"\" class=\"android.widget.FrameLayout\" package=\"com.traffar.a24game\" content-desc=\"\" checkable=\"false\" checked=\"false\" clickable=\"false\" enabled=\"true\" focusable=\"false\" focused=\"false\" scrollable=\"false\" long-clickable=\"false\" password=\"false\" selected=\"false\" bounds=\"[0,0][1794,1080]\">\\r\\n    <node index=\"0\" text=\"\" resource-id=\"\" class=\"android.view.View\" package=\"com.traffar.a24game\" content-desc=\"\" checkable=\"false\" checked=\"false\" clickable=\"false\" enabled=\"true\" focusable=\"true\" focused=\"true\" scrollable=\"false\" long-clickable=\"false\" password=\"false\" selected=\"false\" bounds=\"[0,0][1794,1080]\" />\\r\\n  </node>\\r\\n</hierarchy>'"
      ]
     },
     "execution_count": 82,
     "metadata": {},
     "output_type": "execute_result"
    }
   ],
   "source": [
    "d.dump(\"hierarchy.xml\")"
   ]
  },
  {
   "cell_type": "code",
   "execution_count": 40,
   "metadata": {},
   "outputs": [],
   "source": [
    "d.watcher(\"AUTO_FC_WHEN_ANR\").when(clickable=\"true\").click(text=\"\")"
   ]
  },
  {
   "cell_type": "code",
   "execution_count": 23,
   "metadata": {},
   "outputs": [
    {
     "data": {
      "text/plain": [
       "False"
      ]
     },
     "execution_count": 23,
     "metadata": {},
     "output_type": "execute_result"
    }
   ],
   "source": [
    "d(scrollable=True).fling.vert.backward()"
   ]
  },
  {
   "cell_type": "code",
   "execution_count": 21,
   "metadata": {},
   "outputs": [
    {
     "data": {
      "text/plain": [
       "True"
      ]
     },
     "execution_count": 21,
     "metadata": {},
     "output_type": "execute_result"
    }
   ],
   "source": [
    "d(clickable=True, instance=3).click()"
   ]
  },
  {
   "cell_type": "code",
   "execution_count": 1,
   "metadata": {},
   "outputs": [],
   "source": [
    "import xml.sax\n",
    "import os\n",
    "from uiautomator import device as d\n",
    "import re\n",
    "import subprocess\n",
    "import time\n",
    "android_home = os.environ['ANDROID_HOME'] + '/'"
   ]
  },
  {
   "cell_type": "code",
   "execution_count": 9,
   "metadata": {},
   "outputs": [],
   "source": [
    "def findFiles(rootdir):\n",
    "    #find all files under the rootdir\n",
    "    files = []\n",
    "    list = os.listdir(rootdir)\n",
    "    for subPath in list:\n",
    "        path = os.path.join(rootdir,subPath)\n",
    "        if os.path.isdir(path):\n",
    "            files.extend(findFiles(path))\n",
    "        if os.path.isfile(path):\n",
    "            files.append(path)\n",
    "    return files\n",
    "\n",
    "# class MyHandler( xml.sax.ContentHandler ):\n",
    "#     def __init__(self, resourceIDList):\n",
    "#         self.resourceIDList = resourceIDList\n",
    " \n",
    "#    # 元素开始事件处理\n",
    "#     def startElement(self, tag, attributes):\n",
    "#         self.CurrentData = tag\n",
    "#         if attributes.get('package') != 'com.android.systemui':\n",
    "#             resourceID = str(attributes.get('resource-id'))\n",
    "#             bounds = str(attributes.get('bounds'))\n",
    "#             find = resourceID.find('/')\n",
    "#             if find != -1:\n",
    "#                 resourceID = str(resourceID[find+1:])\n",
    "#                 self.resourceIDList[resourceID] = bounds\n",
    "                \n",
    "class FindLayoutHandler (xml.sax.ContentHandler):\n",
    "    def __init__(self, appName, resultList):\n",
    "        self.appName = appName\n",
    "        self.resultList = resultList\n",
    " \n",
    "    def startElement(self, tag, attributes):\n",
    "        self.CurrentData = tag\n",
    "        if ('.' in tag) and (not 'android' in tag) and (not self.appName in tag):\n",
    "            resourceID = str(attributes.get('android:id'))\n",
    "            find = resourceID.find('/')\n",
    "            if find != -1:\n",
    "                resourceID = resourceID[find+1:]\n",
    "            if resourceID in self.resultList:\n",
    "                self.resultList[resourceID].append(tag)\n",
    "            else:\n",
    "                self.resultList[resourceID] = [tag]"
   ]
  },
  {
   "cell_type": "code",
   "execution_count": 10,
   "metadata": {},
   "outputs": [],
   "source": [
    "def getThirdPartyComponents(appName, layoutFolder):\n",
    "    resultList = {}\n",
    "    if not os.path.exists(layoutFolder):\n",
    "        return resultList\n",
    "    files = findFiles(layoutFolder)\n",
    "    for file in files:\n",
    "        if file.endswith('.xml'):\n",
    "            parser = xml.sax.make_parser()\n",
    "            parser.setFeature(xml.sax.handler.feature_namespaces, 0)\n",
    "            Handler = FindLayoutHandler(appName, resultList)\n",
    "            parser.setContentHandler( Handler )\n",
    "            parser.parse(file)\n",
    "            resultList = Handler.resultList\n",
    "    return resultList"
   ]
  },
  {
   "cell_type": "code",
   "execution_count": 11,
   "metadata": {},
   "outputs": [],
   "source": [
    "# class LayoutHandler (xml.sax.ContentHandler):\n",
    "#     def __init__(self, appName, hasThirdParty):\n",
    "#         self.appName = appName\n",
    "#         self.hasThirdParty = hasThirdParty\n",
    " \n",
    "#     def startElement(self, tag, attributes):\n",
    "#         self.CurrentData = tag\n",
    "#         if ('.' in tag) and (not 'android' in tag) and (not self.appName in tag):\n",
    "#             self.hasThirdParty = True"
   ]
  },
  {
   "cell_type": "code",
   "execution_count": 12,
   "metadata": {},
   "outputs": [],
   "source": [
    "# def hasThirdParty(path):\n",
    "#     layoutPath = os.path.join(path,'resources','res','layout')\n",
    "#     if (os.path.exists(layoutPath)):\n",
    "#         xmlFiles = os.listdir(layoutPath)\n",
    "#         hasThirdParty = False\n",
    "#         appName = path.split('/')[-1].split('.')[1]\n",
    "#         for file in xmlFiles:\n",
    "#             filePath = os.path.join(layoutPath,file)\n",
    "#             if os.path.isfile(filePath) and filePath.endswith('.xml'):\n",
    "#                 parser = xml.sax.make_parser()\n",
    "#                 parser.setFeature(xml.sax.handler.feature_namespaces, 0)\n",
    "#                 Handler = LayoutHandler(appName, hasThirdParty)\n",
    "#                 parser.setContentHandler( Handler )\n",
    "#                 parser.parse(filePath)\n",
    "#                 hasThirdParty = Handler.hasThirdParty\n",
    "#             if hasThirdParty:\n",
    "#                     return True\n",
    "#     return False\n",
    "    \n",
    "    \n",
    "def getList(folderPath):\n",
    "    files = []\n",
    "    list = os.listdir(folderPath)\n",
    "    appList = 'appList.txt'\n",
    "    writePath = os.path.join(folderPath,appList)\n",
    "    writeFile = open(writePath, 'w')\n",
    "    for subPath in list:\n",
    "        path = os.path.join(folderPath,subPath)\n",
    "        if os.path.isdir(path):\n",
    "            writeFile.write(path.split('/')[-1] + '.apk' + '\\n')\n",
    "#             if hasThirdParty(path):\n",
    "#                 writeFile.write(path.split('/')[-1] + '.apk' + '\\n')\n",
    "    writeFile.close()"
   ]
  },
  {
   "cell_type": "code",
   "execution_count": 13,
   "metadata": {
    "scrolled": false
   },
   "outputs": [],
   "source": [
    "rootDir = '/Users/xikaioliver/Desktop/APK'\n",
    "getList(rootDir)\n",
    "appList = os.path.join(rootDir,'appList.txt')\n",
    "\n",
    "with open(appList, 'r') as f:\n",
    "        apks_to_test = [line.rstrip() for line in f]\n",
    "f.close()\n",
    "\n",
    "for apk in apks_to_test:\n",
    "        m = re.findall('^(.*)_.*\\.apk', apk)\n",
    "        packageName = m[0]\n",
    "        try:\n",
    "            ps = subprocess.Popen([android_home + 'build-tools/26.0.1/aapt', 'dump', 'badging', os.path.join(rootDir,apk)],\n",
    "                                  stdout=subprocess.PIPE)\n",
    "            output = subprocess.check_output(('grep', 'launchable-activity:'), stdin=ps.stdout)\n",
    "            label = output.decode('utf-8')\n",
    "        except subprocess.CalledProcessError:\n",
    "            continue\n",
    "        m = re.findall('^launchable-activity:(.*)$', label)\n",
    "        try:\n",
    "            startActivity = m[0].split()[0][6:-1]\n",
    "        except IndexError:\n",
    "            continue\n",
    "        else:\n",
    "            thirdPartyComponents = getThirdPartyComponents(packageName.split('.')[1], os.path.join(rootDir, apk[:-4], 'resources','res','layout'))\n",
    "            if len(thirdPartyComponents) > 0:\n",
    "                continue;\n",
    "#                 test(apk, startActivity, packageName)"
   ]
  },
  {
   "cell_type": "code",
   "execution_count": 136,
   "metadata": {},
   "outputs": [],
   "source": [
    "def test(apk, startActivity, packageName):\n",
    "    d.press('home')\n",
    "    subprocess.Popen(['adb', 'install', os.path.join(rootDir,apk)])\n",
    "    subprocess.Popen(['adb', 'shell', 'am', 'start', '-n', packageName + '/' + startActivity])\n",
    "    time.sleep(10)\n",
    "    \n",
    "    \n",
    "    #遍历5min\n",
    "    \n",
    "    \n",
    "    subprocess.Popen(['adb', 'shell', 'am', 'force-stop', packageName])\n",
    "    d.press('home')"
   ]
  },
  {
   "cell_type": "code",
   "execution_count": 19,
   "metadata": {},
   "outputs": [],
   "source": [
    "class DumpFileHandler( xml.sax.ContentHandler ):\n",
    "    def __init__(self, thirdPartyComponentList):\n",
    "        self.thirdPartyComponentList = thirdPartyComponentList\n",
    "\n",
    "    def startElement(self, tag, attributes):\n",
    "        self.CurrentData = tag\n",
    "        if attributes.get('package') != 'com.android.systemui':\n",
    "            resourceID = str(attributes.get('resource-id'))\n",
    "            bounds = str(attributes.get('bounds'))\n",
    "            find = resourceID.find('/')\n",
    "            if find != -1:\n",
    "                resourceID = str(resourceID[find+1:])\n",
    "                if resourceID in thirdPartyComponents:\n",
    "                    self.thirdPartyComponentList[resourceID] = bounds\n",
    "\n",
    "def traverse(pageNum, resultFolder):\n",
    "#     d.dump('temp.xml', compressed=False)\n",
    "#     thirdPartyComponentList = {}\n",
    "#     parser = xml.sax.make_parser()\n",
    "#     parser.setFeature(xml.sax.handler.feature_namespaces, 0)\n",
    "#     Handler = DumpFileHandler(thirdPartyComponentList)\n",
    "#     parser.setContentHandler( Handler )\n",
    "#     parser.parse('temp.xml')\n",
    "#     thirdPartyComponentList = Handler.thirdPartyComponentList\n",
    "    \n",
    "#     if len(thirdPartyComponentList) > 0:\n",
    "#         d.screenshot(os.path.join(resultFolder, str(pageNum) + \".png\"))\n",
    "#         d.dump(os.path.join(resultFolder, str(pageNum) + \".xml\"), compressed=False)\n",
    "#         writePath = os.path.join(resultFolder, str(pageNum) + '.txt')\n",
    "#         writeFile = open(writePath, 'w')\n",
    "#         for component in thirdPartyComponentList:\n",
    "#             writeFile.write(component + '\\n')\n",
    "#         writeFile.close()\n",
    "\n",
    "    componentList = {}\n",
    "    length = len(d(packageName = packageName, clickable=True))\n",
    "    print('Yes')\n",
    "    print(length)\n",
    "    for i in range(length):\n",
    "        d(packageName = packageName, clickable=True)[i].click()\n",
    "#     for component in UISelectorList:\n",
    "#         componentList[component] = 'clickable'\n",
    "#     print(len(componentList.keys()))\n",
    "#     for component in componentList.keys():\n",
    "#         if componentList[component] == 'clickable':\n",
    "#             print('trying')\n",
    "#             component.click()"
   ]
  },
  {
   "cell_type": "code",
   "execution_count": 22,
   "metadata": {},
   "outputs": [
    {
     "name": "stdout",
     "output_type": "stream",
     "text": [
      "Yes\n",
      "3\n"
     ]
    }
   ],
   "source": [
    "traverse(1, '/Users/xikaioliver/Desktop/Result')"
   ]
  },
  {
   "cell_type": "code",
   "execution_count": 15,
   "metadata": {},
   "outputs": [],
   "source": [
    "packageName = 'at.bitfire.icsdroid'"
   ]
  },
  {
   "cell_type": "code",
   "execution_count": null,
   "metadata": {},
   "outputs": [],
   "source": [
    "d(packageName = packageName, clickable=True)[0]"
   ]
  },
  {
   "cell_type": "code",
   "execution_count": null,
   "metadata": {},
   "outputs": [],
   "source": []
  }
 ],
 "metadata": {
  "kernelspec": {
   "display_name": "Python 3",
   "language": "python",
   "name": "python3"
  },
  "language_info": {
   "codemirror_mode": {
    "name": "ipython",
    "version": 3
   },
   "file_extension": ".py",
   "mimetype": "text/x-python",
   "name": "python",
   "nbconvert_exporter": "python",
   "pygments_lexer": "ipython3",
   "version": "3.6.5"
  }
 },
 "nbformat": 4,
 "nbformat_minor": 2
}
