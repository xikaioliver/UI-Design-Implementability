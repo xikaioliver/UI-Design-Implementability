{
 "cells": [
  {
   "cell_type": "code",
   "execution_count": 4,
   "metadata": {},
   "outputs": [
    {
     "data": {
      "text/plain": [
       "{'currentPackageName': 'com.poupa.vinylmusicplayer',\n",
       " 'displayHeight': 1794,\n",
       " 'displayRotation': 0,\n",
       " 'displaySizeDpX': 411,\n",
       " 'displaySizeDpY': 731,\n",
       " 'displayWidth': 1080,\n",
       " 'productName': 'sdk_gphone_x86',\n",
       " 'screenOn': True,\n",
       " 'sdkInt': 28,\n",
       " 'naturalOrientation': True}"
      ]
     },
     "execution_count": 4,
     "metadata": {},
     "output_type": "execute_result"
    }
   ],
   "source": [
    "from uiautomator import device as d\n",
    "d.info"
   ]
  },
  {
   "cell_type": "code",
   "execution_count": 3,
   "metadata": {},
   "outputs": [],
   "source": [
    "d.screen.on()"
   ]
  },
  {
   "cell_type": "code",
   "execution_count": 8,
   "metadata": {},
   "outputs": [
    {
     "data": {
      "text/plain": [
       "True"
      ]
     },
     "execution_count": 8,
     "metadata": {},
     "output_type": "execute_result"
    }
   ],
   "source": [
    "d.press.camera()"
   ]
  },
  {
   "cell_type": "code",
   "execution_count": 14,
   "metadata": {},
   "outputs": [
    {
     "data": {
      "text/plain": [
       "'natural'"
      ]
     },
     "execution_count": 14,
     "metadata": {},
     "output_type": "execute_result"
    }
   ],
   "source": [
    "d.orientation"
   ]
  },
  {
   "cell_type": "code",
   "execution_count": 90,
   "metadata": {},
   "outputs": [
    {
     "data": {
      "text/plain": [
       "'home.png'"
      ]
     },
     "execution_count": 90,
     "metadata": {},
     "output_type": "execute_result"
    }
   ],
   "source": [
    "d.screenshot(\"home.png\")"
   ]
  },
  {
   "cell_type": "code",
   "execution_count": 84,
   "metadata": {},
   "outputs": [
    {
     "data": {
      "text/plain": [
       "'<?xml version=\\'1.0\\' encoding=\\'UTF-8\\' standalone=\\'yes\\' ?>\\r\\n<hierarchy rotation=\"0\">\\r\\n  <node index=\"0\" text=\"\" resource-id=\"com.android.systemui:id/navigation_bar_frame\" class=\"android.widget.FrameLayout\" package=\"com.android.systemui\" content-desc=\"\" checkable=\"false\" checked=\"false\" clickable=\"false\" enabled=\"true\" focusable=\"false\" focused=\"false\" scrollable=\"false\" long-clickable=\"false\" password=\"false\" selected=\"false\" bounds=\"[0,1794][1080,1920]\">\\r\\n    <node index=\"0\" text=\"\" resource-id=\"\" class=\"android.widget.FrameLayout\" package=\"com.android.systemui\" content-desc=\"\" checkable=\"false\" checked=\"false\" clickable=\"false\" enabled=\"true\" focusable=\"false\" focused=\"false\" scrollable=\"false\" long-clickable=\"false\" password=\"false\" selected=\"false\" bounds=\"[0,1794][1080,1920]\">\\r\\n      <node index=\"0\" text=\"\" resource-id=\"com.android.systemui:id/navigation_inflater\" class=\"android.widget.FrameLayout\" package=\"com.android.systemui\" content-desc=\"\" checkable=\"false\" checked=\"false\" clickable=\"false\" enabled=\"true\" focusable=\"false\" focused=\"false\" scrollable=\"false\" long-clickable=\"false\" password=\"false\" selected=\"false\" bounds=\"[0,1794][1080,1920]\">\\r\\n        <node index=\"0\" text=\"\" resource-id=\"com.android.systemui:id/rot0\" class=\"android.widget.FrameLayout\" package=\"com.android.systemui\" content-desc=\"\" checkable=\"false\" checked=\"false\" clickable=\"false\" enabled=\"true\" focusable=\"false\" focused=\"false\" scrollable=\"false\" long-clickable=\"false\" password=\"false\" selected=\"false\" bounds=\"[0,1794][1080,1920]\">\\r\\n          <node index=\"0\" text=\"\" resource-id=\"com.android.systemui:id/nav_buttons\" class=\"android.widget.FrameLayout\" package=\"com.android.systemui\" content-desc=\"\" checkable=\"false\" checked=\"false\" clickable=\"false\" enabled=\"true\" focusable=\"false\" focused=\"false\" scrollable=\"false\" long-clickable=\"false\" password=\"false\" selected=\"false\" bounds=\"[0,1794][1080,1920]\">\\r\\n            <node index=\"0\" text=\"\" resource-id=\"com.android.systemui:id/ends_group\" class=\"android.widget.LinearLayout\" package=\"com.android.systemui\" content-desc=\"\" checkable=\"false\" checked=\"false\" clickable=\"false\" enabled=\"true\" focusable=\"false\" focused=\"false\" scrollable=\"false\" long-clickable=\"false\" password=\"false\" selected=\"false\" bounds=\"[21,1794][1059,1920]\">\\r\\n              <node index=\"0\" text=\"\" resource-id=\"\" class=\"android.widget.RelativeLayout\" package=\"com.android.systemui\" content-desc=\"\" checkable=\"false\" checked=\"false\" clickable=\"false\" enabled=\"true\" focusable=\"false\" focused=\"false\" scrollable=\"false\" long-clickable=\"false\" password=\"false\" selected=\"false\" bounds=\"[42,1794][141,1920]\" />\\r\\n              <node index=\"1\" text=\"\" resource-id=\"\" class=\"android.widget.RelativeLayout\" package=\"com.android.systemui\" content-desc=\"\" checkable=\"false\" checked=\"false\" clickable=\"false\" enabled=\"true\" focusable=\"false\" focused=\"false\" scrollable=\"false\" long-clickable=\"false\" password=\"false\" selected=\"false\" bounds=\"[141,1794][340,1920]\">\\r\\n                <node index=\"0\" text=\"\" resource-id=\"com.android.systemui:id/back\" class=\"android.widget.ImageView\" package=\"com.android.systemui\" content-desc=\"Back\" checkable=\"false\" checked=\"false\" clickable=\"true\" enabled=\"true\" focusable=\"true\" focused=\"false\" scrollable=\"false\" long-clickable=\"true\" password=\"false\" selected=\"false\" bounds=\"[141,1794][340,1920]\" />\\r\\n              </node>\\r\\n              <node index=\"2\" text=\"\" resource-id=\"\" class=\"android.widget.RelativeLayout\" package=\"com.android.systemui\" content-desc=\"\" checkable=\"false\" checked=\"false\" clickable=\"false\" enabled=\"true\" focusable=\"false\" focused=\"false\" scrollable=\"false\" long-clickable=\"false\" password=\"false\" selected=\"false\" bounds=\"[738,1794][938,1920]\">\\r\\n                <node index=\"0\" text=\"\" resource-id=\"com.android.systemui:id/recent_apps\" class=\"android.widget.ImageView\" package=\"com.android.systemui\" content-desc=\"Overview\" checkable=\"false\" checked=\"false\" clickable=\"true\" enabled=\"true\" focusable=\"true\" focused=\"false\" scrollable=\"false\" long-clickable=\"true\" password=\"false\" selected=\"false\" bounds=\"[738,1794][938,1920]\" />\\r\\n              </node>\\r\\n              <node index=\"3\" text=\"\" resource-id=\"\" class=\"android.widget.RelativeLayout\" package=\"com.android.systemui\" content-desc=\"\" checkable=\"false\" checked=\"false\" clickable=\"false\" enabled=\"true\" focusable=\"false\" focused=\"false\" scrollable=\"false\" long-clickable=\"false\" password=\"false\" selected=\"false\" bounds=\"[938,1794][1038,1920]\">\\r\\n                <node NAF=\"true\" index=\"0\" text=\"\" resource-id=\"com.android.systemui:id/menu_container\" class=\"android.widget.FrameLayout\" package=\"com.android.systemui\" content-desc=\"\" checkable=\"false\" checked=\"false\" clickable=\"true\" enabled=\"true\" focusable=\"true\" focused=\"false\" scrollable=\"false\" long-clickable=\"true\" password=\"false\" selected=\"false\" bounds=\"[938,1794][1038,1920]\" />\\r\\n              </node>\\r\\n            </node>\\r\\n            <node index=\"1\" text=\"\" resource-id=\"com.android.systemui:id/center_group\" class=\"android.widget.LinearLayout\" package=\"com.android.systemui\" content-desc=\"\" checkable=\"false\" checked=\"false\" clickable=\"false\" enabled=\"true\" focusable=\"false\" focused=\"false\" scrollable=\"false\" long-clickable=\"false\" password=\"false\" selected=\"false\" bounds=\"[414,1794][666,1920]\">\\r\\n              <node index=\"0\" text=\"\" resource-id=\"com.android.systemui:id/home\" class=\"android.widget.FrameLayout\" package=\"com.android.systemui\" content-desc=\"\" checkable=\"false\" checked=\"false\" clickable=\"true\" enabled=\"true\" focusable=\"true\" focused=\"false\" scrollable=\"false\" long-clickable=\"false\" password=\"false\" selected=\"false\" bounds=\"[435,1794][645,1920]\">\\r\\n                <node index=\"0\" text=\"\" resource-id=\"com.android.systemui:id/home_button\" class=\"android.widget.ImageView\" package=\"com.android.systemui\" content-desc=\"Home\" checkable=\"false\" checked=\"false\" clickable=\"true\" enabled=\"true\" focusable=\"true\" focused=\"false\" scrollable=\"false\" long-clickable=\"true\" password=\"false\" selected=\"false\" bounds=\"[435,1794][645,1920]\" />\\r\\n                <node index=\"1\" text=\"\" resource-id=\"\" class=\"android.widget.RelativeLayout\" package=\"com.android.systemui\" content-desc=\"\" checkable=\"false\" checked=\"false\" clickable=\"false\" enabled=\"true\" focusable=\"false\" focused=\"false\" scrollable=\"false\" long-clickable=\"false\" password=\"false\" selected=\"false\" bounds=\"[435,1794][645,1920]\" />\\r\\n                <node index=\"2\" text=\"\" resource-id=\"com.android.systemui:id/white_cutout\" class=\"android.widget.ImageView\" package=\"com.android.systemui\" content-desc=\"\" checkable=\"false\" checked=\"false\" clickable=\"false\" enabled=\"true\" focusable=\"false\" focused=\"false\" scrollable=\"false\" long-clickable=\"false\" password=\"false\" selected=\"false\" bounds=\"[516,1833][563,1880]\" />\\r\\n                <node index=\"3\" text=\"\" resource-id=\"com.android.systemui:id/white\" class=\"android.widget.ImageView\" package=\"com.android.systemui\" content-desc=\"\" checkable=\"false\" checked=\"false\" clickable=\"false\" enabled=\"true\" focusable=\"false\" focused=\"false\" scrollable=\"false\" long-clickable=\"false\" password=\"false\" selected=\"false\" bounds=\"[516,1833][563,1880]\" />\\r\\n              </node>\\r\\n            </node>\\r\\n          </node>\\r\\n        </node>\\r\\n      </node>\\r\\n    </node>\\r\\n  </node>\\r\\n  <node index=\"0\" text=\"\" resource-id=\"\" class=\"android.widget.FrameLayout\" package=\"com.android.systemui\" content-desc=\"\" checkable=\"false\" checked=\"false\" clickable=\"false\" enabled=\"true\" focusable=\"false\" focused=\"false\" scrollable=\"false\" long-clickable=\"false\" password=\"false\" selected=\"false\" bounds=\"[0,0][1080,63]\">\\r\\n    <node index=\"0\" text=\"\" resource-id=\"com.android.systemui:id/scrim_in_front\" class=\"android.view.View\" package=\"com.android.systemui\" content-desc=\"\" checkable=\"false\" checked=\"false\" clickable=\"false\" enabled=\"true\" focusable=\"true\" focused=\"false\" scrollable=\"false\" long-clickable=\"false\" password=\"false\" selected=\"false\" bounds=\"[0,0][1080,63]\" />\\r\\n    <node index=\"1\" text=\"\" resource-id=\"com.android.systemui:id/scrim_behind\" class=\"android.view.View\" package=\"com.android.systemui\" content-desc=\"\" checkable=\"false\" checked=\"false\" clickable=\"false\" enabled=\"true\" focusable=\"true\" focused=\"false\" scrollable=\"false\" long-clickable=\"false\" password=\"false\" selected=\"false\" bounds=\"[0,0][1080,63]\" />\\r\\n    <node index=\"2\" text=\"\" resource-id=\"com.android.systemui:id/status_bar_container\" class=\"android.widget.FrameLayout\" package=\"com.android.systemui\" content-desc=\"\" checkable=\"false\" checked=\"false\" clickable=\"false\" enabled=\"true\" focusable=\"false\" focused=\"false\" scrollable=\"false\" long-clickable=\"false\" password=\"false\" selected=\"false\" bounds=\"[0,0][1080,63]\">\\r\\n      <node index=\"0\" text=\"\" resource-id=\"com.android.systemui:id/status_bar\" class=\"android.widget.FrameLayout\" package=\"com.android.systemui\" content-desc=\"\" checkable=\"false\" checked=\"false\" clickable=\"false\" enabled=\"true\" focusable=\"false\" focused=\"false\" scrollable=\"false\" long-clickable=\"false\" password=\"false\" selected=\"false\" bounds=\"[0,0][1080,63]\">\\r\\n        <node index=\"0\" text=\"\" resource-id=\"com.android.systemui:id/status_bar_contents\" class=\"android.widget.LinearLayout\" package=\"com.android.systemui\" content-desc=\"\" checkable=\"false\" checked=\"false\" clickable=\"false\" enabled=\"true\" focusable=\"false\" focused=\"false\" scrollable=\"false\" long-clickable=\"false\" password=\"false\" selected=\"false\" bounds=\"[21,0][1059,63]\">\\r\\n          <node index=\"0\" text=\"\" resource-id=\"\" class=\"android.widget.FrameLayout\" package=\"com.android.systemui\" content-desc=\"\" checkable=\"false\" checked=\"false\" clickable=\"false\" enabled=\"true\" focusable=\"false\" focused=\"false\" scrollable=\"false\" long-clickable=\"false\" password=\"false\" selected=\"false\" bounds=\"[37,0][540,63]\">\\r\\n            <node index=\"0\" text=\"\" resource-id=\"com.android.systemui:id/status_bar_left_side\" class=\"android.widget.LinearLayout\" package=\"com.android.systemui\" content-desc=\"\" checkable=\"false\" checked=\"false\" clickable=\"false\" enabled=\"true\" focusable=\"false\" focused=\"false\" scrollable=\"false\" long-clickable=\"false\" password=\"false\" selected=\"false\" bounds=\"[37,0][540,63]\">\\r\\n              <node index=\"0\" text=\"3:19\" resource-id=\"com.android.systemui:id/clock\" class=\"android.widget.TextView\" package=\"com.android.systemui\" content-desc=\"3:19 PM\" checkable=\"false\" checked=\"false\" clickable=\"false\" enabled=\"true\" focusable=\"false\" focused=\"false\" scrollable=\"false\" long-clickable=\"false\" password=\"false\" selected=\"false\" bounds=\"[37,0][128,63]\" />\\r\\n              <node index=\"1\" text=\"\" resource-id=\"com.android.systemui:id/notification_icon_area\" class=\"android.widget.FrameLayout\" package=\"com.android.systemui\" content-desc=\"\" checkable=\"false\" checked=\"false\" clickable=\"false\" enabled=\"true\" focusable=\"false\" focused=\"false\" scrollable=\"false\" long-clickable=\"false\" password=\"false\" selected=\"false\" bounds=\"[128,0][540,63]\">\\r\\n                <node index=\"0\" text=\"\" resource-id=\"com.android.systemui:id/notification_icon_area_inner\" class=\"android.widget.LinearLayout\" package=\"com.android.systemui\" content-desc=\"\" checkable=\"false\" checked=\"false\" clickable=\"false\" enabled=\"true\" focusable=\"false\" focused=\"false\" scrollable=\"false\" long-clickable=\"false\" password=\"false\" selected=\"false\" bounds=\"[128,0][540,63]\">\\r\\n                  <node index=\"0\" text=\"\" resource-id=\"com.android.systemui:id/notificationIcons\" class=\"android.widget.FrameLayout\" package=\"com.android.systemui\" content-desc=\"\" checkable=\"false\" checked=\"false\" clickable=\"false\" enabled=\"true\" focusable=\"false\" focused=\"false\" scrollable=\"false\" long-clickable=\"false\" password=\"false\" selected=\"false\" bounds=\"[128,0][540,63]\">\\r\\n                    <node index=\"0\" text=\"\" resource-id=\"\" class=\"android.widget.ImageView\" package=\"com.android.systemui\" content-desc=\"Music notification: Just to Save Me\" checkable=\"false\" checked=\"false\" clickable=\"false\" enabled=\"true\" focusable=\"false\" focused=\"false\" scrollable=\"false\" long-clickable=\"false\" password=\"false\" selected=\"false\" bounds=\"[128,0][186,63]\" />\\r\\n                    <node index=\"1\" text=\"\" resource-id=\"\" class=\"android.widget.ImageView\" package=\"com.android.systemui\" content-desc=\"Android Setup notification: Finish setting up your Android SDK built for x86\" checkable=\"false\" checked=\"false\" clickable=\"false\" enabled=\"true\" focusable=\"false\" focused=\"false\" scrollable=\"false\" long-clickable=\"false\" password=\"false\" selected=\"false\" bounds=\"[186,0][244,63]\" />\\r\\n                    <node index=\"2\" text=\"\" resource-id=\"\" class=\"android.widget.ImageView\" package=\"com.android.systemui\" content-desc=\"Google Play Store notification: Google Play Protect is turned on\" checkable=\"false\" checked=\"false\" clickable=\"false\" enabled=\"true\" focusable=\"false\" focused=\"false\" scrollable=\"false\" long-clickable=\"false\" password=\"false\" selected=\"false\" bounds=\"[244,0][302,63]\" />\\r\\n                    <node index=\"3\" text=\"\" resource-id=\"\" class=\"android.widget.ImageView\" package=\"com.android.systemui\" content-desc=\"Snaptee notification: Let’s bring out the Picasso in you. Check your email inbox &amp; activate account to gain full access to all features.\" checkable=\"false\" checked=\"false\" clickable=\"false\" enabled=\"true\" focusable=\"false\" focused=\"false\" scrollable=\"false\" long-clickable=\"false\" password=\"false\" selected=\"false\" bounds=\"[302,0][360,63]\" />\\r\\n                    <node index=\"4\" text=\"\" resource-id=\"\" class=\"android.widget.ImageView\" package=\"com.android.systemui\" content-desc=\"Settings notification: Virtual SD card\" checkable=\"false\" checked=\"false\" clickable=\"false\" enabled=\"true\" focusable=\"false\" focused=\"false\" scrollable=\"false\" long-clickable=\"false\" password=\"false\" selected=\"false\" bounds=\"[360,0][418,63]\" />\\r\\n                  </node>\\r\\n                </node>\\r\\n              </node>\\r\\n            </node>\\r\\n          </node>\\r\\n          <node index=\"1\" text=\"\" resource-id=\"com.android.systemui:id/system_icon_area\" class=\"android.widget.LinearLayout\" package=\"com.android.systemui\" content-desc=\"\" checkable=\"false\" checked=\"false\" clickable=\"false\" enabled=\"true\" focusable=\"false\" focused=\"false\" scrollable=\"false\" long-clickable=\"false\" password=\"false\" selected=\"false\" bounds=\"[540,0][1043,63]\">\\r\\n            <node index=\"0\" text=\"\" resource-id=\"com.android.systemui:id/system_icons\" class=\"android.widget.LinearLayout\" package=\"com.android.systemui\" content-desc=\"\" checkable=\"false\" checked=\"false\" clickable=\"false\" enabled=\"true\" focusable=\"false\" focused=\"false\" scrollable=\"false\" long-clickable=\"false\" password=\"false\" selected=\"false\" bounds=\"[540,0][1043,63]\">\\r\\n              <node index=\"0\" text=\"\" resource-id=\"com.android.systemui:id/statusIcons\" class=\"android.widget.LinearLayout\" package=\"com.android.systemui\" content-desc=\"\" checkable=\"false\" checked=\"false\" clickable=\"false\" enabled=\"true\" focusable=\"false\" focused=\"false\" scrollable=\"false\" long-clickable=\"false\" password=\"false\" selected=\"false\" bounds=\"[540,0][1021,63]\">\\r\\n                <node index=\"0\" text=\"\" resource-id=\"com.android.systemui:id/wifi_combo\" class=\"android.widget.FrameLayout\" package=\"com.android.systemui\" content-desc=\"Wifi signal full.\" checkable=\"false\" checked=\"false\" clickable=\"false\" enabled=\"true\" focusable=\"false\" focused=\"false\" scrollable=\"false\" long-clickable=\"false\" password=\"false\" selected=\"false\" bounds=\"[916,2][966,60]\">\\r\\n                  <node index=\"0\" text=\"\" resource-id=\"com.android.systemui:id/wifi_group\" class=\"android.widget.LinearLayout\" package=\"com.android.systemui\" content-desc=\"\" checkable=\"false\" checked=\"false\" clickable=\"false\" enabled=\"true\" focusable=\"false\" focused=\"false\" scrollable=\"false\" long-clickable=\"false\" password=\"false\" selected=\"false\" bounds=\"[923,2][966,60]\">\\r\\n                    <node index=\"0\" text=\"\" resource-id=\"com.android.systemui:id/wifi_combo\" class=\"android.widget.FrameLayout\" package=\"com.android.systemui\" content-desc=\"\" checkable=\"false\" checked=\"false\" clickable=\"false\" enabled=\"true\" focusable=\"false\" focused=\"false\" scrollable=\"false\" long-clickable=\"false\" password=\"false\" selected=\"false\" bounds=\"[923,11][966,50]\">\\r\\n                      <node index=\"0\" text=\"\" resource-id=\"com.android.systemui:id/wifi_signal\" class=\"android.widget.ImageView\" package=\"com.android.systemui\" content-desc=\"\" checkable=\"false\" checked=\"false\" clickable=\"false\" enabled=\"true\" focusable=\"false\" focused=\"false\" scrollable=\"false\" long-clickable=\"false\" password=\"false\" selected=\"false\" bounds=\"[923,11][966,50]\" />\\r\\n                    </node>\\r\\n                  </node>\\r\\n                </node>\\r\\n                <node index=\"1\" text=\"\" resource-id=\"com.android.systemui:id/mobile_combo\" class=\"android.widget.FrameLayout\" package=\"com.android.systemui\" content-desc=\"Phone two bars.\" checkable=\"false\" checked=\"false\" clickable=\"false\" enabled=\"true\" focusable=\"false\" focused=\"false\" scrollable=\"false\" long-clickable=\"false\" password=\"false\" selected=\"false\" bounds=\"[966,2][1005,60]\">\\r\\n                  <node index=\"0\" text=\"\" resource-id=\"com.android.systemui:id/mobile_group\" class=\"android.widget.LinearLayout\" package=\"com.android.systemui\" content-desc=\"\" checkable=\"false\" checked=\"false\" clickable=\"false\" enabled=\"true\" focusable=\"false\" focused=\"false\" scrollable=\"false\" long-clickable=\"false\" password=\"false\" selected=\"false\" bounds=\"[966,2][1005,60]\">\\r\\n                    <node index=\"0\" text=\"\" resource-id=\"\" class=\"android.widget.FrameLayout\" package=\"com.android.systemui\" content-desc=\"\" checkable=\"false\" checked=\"false\" clickable=\"false\" enabled=\"true\" focusable=\"false\" focused=\"false\" scrollable=\"false\" long-clickable=\"false\" password=\"false\" selected=\"false\" bounds=\"[966,11][1005,50]\">\\r\\n                      <node index=\"0\" text=\"\" resource-id=\"com.android.systemui:id/mobile_signal\" class=\"android.widget.ImageView\" package=\"com.android.systemui\" content-desc=\"\" checkable=\"false\" checked=\"false\" clickable=\"false\" enabled=\"true\" focusable=\"false\" focused=\"false\" scrollable=\"false\" long-clickable=\"false\" password=\"false\" selected=\"false\" bounds=\"[966,11][1005,50]\" />\\r\\n                    </node>\\r\\n                  </node>\\r\\n                </node>\\r\\n              </node>\\r\\n              <node index=\"1\" text=\"\" resource-id=\"com.android.systemui:id/battery\" class=\"android.widget.LinearLayout\" package=\"com.android.systemui\" content-desc=\"Battery charging, 100 percent.\" checkable=\"false\" checked=\"false\" clickable=\"false\" enabled=\"true\" focusable=\"false\" focused=\"false\" scrollable=\"false\" long-clickable=\"false\" password=\"false\" selected=\"false\" bounds=\"[1021,0][1043,63]\">\\r\\n                <node index=\"0\" text=\"\" resource-id=\"\" class=\"android.widget.ImageView\" package=\"com.android.systemui\" content-desc=\"\" checkable=\"false\" checked=\"false\" clickable=\"false\" enabled=\"true\" focusable=\"false\" focused=\"false\" scrollable=\"false\" long-clickable=\"false\" password=\"false\" selected=\"false\" bounds=\"[1021,14][1043,48]\" />\\r\\n              </node>\\r\\n            </node>\\r\\n          </node>\\r\\n        </node>\\r\\n      </node>\\r\\n    </node>\\r\\n  </node>\\r\\n  <node index=\"0\" text=\"\" resource-id=\"\" class=\"android.widget.FrameLayout\" package=\"com.maxfour.music\" content-desc=\"\" checkable=\"false\" checked=\"false\" clickable=\"false\" enabled=\"true\" focusable=\"false\" focused=\"false\" scrollable=\"false\" long-clickable=\"false\" password=\"false\" selected=\"false\" bounds=\"[0,0][1080,1794]\">\\r\\n    <node index=\"0\" text=\"\" resource-id=\"\" class=\"android.widget.LinearLayout\" package=\"com.maxfour.music\" content-desc=\"\" checkable=\"false\" checked=\"false\" clickable=\"false\" enabled=\"true\" focusable=\"false\" focused=\"false\" scrollable=\"false\" long-clickable=\"false\" password=\"false\" selected=\"false\" bounds=\"[0,0][1080,1794]\">\\r\\n      <node index=\"0\" text=\"\" resource-id=\"\" class=\"android.widget.FrameLayout\" package=\"com.maxfour.music\" content-desc=\"\" checkable=\"false\" checked=\"false\" clickable=\"false\" enabled=\"true\" focusable=\"false\" focused=\"false\" scrollable=\"false\" long-clickable=\"false\" password=\"false\" selected=\"false\" bounds=\"[0,0][1080,1794]\">\\r\\n        <node index=\"0\" text=\"\" resource-id=\"com.maxfour.music:id/action_bar_root\" class=\"android.widget.LinearLayout\" package=\"com.maxfour.music\" content-desc=\"\" checkable=\"false\" checked=\"false\" clickable=\"false\" enabled=\"true\" focusable=\"false\" focused=\"false\" scrollable=\"false\" long-clickable=\"false\" password=\"false\" selected=\"false\" bounds=\"[0,0][1080,1794]\">\\r\\n          <node index=\"0\" text=\"\" resource-id=\"android:id/content\" class=\"android.widget.FrameLayout\" package=\"com.maxfour.music\" content-desc=\"\" checkable=\"false\" checked=\"false\" clickable=\"false\" enabled=\"true\" focusable=\"false\" focused=\"false\" scrollable=\"false\" long-clickable=\"false\" password=\"false\" selected=\"false\" bounds=\"[0,0][1080,1794]\">\\r\\n            <node index=\"0\" text=\"\" resource-id=\"com.maxfour.music:id/sliding_layout\" class=\"android.view.ViewGroup\" package=\"com.maxfour.music\" content-desc=\"\" checkable=\"false\" checked=\"false\" clickable=\"false\" enabled=\"true\" focusable=\"false\" focused=\"false\" scrollable=\"false\" long-clickable=\"false\" password=\"false\" selected=\"false\" bounds=\"[0,0][1080,1794]\">\\r\\n              <node index=\"0\" text=\"\" resource-id=\"com.maxfour.music:id/sliding_panel\" class=\"android.widget.FrameLayout\" package=\"com.maxfour.music\" content-desc=\"\" checkable=\"false\" checked=\"false\" clickable=\"true\" enabled=\"true\" focusable=\"false\" focused=\"false\" scrollable=\"false\" long-clickable=\"false\" password=\"false\" selected=\"false\" bounds=\"[0,0][1080,1794]\">\\r\\n                <node index=\"0\" text=\"\" resource-id=\"com.maxfour.music:id/player_fragment_container\" class=\"android.widget.FrameLayout\" package=\"com.maxfour.music\" content-desc=\"\" checkable=\"false\" checked=\"false\" clickable=\"false\" enabled=\"true\" focusable=\"false\" focused=\"false\" scrollable=\"false\" long-clickable=\"false\" password=\"false\" selected=\"false\" bounds=\"[0,0][1080,1794]\">\\r\\n                  <node index=\"0\" text=\"\" resource-id=\"\" class=\"android.widget.FrameLayout\" package=\"com.maxfour.music\" content-desc=\"\" checkable=\"false\" checked=\"false\" clickable=\"false\" enabled=\"true\" focusable=\"false\" focused=\"false\" scrollable=\"false\" long-clickable=\"false\" password=\"false\" selected=\"false\" bounds=\"[0,0][1080,1794]\">\\r\\n                    <node index=\"0\" text=\"\" resource-id=\"com.maxfour.music:id/player_sliding_layout\" class=\"android.view.ViewGroup\" package=\"com.maxfour.music\" content-desc=\"\" checkable=\"false\" checked=\"false\" clickable=\"false\" enabled=\"true\" focusable=\"true\" focused=\"false\" scrollable=\"false\" long-clickable=\"false\" password=\"false\" selected=\"false\" bounds=\"[0,0][1080,1794]\">\\r\\n                      <node index=\"0\" text=\"\" resource-id=\"\" class=\"android.widget.FrameLayout\" package=\"com.maxfour.music\" content-desc=\"\" checkable=\"false\" checked=\"false\" clickable=\"false\" enabled=\"true\" focusable=\"false\" focused=\"false\" scrollable=\"false\" long-clickable=\"false\" password=\"false\" selected=\"false\" bounds=\"[0,0][1080,1794]\">\\r\\n                        <node index=\"0\" text=\"\" resource-id=\"com.maxfour.music:id/color_background\" class=\"android.view.View\" package=\"com.maxfour.music\" content-desc=\"\" checkable=\"false\" checked=\"false\" clickable=\"false\" enabled=\"true\" focusable=\"false\" focused=\"false\" scrollable=\"false\" long-clickable=\"false\" password=\"false\" selected=\"false\" bounds=\"[0,0][1080,1794]\" />\\r\\n                        <node index=\"1\" text=\"\" resource-id=\"com.maxfour.music:id/player_content\" class=\"android.widget.RelativeLayout\" package=\"com.maxfour.music\" content-desc=\"\" checkable=\"false\" checked=\"false\" clickable=\"false\" enabled=\"true\" focusable=\"false\" focused=\"false\" scrollable=\"false\" long-clickable=\"false\" password=\"false\" selected=\"false\" bounds=\"[0,0][1080,1448]\">\\r\\n                          <node index=\"0\" text=\"\" resource-id=\"com.maxfour.music:id/album_cover_container\" class=\"android.widget.FrameLayout\" package=\"com.maxfour.music\" content-desc=\"\" checkable=\"false\" checked=\"false\" clickable=\"false\" enabled=\"true\" focusable=\"false\" focused=\"false\" scrollable=\"false\" long-clickable=\"false\" password=\"false\" selected=\"false\" bounds=\"[0,0][1080,1080]\">\\r\\n                            <node index=\"0\" text=\"\" resource-id=\"com.maxfour.music:id/player_album_cover_fragment\" class=\"android.widget.FrameLayout\" package=\"com.maxfour.music\" content-desc=\"\" checkable=\"false\" checked=\"false\" clickable=\"false\" enabled=\"true\" focusable=\"false\" focused=\"false\" scrollable=\"false\" long-clickable=\"false\" password=\"false\" selected=\"false\" bounds=\"[0,0][1080,1080]\">\\r\\n                              <node index=\"0\" text=\"\" resource-id=\"com.maxfour.music:id/player_album_cover_viewpager\" class=\"android.support.v4.view.ViewPager\" package=\"com.maxfour.music\" content-desc=\"\" checkable=\"false\" checked=\"false\" clickable=\"false\" enabled=\"true\" focusable=\"true\" focused=\"false\" scrollable=\"false\" long-clickable=\"false\" password=\"false\" selected=\"false\" bounds=\"[0,0][1080,1080]\">\\r\\n                                <node index=\"0\" text=\"\" resource-id=\"com.maxfour.music:id/player_album_art_frame\" class=\"android.widget.FrameLayout\" package=\"com.maxfour.music\" content-desc=\"\" checkable=\"false\" checked=\"false\" clickable=\"false\" enabled=\"true\" focusable=\"false\" focused=\"false\" scrollable=\"false\" long-clickable=\"false\" password=\"false\" selected=\"false\" bounds=\"[0,0][1080,1080]\">\\r\\n                                  <node index=\"0\" text=\"\" resource-id=\"com.maxfour.music:id/player_image\" class=\"android.widget.ImageView\" package=\"com.maxfour.music\" content-desc=\"\" checkable=\"false\" checked=\"false\" clickable=\"false\" enabled=\"true\" focusable=\"false\" focused=\"false\" scrollable=\"false\" long-clickable=\"false\" password=\"false\" selected=\"false\" bounds=\"[0,0][1080,1080]\" />\\r\\n                                </node>\\r\\n                              </node>\\r\\n                            </node>\\r\\n                          </node>\\r\\n                          <node index=\"1\" text=\"\" resource-id=\"com.maxfour.music:id/playback_controls_fragment\" class=\"android.widget.LinearLayout\" package=\"com.maxfour.music\" content-desc=\"\" checkable=\"false\" checked=\"false\" clickable=\"false\" enabled=\"true\" focusable=\"false\" focused=\"false\" scrollable=\"false\" long-clickable=\"false\" password=\"false\" selected=\"false\" bounds=\"[0,1080][1080,1448]\">\\r\\n                            <node index=\"0\" text=\"\" resource-id=\"\" class=\"android.widget.RelativeLayout\" package=\"com.maxfour.music\" content-desc=\"\" checkable=\"false\" checked=\"false\" clickable=\"false\" enabled=\"true\" focusable=\"false\" focused=\"false\" scrollable=\"false\" long-clickable=\"false\" password=\"false\" selected=\"false\" bounds=\"[0,1080][1080,1133]\">\\r\\n                              <node index=\"0\" text=\"0:16\" resource-id=\"com.maxfour.music:id/player_song_current_progress\" class=\"android.widget.TextView\" package=\"com.maxfour.music\" content-desc=\"\" checkable=\"false\" checked=\"false\" clickable=\"false\" enabled=\"true\" focusable=\"false\" focused=\"false\" scrollable=\"false\" long-clickable=\"false\" password=\"false\" selected=\"false\" bounds=\"[0,1080][83,1133]\" />\\r\\n                              <node index=\"1\" text=\"\" resource-id=\"com.maxfour.music:id/player_progress_slider\" class=\"android.widget.SeekBar\" package=\"com.maxfour.music\" content-desc=\"\" checkable=\"false\" checked=\"false\" clickable=\"false\" enabled=\"true\" focusable=\"true\" focused=\"false\" scrollable=\"false\" long-clickable=\"false\" password=\"false\" selected=\"false\" bounds=\"[83,1080][997,1133]\" />\\r\\n                              <node index=\"2\" text=\"3:10\" resource-id=\"com.maxfour.music:id/player_song_total_time\" class=\"android.widget.TextView\" package=\"com.maxfour.music\" content-desc=\"\" checkable=\"false\" checked=\"false\" clickable=\"false\" enabled=\"true\" focusable=\"false\" focused=\"false\" scrollable=\"false\" long-clickable=\"false\" password=\"false\" selected=\"false\" bounds=\"[997,1080][1080,1133]\" />\\r\\n                            </node>\\r\\n                            <node index=\"1\" text=\"\" resource-id=\"com.maxfour.music:id/player_media_controller_container\" class=\"android.widget.RelativeLayout\" package=\"com.maxfour.music\" content-desc=\"\" checkable=\"false\" checked=\"false\" clickable=\"false\" enabled=\"true\" focusable=\"false\" focused=\"false\" scrollable=\"false\" long-clickable=\"false\" password=\"false\" selected=\"false\" bounds=\"[0,1133][1080,1448]\">\\r\\n                              <node NAF=\"true\" index=\"0\" text=\"\" resource-id=\"com.maxfour.music:id/player_repeat_button\" class=\"android.widget.ImageButton\" package=\"com.maxfour.music\" content-desc=\"\" checkable=\"false\" checked=\"false\" clickable=\"true\" enabled=\"true\" focusable=\"true\" focused=\"false\" scrollable=\"false\" long-clickable=\"false\" password=\"false\" selected=\"false\" bounds=\"[42,1196][231,1385]\" />\\r\\n                              <node NAF=\"true\" index=\"1\" text=\"\" resource-id=\"com.maxfour.music:id/player_prev_button\" class=\"android.widget.ImageButton\" package=\"com.maxfour.music\" content-desc=\"\" checkable=\"false\" checked=\"false\" clickable=\"true\" enabled=\"true\" focusable=\"true\" focused=\"false\" scrollable=\"false\" long-clickable=\"false\" password=\"false\" selected=\"false\" bounds=\"[298,1196][487,1385]\" />\\r\\n                              <node NAF=\"true\" index=\"2\" text=\"\" resource-id=\"com.maxfour.music:id/player_play_pause_fab\" class=\"android.widget.ImageButton\" package=\"com.maxfour.music\" content-desc=\"\" checkable=\"false\" checked=\"false\" clickable=\"true\" enabled=\"true\" focusable=\"true\" focused=\"false\" scrollable=\"false\" long-clickable=\"false\" password=\"false\" selected=\"false\" bounds=\"[466,1217][613,1364]\" />\\r\\n                              <node NAF=\"true\" index=\"3\" text=\"\" resource-id=\"com.maxfour.music:id/player_next_button\" class=\"android.widget.ImageButton\" package=\"com.maxfour.music\" content-desc=\"\" checkable=\"false\" checked=\"false\" clickable=\"true\" enabled=\"true\" focusable=\"true\" focused=\"false\" scrollable=\"false\" long-clickable=\"false\" password=\"false\" selected=\"false\" bounds=\"[592,1196][781,1385]\" />\\r\\n                              <node NAF=\"true\" index=\"4\" text=\"\" resource-id=\"com.maxfour.music:id/player_shuffle_button\" class=\"android.widget.ImageButton\" package=\"com.maxfour.music\" content-desc=\"\" checkable=\"false\" checked=\"false\" clickable=\"true\" enabled=\"true\" focusable=\"true\" focused=\"false\" scrollable=\"false\" long-clickable=\"false\" password=\"false\" selected=\"false\" bounds=\"[849,1196][1038,1385]\" />\\r\\n                            </node>\\r\\n                          </node>\\r\\n                        </node>\\r\\n                        <node index=\"2\" text=\"\" resource-id=\"com.maxfour.music:id/toolbar_container\" class=\"android.widget.FrameLayout\" package=\"com.maxfour.music\" content-desc=\"\" checkable=\"false\" checked=\"false\" clickable=\"false\" enabled=\"true\" focusable=\"false\" focused=\"false\" scrollable=\"false\" long-clickable=\"false\" password=\"false\" selected=\"false\" bounds=\"[0,0][1080,441]\">\\r\\n                          <node index=\"0\" text=\"\" resource-id=\"\" class=\"android.widget.RelativeLayout\" package=\"com.maxfour.music\" content-desc=\"\" checkable=\"false\" checked=\"false\" clickable=\"false\" enabled=\"true\" focusable=\"false\" focused=\"false\" scrollable=\"false\" long-clickable=\"false\" password=\"false\" selected=\"false\" bounds=\"[0,0][1080,441]\">\\r\\n                            <node index=\"0\" text=\"\" resource-id=\"\" class=\"android.view.View\" package=\"com.maxfour.music\" content-desc=\"\" checkable=\"false\" checked=\"false\" clickable=\"false\" enabled=\"true\" focusable=\"false\" focused=\"false\" scrollable=\"false\" long-clickable=\"false\" password=\"false\" selected=\"false\" bounds=\"[0,0][1080,126]\" />\\r\\n                            <node index=\"1\" text=\"\" resource-id=\"com.maxfour.music:id/dummy_statusbar_actionbar\" class=\"android.widget.LinearLayout\" package=\"com.maxfour.music\" content-desc=\"\" checkable=\"false\" checked=\"false\" clickable=\"false\" enabled=\"true\" focusable=\"false\" focused=\"false\" scrollable=\"false\" long-clickable=\"false\" password=\"false\" selected=\"false\" bounds=\"[0,0][1080,126]\">\\r\\n                              <node index=\"1\" text=\"\" resource-id=\"\" class=\"android.view.View\" package=\"com.maxfour.music\" content-desc=\"\" checkable=\"false\" checked=\"false\" clickable=\"false\" enabled=\"true\" focusable=\"false\" focused=\"false\" scrollable=\"false\" long-clickable=\"false\" password=\"false\" selected=\"false\" bounds=\"[0,63][1080,126]\" />\\r\\n                            </node>\\r\\n                          </node>\\r\\n                          <node index=\"1\" text=\"\" resource-id=\"\" class=\"android.widget.LinearLayout\" package=\"com.maxfour.music\" content-desc=\"\" checkable=\"false\" checked=\"false\" clickable=\"false\" enabled=\"true\" focusable=\"false\" focused=\"false\" scrollable=\"false\" long-clickable=\"false\" password=\"false\" selected=\"false\" bounds=\"[0,0][1080,210]\">\\r\\n                            <node index=\"1\" text=\"\" resource-id=\"com.maxfour.music:id/player_toolbar\" class=\"android.view.ViewGroup\" package=\"com.maxfour.music\" content-desc=\"\" checkable=\"false\" checked=\"false\" clickable=\"false\" enabled=\"true\" focusable=\"false\" focused=\"false\" scrollable=\"false\" long-clickable=\"false\" password=\"false\" selected=\"false\" bounds=\"[0,63][1080,210]\">\\r\\n                              <node NAF=\"true\" index=\"0\" text=\"\" resource-id=\"\" class=\"android.widget.ImageButton\" package=\"com.maxfour.music\" content-desc=\"\" checkable=\"false\" checked=\"false\" clickable=\"true\" enabled=\"true\" focusable=\"true\" focused=\"false\" scrollable=\"false\" long-clickable=\"false\" password=\"false\" selected=\"false\" bounds=\"[0,63][147,210]\" />\\r\\n                              <node index=\"1\" text=\"\" resource-id=\"\" class=\"android.support.v7.widget.LinearLayoutCompat\" package=\"com.maxfour.music\" content-desc=\"\" checkable=\"false\" checked=\"false\" clickable=\"false\" enabled=\"true\" focusable=\"false\" focused=\"false\" scrollable=\"false\" long-clickable=\"false\" password=\"false\" selected=\"false\" bounds=\"[848,63][1080,210]\">\\r\\n                                <node index=\"0\" text=\"\" resource-id=\"com.maxfour.music:id/action_toggle_favorite\" class=\"android.widget.TextView\" package=\"com.maxfour.music\" content-desc=\"Add to favorites\" checkable=\"false\" checked=\"false\" clickable=\"true\" enabled=\"true\" focusable=\"true\" focused=\"false\" scrollable=\"false\" long-clickable=\"false\" password=\"false\" selected=\"false\" bounds=\"[848,73][975,199]\" />\\r\\n                                <node index=\"1\" text=\"\" resource-id=\"\" class=\"android.widget.ImageView\" package=\"com.maxfour.music\" content-desc=\"More options\" checkable=\"false\" checked=\"false\" clickable=\"true\" enabled=\"true\" focusable=\"true\" focused=\"false\" scrollable=\"false\" long-clickable=\"true\" password=\"false\" selected=\"false\" bounds=\"[975,73][1080,199]\" />\\r\\n                              </node>\\r\\n                            </node>\\r\\n                          </node>\\r\\n                        </node>\\r\\n                      </node>\\r\\n                      <node index=\"1\" text=\"\" resource-id=\"com.maxfour.music:id/player_panel\" class=\"android.widget.FrameLayout\" package=\"com.maxfour.music\" content-desc=\"\" checkable=\"false\" checked=\"false\" clickable=\"true\" enabled=\"true\" focusable=\"false\" focused=\"false\" scrollable=\"false\" long-clickable=\"false\" password=\"false\" selected=\"false\" bounds=\"[0,1427][1080,1794]\">\\r\\n                        <node index=\"0\" text=\"\" resource-id=\"com.maxfour.music:id/playing_queue_card\" class=\"android.widget.FrameLayout\" package=\"com.maxfour.music\" content-desc=\"\" checkable=\"false\" checked=\"false\" clickable=\"false\" enabled=\"true\" focusable=\"false\" focused=\"false\" scrollable=\"false\" long-clickable=\"false\" password=\"false\" selected=\"false\" bounds=\"[42,1448][1038,1794]\">\\r\\n                          <node index=\"0\" text=\"\" resource-id=\"\" class=\"android.widget.RelativeLayout\" package=\"com.maxfour.music\" content-desc=\"\" checkable=\"false\" checked=\"false\" clickable=\"false\" enabled=\"true\" focusable=\"false\" focused=\"false\" scrollable=\"false\" long-clickable=\"false\" password=\"false\" selected=\"false\" bounds=\"[42,1448][1038,1794]\">\\r\\n                            <node index=\"0\" text=\"\" resource-id=\"com.maxfour.music:id/card_content\" class=\"android.widget.LinearLayout\" package=\"com.maxfour.music\" content-desc=\"\" checkable=\"false\" checked=\"false\" clickable=\"false\" enabled=\"true\" focusable=\"false\" focused=\"false\" scrollable=\"false\" long-clickable=\"false\" password=\"false\" selected=\"false\" bounds=\"[42,1448][1038,1794]\">\\r\\n                              <node index=\"0\" text=\"\" resource-id=\"com.maxfour.music:id/current_song\" class=\"android.widget.FrameLayout\" package=\"com.maxfour.music\" content-desc=\"\" checkable=\"false\" checked=\"false\" clickable=\"true\" enabled=\"true\" focusable=\"true\" focused=\"false\" scrollable=\"false\" long-clickable=\"true\" password=\"false\" selected=\"false\" bounds=\"[42,1448][1038,1637]\">\\r\\n                                <node index=\"0\" text=\"\" resource-id=\"\" class=\"android.widget.LinearLayout\" package=\"com.maxfour.music\" content-desc=\"\" checkable=\"false\" checked=\"false\" clickable=\"false\" enabled=\"true\" focusable=\"false\" focused=\"false\" scrollable=\"false\" long-clickable=\"false\" password=\"false\" selected=\"false\" bounds=\"[42,1448][1038,1637]\">\\r\\n                                  <node index=\"0\" text=\"\" resource-id=\"com.maxfour.music:id/image_container\" class=\"android.widget.FrameLayout\" package=\"com.maxfour.music\" content-desc=\"\" checkable=\"false\" checked=\"false\" clickable=\"false\" enabled=\"true\" focusable=\"false\" focused=\"false\" scrollable=\"false\" long-clickable=\"false\" password=\"false\" selected=\"false\" bounds=\"[42,1448][189,1637]\">\\r\\n                                    <node index=\"0\" text=\"\" resource-id=\"com.maxfour.music:id/image\" class=\"android.widget.ImageView\" package=\"com.maxfour.music\" content-desc=\"\" checkable=\"false\" checked=\"false\" clickable=\"false\" enabled=\"true\" focusable=\"false\" focused=\"false\" scrollable=\"false\" long-clickable=\"false\" password=\"false\" selected=\"false\" bounds=\"[84,1490][189,1595]\" />\\r\\n                                  </node>\\r\\n                                  <node index=\"1\" text=\"\" resource-id=\"\" class=\"android.widget.LinearLayout\" package=\"com.maxfour.music\" content-desc=\"\" checkable=\"false\" checked=\"false\" clickable=\"false\" enabled=\"true\" focusable=\"false\" focused=\"false\" scrollable=\"false\" long-clickable=\"false\" password=\"false\" selected=\"false\" bounds=\"[189,1488][870,1596]\">\\r\\n                                    <node index=\"0\" text=\"Just to Save Me\" resource-id=\"com.maxfour.music:id/title\" class=\"android.widget.TextView\" package=\"com.maxfour.music\" content-desc=\"\" checkable=\"false\" checked=\"false\" clickable=\"false\" enabled=\"true\" focusable=\"false\" focused=\"false\" scrollable=\"false\" long-clickable=\"false\" password=\"false\" selected=\"false\" bounds=\"[231,1488][530,1545]\" />\\r\\n                                    <node index=\"1\" text=\"&lt;unknown&gt;\" resource-id=\"com.maxfour.music:id/text\" class=\"android.widget.TextView\" package=\"com.maxfour.music\" content-desc=\"\" checkable=\"false\" checked=\"false\" clickable=\"false\" enabled=\"true\" focusable=\"false\" focused=\"false\" scrollable=\"false\" long-clickable=\"false\" password=\"false\" selected=\"false\" bounds=\"[231,1545][417,1596]\" />\\r\\n                                  </node>\\r\\n                                  <node NAF=\"true\" index=\"2\" text=\"\" resource-id=\"com.maxfour.music:id/menu\" class=\"android.widget.ImageView\" package=\"com.maxfour.music\" content-desc=\"\" checkable=\"false\" checked=\"false\" clickable=\"true\" enabled=\"true\" focusable=\"false\" focused=\"false\" scrollable=\"false\" long-clickable=\"false\" password=\"false\" selected=\"false\" bounds=\"[891,1479][1017,1605]\" />\\r\\n                                </node>\\r\\n                                <node index=\"1\" text=\"\" resource-id=\"com.maxfour.music:id/separator\" class=\"android.view.View\" package=\"com.maxfour.music\" content-desc=\"\" checkable=\"false\" checked=\"false\" clickable=\"false\" enabled=\"true\" focusable=\"false\" focused=\"false\" scrollable=\"false\" long-clickable=\"false\" password=\"false\" selected=\"false\" bounds=\"[42,1634][1038,1637]\" />\\r\\n                              </node>\\r\\n                              <node index=\"1\" text=\"Up next  •  0:00\" resource-id=\"com.maxfour.music:id/player_queue_sub_header\" class=\"android.widget.TextView\" package=\"com.maxfour.music\" content-desc=\"\" checkable=\"false\" checked=\"false\" clickable=\"false\" enabled=\"true\" focusable=\"false\" focused=\"false\" scrollable=\"false\" long-clickable=\"false\" password=\"false\" selected=\"false\" bounds=\"[42,1637][1038,1763]\" />\\r\\n                              <node index=\"2\" text=\"\" resource-id=\"com.maxfour.music:id/player_recycler_view\" class=\"android.support.v7.widget.RecyclerView\" package=\"com.maxfour.music\" content-desc=\"\" checkable=\"false\" checked=\"false\" clickable=\"false\" enabled=\"true\" focusable=\"true\" focused=\"true\" scrollable=\"false\" long-clickable=\"false\" password=\"false\" selected=\"false\" bounds=\"[42,1763][1038,1794]\">\\r\\n                                <node index=\"0\" text=\"\" resource-id=\"\" class=\"android.widget.FrameLayout\" package=\"com.maxfour.music\" content-desc=\"\" checkable=\"false\" checked=\"false\" clickable=\"true\" enabled=\"true\" focusable=\"true\" focused=\"false\" scrollable=\"false\" long-clickable=\"true\" password=\"false\" selected=\"false\" bounds=\"[42,1763][1038,1794]\">\\r\\n                                  <node index=\"0\" text=\"\" resource-id=\"\" class=\"android.widget.LinearLayout\" package=\"com.maxfour.music\" content-desc=\"\" checkable=\"false\" checked=\"false\" clickable=\"false\" enabled=\"true\" focusable=\"false\" focused=\"false\" scrollable=\"false\" long-clickable=\"false\" password=\"false\" selected=\"false\" bounds=\"[42,1763][1038,1794]\">\\r\\n                                    <node index=\"0\" text=\"\" resource-id=\"com.maxfour.music:id/image_container\" class=\"android.widget.FrameLayout\" package=\"com.maxfour.music\" content-desc=\"\" checkable=\"false\" checked=\"false\" clickable=\"false\" enabled=\"true\" focusable=\"false\" focused=\"false\" scrollable=\"false\" long-clickable=\"false\" password=\"false\" selected=\"false\" bounds=\"[42,1763][189,1794]\">\\r\\n                                      <node index=\"0\" text=\"0\" resource-id=\"com.maxfour.music:id/image_text\" class=\"android.widget.TextView\" package=\"com.maxfour.music\" content-desc=\"\" checkable=\"false\" checked=\"false\" clickable=\"false\" enabled=\"true\" focusable=\"false\" focused=\"false\" scrollable=\"false\" long-clickable=\"false\" password=\"false\" selected=\"false\" bounds=\"[84,1763][189,1794]\" />\\r\\n                                    </node>\\r\\n                                  </node>\\r\\n                                </node>\\r\\n                              </node>\\r\\n                            </node>\\r\\n                            <node index=\"1\" text=\"\" resource-id=\"com.maxfour.music:id/draggable_area\" class=\"android.view.View\" package=\"com.maxfour.music\" content-desc=\"\" checkable=\"false\" checked=\"false\" clickable=\"false\" enabled=\"true\" focusable=\"false\" focused=\"false\" scrollable=\"false\" long-clickable=\"false\" password=\"false\" selected=\"false\" bounds=\"[42,1763][231,1794]\" />\\r\\n                          </node>\\r\\n                        </node>\\r\\n                      </node>\\r\\n                    </node>\\r\\n                  </node>\\r\\n                </node>\\r\\n              </node>\\r\\n            </node>\\r\\n          </node>\\r\\n        </node>\\r\\n      </node>\\r\\n    </node>\\r\\n  </node>\\r\\n</hierarchy>'"
      ]
     },
     "execution_count": 84,
     "metadata": {},
     "output_type": "execute_result"
    }
   ],
   "source": [
    "d.dump(\"hierarchy.xml\", compressed=False)"
   ]
  },
  {
   "cell_type": "code",
   "execution_count": 104,
   "metadata": {},
   "outputs": [
    {
     "data": {
      "text/plain": [
       "{'bounds': {'bottom': 1794, 'left': 0, 'right': 1080, 'top': 63},\n",
       " 'childCount': 7,\n",
       " 'className': 'android.webkit.WebView',\n",
       " 'contentDescription': None,\n",
       " 'packageName': 'com.uberspot.a2048',\n",
       " 'resourceName': None,\n",
       " 'text': '2048',\n",
       " 'visibleBounds': {'bottom': 1794, 'left': 0, 'right': 1080, 'top': 63},\n",
       " 'checkable': False,\n",
       " 'checked': False,\n",
       " 'clickable': False,\n",
       " 'enabled': True,\n",
       " 'focusable': True,\n",
       " 'focused': True,\n",
       " 'longClickable': False,\n",
       " 'scrollable': True,\n",
       " 'selected': False}"
      ]
     },
     "execution_count": 104,
     "metadata": {},
     "output_type": "execute_result"
    }
   ],
   "source": [
    "d(scrollable='true').info"
   ]
  },
  {
   "cell_type": "code",
   "execution_count": 82,
   "metadata": {},
   "outputs": [
    {
     "data": {
      "text/plain": [
       "'<?xml version=\\'1.0\\' encoding=\\'UTF-8\\' standalone=\\'yes\\' ?>\\r\\n<hierarchy rotation=\"1\">\\r\\n  <node index=\"0\" text=\"\" resource-id=\"com.android.systemui:id/navigation_bar_frame\" class=\"android.widget.FrameLayout\" package=\"com.android.systemui\" content-desc=\"\" checkable=\"false\" checked=\"false\" clickable=\"false\" enabled=\"true\" focusable=\"false\" focused=\"false\" scrollable=\"false\" long-clickable=\"false\" password=\"false\" selected=\"false\" bounds=\"[1794,0][1920,1080]\">\\r\\n    <node index=\"0\" text=\"\" resource-id=\"\" class=\"android.widget.FrameLayout\" package=\"com.android.systemui\" content-desc=\"\" checkable=\"false\" checked=\"false\" clickable=\"false\" enabled=\"true\" focusable=\"false\" focused=\"false\" scrollable=\"false\" long-clickable=\"false\" password=\"false\" selected=\"false\" bounds=\"[1794,0][1920,1080]\">\\r\\n      <node index=\"0\" text=\"\" resource-id=\"com.android.systemui:id/menu\" class=\"android.widget.ImageView\" package=\"com.android.systemui\" content-desc=\"Menu\" checkable=\"false\" checked=\"false\" clickable=\"true\" enabled=\"true\" focusable=\"true\" focused=\"false\" scrollable=\"false\" long-clickable=\"true\" password=\"false\" selected=\"false\" bounds=\"[1794,42][1920,141]\" />\\r\\n      <node index=\"1\" text=\"\" resource-id=\"com.android.systemui:id/recent_apps\" class=\"android.widget.ImageView\" package=\"com.android.systemui\" content-desc=\"Overview\" checkable=\"false\" checked=\"false\" clickable=\"true\" enabled=\"true\" focusable=\"true\" focused=\"false\" scrollable=\"false\" long-clickable=\"true\" password=\"false\" selected=\"false\" bounds=\"[1794,141][1920,340]\" />\\r\\n      <node index=\"2\" text=\"\" resource-id=\"com.android.systemui:id/back\" class=\"android.widget.ImageView\" package=\"com.android.systemui\" content-desc=\"Back\" checkable=\"false\" checked=\"false\" clickable=\"true\" enabled=\"true\" focusable=\"true\" focused=\"false\" scrollable=\"false\" long-clickable=\"true\" password=\"false\" selected=\"false\" bounds=\"[1794,738][1920,938]\" />\\r\\n      <node index=\"3\" text=\"\" resource-id=\"com.android.systemui:id/home\" class=\"android.widget.FrameLayout\" package=\"com.android.systemui\" content-desc=\"\" checkable=\"false\" checked=\"false\" clickable=\"true\" enabled=\"true\" focusable=\"true\" focused=\"false\" scrollable=\"false\" long-clickable=\"false\" password=\"false\" selected=\"false\" bounds=\"[1794,435][1920,645]\">\\r\\n        <node index=\"0\" text=\"\" resource-id=\"com.android.systemui:id/home_button\" class=\"android.widget.ImageView\" package=\"com.android.systemui\" content-desc=\"Home\" checkable=\"false\" checked=\"false\" clickable=\"true\" enabled=\"true\" focusable=\"true\" focused=\"false\" scrollable=\"false\" long-clickable=\"true\" password=\"false\" selected=\"false\" bounds=\"[1794,435][1920,645]\" />\\r\\n      </node>\\r\\n    </node>\\r\\n  </node>\\r\\n  <node index=\"0\" text=\"\" resource-id=\"\" class=\"android.widget.FrameLayout\" package=\"com.traffar.a24game\" content-desc=\"\" checkable=\"false\" checked=\"false\" clickable=\"false\" enabled=\"true\" focusable=\"false\" focused=\"false\" scrollable=\"false\" long-clickable=\"false\" password=\"false\" selected=\"false\" bounds=\"[0,0][1794,1080]\">\\r\\n    <node index=\"0\" text=\"\" resource-id=\"\" class=\"android.view.View\" package=\"com.traffar.a24game\" content-desc=\"\" checkable=\"false\" checked=\"false\" clickable=\"false\" enabled=\"true\" focusable=\"true\" focused=\"true\" scrollable=\"false\" long-clickable=\"false\" password=\"false\" selected=\"false\" bounds=\"[0,0][1794,1080]\" />\\r\\n  </node>\\r\\n</hierarchy>'"
      ]
     },
     "execution_count": 82,
     "metadata": {},
     "output_type": "execute_result"
    }
   ],
   "source": [
    "d.dump(\"hierarchy.xml\")"
   ]
  },
  {
   "cell_type": "code",
   "execution_count": 40,
   "metadata": {},
   "outputs": [],
   "source": [
    "d.watcher(\"AUTO_FC_WHEN_ANR\").when(clickable=\"true\").click(text=\"\")"
   ]
  },
  {
   "cell_type": "code",
   "execution_count": 23,
   "metadata": {},
   "outputs": [
    {
     "data": {
      "text/plain": [
       "False"
      ]
     },
     "execution_count": 23,
     "metadata": {},
     "output_type": "execute_result"
    }
   ],
   "source": [
    "d(scrollable=True).fling.vert.backward()"
   ]
  },
  {
   "cell_type": "code",
   "execution_count": 21,
   "metadata": {},
   "outputs": [
    {
     "data": {
      "text/plain": [
       "True"
      ]
     },
     "execution_count": 21,
     "metadata": {},
     "output_type": "execute_result"
    }
   ],
   "source": [
    "d(clickable=True, instance=3).click()"
   ]
  },
  {
   "cell_type": "code",
   "execution_count": 29,
   "metadata": {},
   "outputs": [],
   "source": [
    "import xml.sax\n",
    "import os\n",
    "from uiautomator import device as d\n",
    "import re\n",
    "import subprocess\n",
    "import time\n",
    "android_home = os.environ['ANDROID_HOME'] + '/'"
   ]
  },
  {
   "cell_type": "code",
   "execution_count": 2,
   "metadata": {},
   "outputs": [],
   "source": [
    "def findFiles(rootdir):\n",
    "    #find all files under the rootdir\n",
    "    files = []\n",
    "    list = os.listdir(rootdir)\n",
    "    for subPath in list:\n",
    "        path = os.path.join(rootdir,subPath)\n",
    "        if os.path.isdir(path):\n",
    "            files.extend(findFiles(path))\n",
    "        if os.path.isfile(path):\n",
    "            files.append(path)\n",
    "    return files\n",
    "\n",
    "# class MyHandler( xml.sax.ContentHandler ):\n",
    "#     def __init__(self, resourceIDList):\n",
    "#         self.resourceIDList = resourceIDList\n",
    " \n",
    "#    # 元素开始事件处理\n",
    "#     def startElement(self, tag, attributes):\n",
    "#         self.CurrentData = tag\n",
    "#         if attributes.get('package') != 'com.android.systemui':\n",
    "#             resourceID = str(attributes.get('resource-id'))\n",
    "#             bounds = str(attributes.get('bounds'))\n",
    "#             find = resourceID.find('/')\n",
    "#             if find != -1:\n",
    "#                 resourceID = str(resourceID[find+1:])\n",
    "#                 self.resourceIDList[resourceID] = bounds\n",
    "                \n",
    "class FindLayoutHandler (xml.sax.ContentHandler):\n",
    "    def __init__(self, appName, resultList):\n",
    "        self.appName = appName\n",
    "        self.resultList = resultList\n",
    " \n",
    "    def startElement(self, tag, attributes):\n",
    "        self.CurrentData = tag\n",
    "        if ('.' in tag) and (not 'android' in tag) and (not self.appName in tag):\n",
    "            resourceID = str(attributes.get('android:id'))\n",
    "            find = resourceID.find('/')\n",
    "            if find != -1:\n",
    "                resourceID = resourceID[find+1:]\n",
    "            if resourceID in self.resultList:\n",
    "                self.resultList[resourceID].append(tag)\n",
    "            else:\n",
    "                self.resultList[resourceID] = [tag]"
   ]
  },
  {
   "cell_type": "code",
   "execution_count": 3,
   "metadata": {},
   "outputs": [],
   "source": [
    "def getThirdPartyComponents(appName, layoutFolder):\n",
    "    resultList = {}\n",
    "    if not os.path.exists(layoutFolder):\n",
    "        return resultList\n",
    "    files = findFiles(layoutFolder)\n",
    "    for file in files:\n",
    "        if file.endswith('.xml'):\n",
    "            parser = xml.sax.make_parser()\n",
    "            parser.setFeature(xml.sax.handler.feature_namespaces, 0)\n",
    "            Handler = FindLayoutHandler(appName, resultList)\n",
    "            parser.setContentHandler( Handler )\n",
    "            parser.parse(file)\n",
    "            resultList = Handler.resultList\n",
    "    return resultList"
   ]
  },
  {
   "cell_type": "code",
   "execution_count": 4,
   "metadata": {},
   "outputs": [],
   "source": [
    "# class LayoutHandler (xml.sax.ContentHandler):\n",
    "#     def __init__(self, appName, hasThirdParty):\n",
    "#         self.appName = appName\n",
    "#         self.hasThirdParty = hasThirdParty\n",
    " \n",
    "#     def startElement(self, tag, attributes):\n",
    "#         self.CurrentData = tag\n",
    "#         if ('.' in tag) and (not 'android' in tag) and (not self.appName in tag):\n",
    "#             self.hasThirdParty = True"
   ]
  },
  {
   "cell_type": "code",
   "execution_count": 5,
   "metadata": {},
   "outputs": [],
   "source": [
    "# def hasThirdParty(path):\n",
    "#     layoutPath = os.path.join(path,'resources','res','layout')\n",
    "#     if (os.path.exists(layoutPath)):\n",
    "#         xmlFiles = os.listdir(layoutPath)\n",
    "#         hasThirdParty = False\n",
    "#         appName = path.split('/')[-1].split('.')[1]\n",
    "#         for file in xmlFiles:\n",
    "#             filePath = os.path.join(layoutPath,file)\n",
    "#             if os.path.isfile(filePath) and filePath.endswith('.xml'):\n",
    "#                 parser = xml.sax.make_parser()\n",
    "#                 parser.setFeature(xml.sax.handler.feature_namespaces, 0)\n",
    "#                 Handler = LayoutHandler(appName, hasThirdParty)\n",
    "#                 parser.setContentHandler( Handler )\n",
    "#                 parser.parse(filePath)\n",
    "#                 hasThirdParty = Handler.hasThirdParty\n",
    "#             if hasThirdParty:\n",
    "#                     return True\n",
    "#     return False\n",
    "    \n",
    "    \n",
    "def getList(folderPath):\n",
    "    files = []\n",
    "    list = os.listdir(folderPath)\n",
    "    appList = 'appList.txt'\n",
    "    writePath = os.path.join(folderPath,appList)\n",
    "    writeFile = open(writePath, 'w')\n",
    "    for subPath in list:\n",
    "        path = os.path.join(folderPath,subPath)\n",
    "        if os.path.isdir(path):\n",
    "            writeFile.write(path.split('/')[-1] + '.apk' + '\\n')\n",
    "#             if hasThirdParty(path):\n",
    "#                 writeFile.write(path.split('/')[-1] + '.apk' + '\\n')\n",
    "    writeFile.close()"
   ]
  },
  {
   "cell_type": "code",
   "execution_count": 87,
   "metadata": {
    "scrolled": false
   },
   "outputs": [
    {
     "name": "stdout",
     "output_type": "stream",
     "text": [
      "!!!\n"
     ]
    },
    {
     "ename": "KeyboardInterrupt",
     "evalue": "",
     "output_type": "error",
     "traceback": [
      "\u001b[0;31m---------------------------------------------------------------------------\u001b[0m",
      "\u001b[0;31mKeyboardInterrupt\u001b[0m                         Traceback (most recent call last)",
      "\u001b[0;32m<ipython-input-87-5a4b34aaf3a9>\u001b[0m in \u001b[0;36m<module>\u001b[0;34m()\u001b[0m\n\u001b[1;32m     25\u001b[0m             \u001b[0mthirdPartyComponents\u001b[0m \u001b[0;34m=\u001b[0m \u001b[0mgetThirdPartyComponents\u001b[0m\u001b[0;34m(\u001b[0m\u001b[0mpackageName\u001b[0m\u001b[0;34m.\u001b[0m\u001b[0msplit\u001b[0m\u001b[0;34m(\u001b[0m\u001b[0;34m'.'\u001b[0m\u001b[0;34m)\u001b[0m\u001b[0;34m[\u001b[0m\u001b[0;36m1\u001b[0m\u001b[0;34m]\u001b[0m\u001b[0;34m,\u001b[0m \u001b[0mos\u001b[0m\u001b[0;34m.\u001b[0m\u001b[0mpath\u001b[0m\u001b[0;34m.\u001b[0m\u001b[0mjoin\u001b[0m\u001b[0;34m(\u001b[0m\u001b[0mrootDir\u001b[0m\u001b[0;34m,\u001b[0m \u001b[0mapk\u001b[0m\u001b[0;34m[\u001b[0m\u001b[0;34m:\u001b[0m\u001b[0;34m-\u001b[0m\u001b[0;36m4\u001b[0m\u001b[0;34m]\u001b[0m\u001b[0;34m,\u001b[0m \u001b[0;34m'resources'\u001b[0m\u001b[0;34m,\u001b[0m\u001b[0;34m'res'\u001b[0m\u001b[0;34m,\u001b[0m\u001b[0;34m'layout'\u001b[0m\u001b[0;34m)\u001b[0m\u001b[0;34m)\u001b[0m\u001b[0;34m\u001b[0m\u001b[0m\n\u001b[1;32m     26\u001b[0m             \u001b[0;32mif\u001b[0m \u001b[0mlen\u001b[0m\u001b[0;34m(\u001b[0m\u001b[0mthirdPartyComponents\u001b[0m\u001b[0;34m)\u001b[0m \u001b[0;34m>\u001b[0m \u001b[0;36m0\u001b[0m\u001b[0;34m:\u001b[0m\u001b[0;34m\u001b[0m\u001b[0m\n\u001b[0;32m---> 27\u001b[0;31m                 \u001b[0mtest\u001b[0m\u001b[0;34m(\u001b[0m\u001b[0mapk\u001b[0m\u001b[0;34m,\u001b[0m \u001b[0mstartActivity\u001b[0m\u001b[0;34m,\u001b[0m \u001b[0mpackageName\u001b[0m\u001b[0;34m)\u001b[0m\u001b[0;34m\u001b[0m\u001b[0m\n\u001b[0m",
      "\u001b[0;32m<ipython-input-86-7f41b44624de>\u001b[0m in \u001b[0;36mtest\u001b[0;34m(apk, startActivity, packageName)\u001b[0m\n\u001b[1;32m     10\u001b[0m     \u001b[0mtraverse\u001b[0m\u001b[0;34m(\u001b[0m\u001b[0;36m1\u001b[0m\u001b[0;34m,\u001b[0m \u001b[0mos\u001b[0m\u001b[0;34m.\u001b[0m\u001b[0mpath\u001b[0m\u001b[0;34m.\u001b[0m\u001b[0mjoin\u001b[0m\u001b[0;34m(\u001b[0m\u001b[0;34m'/Users/xikaioliver/Desktop/Result'\u001b[0m\u001b[0;34m,\u001b[0m \u001b[0mpackageName\u001b[0m\u001b[0;34m)\u001b[0m\u001b[0;34m)\u001b[0m\u001b[0;34m\u001b[0m\u001b[0m\n\u001b[1;32m     11\u001b[0m \u001b[0;34m\u001b[0m\u001b[0m\n\u001b[0;32m---> 12\u001b[0;31m     \u001b[0mtime\u001b[0m\u001b[0;34m.\u001b[0m\u001b[0msleep\u001b[0m\u001b[0;34m(\u001b[0m\u001b[0;36m1000\u001b[0m\u001b[0;34m)\u001b[0m\u001b[0;34m\u001b[0m\u001b[0m\n\u001b[0m\u001b[1;32m     13\u001b[0m     \u001b[0msubprocess\u001b[0m\u001b[0;34m.\u001b[0m\u001b[0mPopen\u001b[0m\u001b[0;34m(\u001b[0m\u001b[0;34m[\u001b[0m\u001b[0;34m'adb'\u001b[0m\u001b[0;34m,\u001b[0m \u001b[0;34m'shell'\u001b[0m\u001b[0;34m,\u001b[0m \u001b[0;34m'am'\u001b[0m\u001b[0;34m,\u001b[0m \u001b[0;34m'force-stop'\u001b[0m\u001b[0;34m,\u001b[0m \u001b[0mpackageName\u001b[0m\u001b[0;34m]\u001b[0m\u001b[0;34m)\u001b[0m\u001b[0;34m\u001b[0m\u001b[0m\n\u001b[1;32m     14\u001b[0m     \u001b[0md\u001b[0m\u001b[0;34m.\u001b[0m\u001b[0mpress\u001b[0m\u001b[0;34m(\u001b[0m\u001b[0;34m'home'\u001b[0m\u001b[0;34m)\u001b[0m\u001b[0;34m\u001b[0m\u001b[0m\n",
      "\u001b[0;31mKeyboardInterrupt\u001b[0m: "
     ]
    }
   ],
   "source": [
    "rootDir = '/Users/xikaioliver/Desktop/APK'\n",
    "getList(rootDir)\n",
    "appList = os.path.join(rootDir,'appList.txt')\n",
    "\n",
    "with open(appList, 'r') as f:\n",
    "        apks_to_test = [line.rstrip() for line in f]\n",
    "f.close()\n",
    "\n",
    "for apk in apks_to_test:\n",
    "        m = re.findall('^(.*)_.*\\.apk', apk)\n",
    "        packageName = m[0]\n",
    "        try:\n",
    "            ps = subprocess.Popen([android_home + 'build-tools/26.0.1/aapt', 'dump', 'badging', os.path.join(rootDir,apk)],\n",
    "                                  stdout=subprocess.PIPE)\n",
    "            output = subprocess.check_output(('grep', 'launchable-activity:'), stdin=ps.stdout)\n",
    "            label = output.decode('utf-8')\n",
    "        except subprocess.CalledProcessError:\n",
    "            continue\n",
    "        m = re.findall('^launchable-activity:(.*)$', label)\n",
    "        try:\n",
    "            startActivity = m[0].split()[0][6:-1]\n",
    "        except IndexError:\n",
    "            continue\n",
    "        else:\n",
    "            thirdPartyComponents = getThirdPartyComponents(packageName.split('.')[1], os.path.join(rootDir, apk[:-4], 'resources','res','layout'))\n",
    "            if len(thirdPartyComponents) > 0:\n",
    "                test(apk, startActivity, packageName)"
   ]
  },
  {
   "cell_type": "code",
   "execution_count": 86,
   "metadata": {},
   "outputs": [],
   "source": [
    "def test(apk, startActivity, packageName):\n",
    "    print('!!!')\n",
    "    d.press('home')\n",
    "    subprocess.Popen(['adb', 'install', os.path.join(rootDir,apk)])\n",
    "    subprocess.Popen(['adb', 'shell', 'am', 'start', '-n', packageName + '/' + startActivity])\n",
    "    time.sleep(10)\n",
    "    \n",
    "    \n",
    "    #遍历5min\n",
    "    traverse(1, os.path.join('/Users/xikaioliver/Desktop/Result', packageName))\n",
    "    \n",
    "    time.sleep(1000)\n",
    "    subprocess.Popen(['adb', 'shell', 'am', 'force-stop', packageName])\n",
    "    d.press('home')"
   ]
  },
  {
   "cell_type": "code",
   "execution_count": 77,
   "metadata": {},
   "outputs": [],
   "source": [
    "class DumpFileHandler( xml.sax.ContentHandler ):\n",
    "    def __init__(self, thirdPartyComponentList):\n",
    "        self.thirdPartyComponentList = thirdPartyComponentList\n",
    "\n",
    "    def startElement(self, tag, attributes):\n",
    "        self.CurrentData = tag\n",
    "        if attributes.get('package') != 'com.android.systemui':\n",
    "            resourceID = str(attributes.get('resource-id'))\n",
    "            bounds = str(attributes.get('bounds'))\n",
    "            find = resourceID.find('/')\n",
    "            if find != -1:\n",
    "                resourceID = str(resourceID[find+1:])\n",
    "                if resourceID in thirdPartyComponents:\n",
    "                    self.thirdPartyComponentList[resourceID] = bounds\n",
    "\n",
    "def traverse(pageNum, resultFolder):\n",
    "    current = d.dump('temp.xml', compressed=False)\n",
    "    thirdPartyComponentList = {}\n",
    "    parser = xml.sax.make_parser()\n",
    "    parser.setFeature(xml.sax.handler.feature_namespaces, 0)\n",
    "    Handler = DumpFileHandler(thirdPartyComponentList)\n",
    "    parser.setContentHandler( Handler )\n",
    "    parser.parse('temp.xml')\n",
    "    thirdPartyComponentList = Handler.thirdPartyComponentList\n",
    "    \n",
    "    if len(thirdPartyComponentList) > 0:\n",
    "        d.screenshot(os.path.join(resultFolder, str(pageNum) + \".png\"))\n",
    "        d.dump(os.path.join(resultFolder, str(pageNum) + \".xml\"), compressed=False)\n",
    "        writePath = os.path.join(resultFolder, str(pageNum) + '.txt')\n",
    "        writeFile = open(writePath, 'w')\n",
    "        for component in thirdPartyComponentList:\n",
    "            writeFile.write(component + '\\n')\n",
    "        writeFile.close()\n",
    "\n",
    "    componentList = {}\n",
    "    UISelectorList = d(packageName = packageName, clickable=True)\n",
    "    for component in UISelectorList:\n",
    "        componentList[component] = 'clickable'\n",
    "    for component in componentList.keys():\n",
    "        if componentList[component] == 'clickable' and component.exists:\n",
    "            print(component.info)\n",
    "            component.click()\n",
    "            new = d.dump('temp.xml', compressed=False)\n",
    "            print(current == new)\n",
    "            if (current != new):\n",
    "                print('here')\n",
    "                traverse(pageNum + 1, resultFolder)\n",
    "    d.press.back()"
   ]
  },
  {
   "cell_type": "code",
   "execution_count": 79,
   "metadata": {
    "scrolled": true
   },
   "outputs": [
    {
     "name": "stdout",
     "output_type": "stream",
     "text": [
      "{'bounds': {'bottom': 189, 'left': 21, 'right': 597, 'top': 63}, 'childCount': 2, 'className': 'android.widget.LinearLayout', 'contentDescription': '', 'packageName': 'com.fsck.k9', 'resourceName': None, 'text': '', 'visibleBounds': {'bottom': 189, 'left': 21, 'right': 597, 'top': 63}, 'checkable': False, 'checked': False, 'clickable': True, 'enabled': False, 'focusable': False, 'focused': False, 'longClickable': False, 'scrollable': False, 'selected': False}\n",
      "True\n",
      "{'bounds': {'bottom': 780, 'left': 16, 'right': 1038, 'top': 678}, 'childCount': 0, 'className': 'android.widget.EditText', 'contentDescription': '', 'packageName': 'com.fsck.k9', 'resourceName': None, 'text': 'Email address', 'visibleBounds': {'bottom': 780, 'left': 16, 'right': 1038, 'top': 678}, 'checkable': False, 'checked': False, 'clickable': True, 'enabled': True, 'focusable': True, 'focused': True, 'longClickable': True, 'scrollable': False, 'selected': False}\n",
      "False\n",
      "here\n",
      "{'bounds': {'bottom': 189, 'left': 21, 'right': 597, 'top': 63}, 'childCount': 2, 'className': 'android.widget.LinearLayout', 'contentDescription': '', 'packageName': 'com.fsck.k9', 'resourceName': None, 'text': '', 'visibleBounds': {'bottom': 189, 'left': 21, 'right': 597, 'top': 63}, 'checkable': False, 'checked': False, 'clickable': True, 'enabled': False, 'focusable': False, 'focused': False, 'longClickable': False, 'scrollable': False, 'selected': False}\n",
      "True\n",
      "{'bounds': {'bottom': 409, 'left': 16, 'right': 1038, 'top': 307}, 'childCount': 0, 'className': 'android.widget.EditText', 'contentDescription': '', 'packageName': 'com.fsck.k9', 'resourceName': None, 'text': 'Email address', 'visibleBounds': {'bottom': 409, 'left': 16, 'right': 1038, 'top': 307}, 'checkable': False, 'checked': False, 'clickable': True, 'enabled': True, 'focusable': True, 'focused': True, 'longClickable': True, 'scrollable': False, 'selected': False}\n",
      "True\n",
      "{'bounds': {'bottom': 511, 'left': 16, 'right': 1038, 'top': 409}, 'childCount': 0, 'className': 'android.widget.EditText', 'contentDescription': '', 'packageName': 'com.fsck.k9', 'resourceName': None, 'text': 'Password', 'visibleBounds': {'bottom': 511, 'left': 16, 'right': 1038, 'top': 409}, 'checkable': False, 'checked': False, 'clickable': True, 'enabled': True, 'focusable': True, 'focused': False, 'longClickable': True, 'scrollable': False, 'selected': False}\n",
      "False\n",
      "here\n",
      "{'bounds': {'bottom': 189, 'left': 21, 'right': 597, 'top': 63}, 'childCount': 2, 'className': 'android.widget.LinearLayout', 'contentDescription': '', 'packageName': 'com.fsck.k9', 'resourceName': None, 'text': '', 'visibleBounds': {'bottom': 189, 'left': 21, 'right': 597, 'top': 63}, 'checkable': False, 'checked': False, 'clickable': True, 'enabled': False, 'focusable': False, 'focused': False, 'longClickable': False, 'scrollable': False, 'selected': False}\n",
      "True\n",
      "{'bounds': {'bottom': 409, 'left': 16, 'right': 1038, 'top': 307}, 'childCount': 0, 'className': 'android.widget.EditText', 'contentDescription': '', 'packageName': 'com.fsck.k9', 'resourceName': None, 'text': 'Email address', 'visibleBounds': {'bottom': 409, 'left': 16, 'right': 1038, 'top': 307}, 'checkable': False, 'checked': False, 'clickable': True, 'enabled': True, 'focusable': True, 'focused': False, 'longClickable': True, 'scrollable': False, 'selected': False}\n",
      "False\n",
      "here\n",
      "{'bounds': {'bottom': 189, 'left': 21, 'right': 597, 'top': 63}, 'childCount': 2, 'className': 'android.widget.LinearLayout', 'contentDescription': '', 'packageName': 'com.fsck.k9', 'resourceName': None, 'text': '', 'visibleBounds': {'bottom': 189, 'left': 21, 'right': 597, 'top': 63}, 'checkable': False, 'checked': False, 'clickable': True, 'enabled': False, 'focusable': False, 'focused': False, 'longClickable': False, 'scrollable': False, 'selected': False}\n",
      "True\n",
      "{'bounds': {'bottom': 409, 'left': 16, 'right': 1038, 'top': 307}, 'childCount': 0, 'className': 'android.widget.EditText', 'contentDescription': '', 'packageName': 'com.fsck.k9', 'resourceName': None, 'text': 'Email address', 'visibleBounds': {'bottom': 409, 'left': 16, 'right': 1038, 'top': 307}, 'checkable': False, 'checked': False, 'clickable': True, 'enabled': True, 'focusable': True, 'focused': True, 'longClickable': True, 'scrollable': False, 'selected': False}\n",
      "True\n",
      "{'bounds': {'bottom': 511, 'left': 16, 'right': 1038, 'top': 409}, 'childCount': 0, 'className': 'android.widget.EditText', 'contentDescription': '', 'packageName': 'com.fsck.k9', 'resourceName': None, 'text': 'Password', 'visibleBounds': {'bottom': 511, 'left': 16, 'right': 1038, 'top': 409}, 'checkable': False, 'checked': False, 'clickable': True, 'enabled': True, 'focusable': True, 'focused': False, 'longClickable': True, 'scrollable': False, 'selected': False}\n",
      "False\n",
      "here\n",
      "{'bounds': {'bottom': 189, 'left': 21, 'right': 597, 'top': 63}, 'childCount': 2, 'className': 'android.widget.LinearLayout', 'contentDescription': '', 'packageName': 'com.fsck.k9', 'resourceName': None, 'text': '', 'visibleBounds': {'bottom': 189, 'left': 21, 'right': 597, 'top': 63}, 'checkable': False, 'checked': False, 'clickable': True, 'enabled': False, 'focusable': False, 'focused': False, 'longClickable': False, 'scrollable': False, 'selected': False}\n",
      "True\n",
      "{'bounds': {'bottom': 409, 'left': 16, 'right': 1038, 'top': 307}, 'childCount': 0, 'className': 'android.widget.EditText', 'contentDescription': '', 'packageName': 'com.fsck.k9', 'resourceName': None, 'text': 'Email address', 'visibleBounds': {'bottom': 409, 'left': 16, 'right': 1038, 'top': 307}, 'checkable': False, 'checked': False, 'clickable': True, 'enabled': True, 'focusable': True, 'focused': False, 'longClickable': True, 'scrollable': False, 'selected': False}\n",
      "False\n",
      "here\n",
      "{'bounds': {'bottom': 189, 'left': 21, 'right': 597, 'top': 63}, 'childCount': 2, 'className': 'android.widget.LinearLayout', 'contentDescription': '', 'packageName': 'com.fsck.k9', 'resourceName': None, 'text': '', 'visibleBounds': {'bottom': 189, 'left': 21, 'right': 597, 'top': 63}, 'checkable': False, 'checked': False, 'clickable': True, 'enabled': False, 'focusable': False, 'focused': False, 'longClickable': False, 'scrollable': False, 'selected': False}\n",
      "True\n",
      "{'bounds': {'bottom': 409, 'left': 16, 'right': 1038, 'top': 307}, 'childCount': 0, 'className': 'android.widget.EditText', 'contentDescription': '', 'packageName': 'com.fsck.k9', 'resourceName': None, 'text': 'Email address', 'visibleBounds': {'bottom': 409, 'left': 16, 'right': 1038, 'top': 307}, 'checkable': False, 'checked': False, 'clickable': True, 'enabled': True, 'focusable': True, 'focused': True, 'longClickable': True, 'scrollable': False, 'selected': False}\n",
      "True\n",
      "{'bounds': {'bottom': 511, 'left': 16, 'right': 1038, 'top': 409}, 'childCount': 0, 'className': 'android.widget.EditText', 'contentDescription': '', 'packageName': 'com.fsck.k9', 'resourceName': None, 'text': 'Password', 'visibleBounds': {'bottom': 511, 'left': 16, 'right': 1038, 'top': 409}, 'checkable': False, 'checked': False, 'clickable': True, 'enabled': True, 'focusable': True, 'focused': False, 'longClickable': True, 'scrollable': False, 'selected': False}\n",
      "False\n",
      "here\n",
      "{'bounds': {'bottom': 189, 'left': 21, 'right': 597, 'top': 63}, 'childCount': 2, 'className': 'android.widget.LinearLayout', 'contentDescription': '', 'packageName': 'com.fsck.k9', 'resourceName': None, 'text': '', 'visibleBounds': {'bottom': 189, 'left': 21, 'right': 597, 'top': 63}, 'checkable': False, 'checked': False, 'clickable': True, 'enabled': False, 'focusable': False, 'focused': False, 'longClickable': False, 'scrollable': False, 'selected': False}\n",
      "True\n",
      "{'bounds': {'bottom': 409, 'left': 16, 'right': 1038, 'top': 307}, 'childCount': 0, 'className': 'android.widget.EditText', 'contentDescription': '', 'packageName': 'com.fsck.k9', 'resourceName': None, 'text': 'Email address', 'visibleBounds': {'bottom': 409, 'left': 16, 'right': 1038, 'top': 307}, 'checkable': False, 'checked': False, 'clickable': True, 'enabled': True, 'focusable': True, 'focused': False, 'longClickable': True, 'scrollable': False, 'selected': False}\n",
      "False\n",
      "here\n",
      "{'bounds': {'bottom': 189, 'left': 21, 'right': 597, 'top': 63}, 'childCount': 2, 'className': 'android.widget.LinearLayout', 'contentDescription': '', 'packageName': 'com.fsck.k9', 'resourceName': None, 'text': '', 'visibleBounds': {'bottom': 189, 'left': 21, 'right': 597, 'top': 63}, 'checkable': False, 'checked': False, 'clickable': True, 'enabled': False, 'focusable': False, 'focused': False, 'longClickable': False, 'scrollable': False, 'selected': False}\n"
     ]
    },
    {
     "name": "stdout",
     "output_type": "stream",
     "text": [
      "True\n",
      "{'bounds': {'bottom': 409, 'left': 16, 'right': 1038, 'top': 307}, 'childCount': 0, 'className': 'android.widget.EditText', 'contentDescription': '', 'packageName': 'com.fsck.k9', 'resourceName': None, 'text': 'Email address', 'visibleBounds': {'bottom': 409, 'left': 16, 'right': 1038, 'top': 307}, 'checkable': False, 'checked': False, 'clickable': True, 'enabled': True, 'focusable': True, 'focused': True, 'longClickable': True, 'scrollable': False, 'selected': False}\n",
      "True\n",
      "{'bounds': {'bottom': 511, 'left': 16, 'right': 1038, 'top': 409}, 'childCount': 0, 'className': 'android.widget.EditText', 'contentDescription': '', 'packageName': 'com.fsck.k9', 'resourceName': None, 'text': 'Password', 'visibleBounds': {'bottom': 511, 'left': 16, 'right': 1038, 'top': 409}, 'checkable': False, 'checked': False, 'clickable': True, 'enabled': True, 'focusable': True, 'focused': False, 'longClickable': True, 'scrollable': False, 'selected': False}\n",
      "False\n",
      "here\n"
     ]
    },
    {
     "ename": "KeyboardInterrupt",
     "evalue": "",
     "output_type": "error",
     "traceback": [
      "\u001b[0;31m---------------------------------------------------------------------------\u001b[0m",
      "\u001b[0;31mKeyboardInterrupt\u001b[0m                         Traceback (most recent call last)",
      "\u001b[0;32m<ipython-input-79-67bc3c6ead82>\u001b[0m in \u001b[0;36m<module>\u001b[0;34m()\u001b[0m\n\u001b[0;32m----> 1\u001b[0;31m \u001b[0mtraverse\u001b[0m\u001b[0;34m(\u001b[0m\u001b[0;36m1\u001b[0m\u001b[0;34m,\u001b[0m \u001b[0;34m'/Users/xikaioliver/Desktop/Result'\u001b[0m\u001b[0;34m)\u001b[0m\u001b[0;34m\u001b[0m\u001b[0m\n\u001b[0m",
      "\u001b[0;32m<ipython-input-77-726b31a0e0fb>\u001b[0m in \u001b[0;36mtraverse\u001b[0;34m(pageNum, resultFolder)\u001b[0m\n\u001b[1;32m     45\u001b[0m             \u001b[0;32mif\u001b[0m \u001b[0;34m(\u001b[0m\u001b[0mcurrent\u001b[0m \u001b[0;34m!=\u001b[0m \u001b[0mnew\u001b[0m\u001b[0;34m)\u001b[0m\u001b[0;34m:\u001b[0m\u001b[0;34m\u001b[0m\u001b[0m\n\u001b[1;32m     46\u001b[0m                 \u001b[0mprint\u001b[0m\u001b[0;34m(\u001b[0m\u001b[0;34m'here'\u001b[0m\u001b[0;34m)\u001b[0m\u001b[0;34m\u001b[0m\u001b[0m\n\u001b[0;32m---> 47\u001b[0;31m                 \u001b[0mtraverse\u001b[0m\u001b[0;34m(\u001b[0m\u001b[0mpageNum\u001b[0m \u001b[0;34m+\u001b[0m \u001b[0;36m1\u001b[0m\u001b[0;34m,\u001b[0m \u001b[0mresultFolder\u001b[0m\u001b[0;34m)\u001b[0m\u001b[0;34m\u001b[0m\u001b[0m\n\u001b[0m\u001b[1;32m     48\u001b[0m     \u001b[0md\u001b[0m\u001b[0;34m.\u001b[0m\u001b[0mpress\u001b[0m\u001b[0;34m.\u001b[0m\u001b[0mback\u001b[0m\u001b[0;34m(\u001b[0m\u001b[0;34m)\u001b[0m\u001b[0;34m\u001b[0m\u001b[0m\n",
      "\u001b[0;32m<ipython-input-77-726b31a0e0fb>\u001b[0m in \u001b[0;36mtraverse\u001b[0;34m(pageNum, resultFolder)\u001b[0m\n\u001b[1;32m     45\u001b[0m             \u001b[0;32mif\u001b[0m \u001b[0;34m(\u001b[0m\u001b[0mcurrent\u001b[0m \u001b[0;34m!=\u001b[0m \u001b[0mnew\u001b[0m\u001b[0;34m)\u001b[0m\u001b[0;34m:\u001b[0m\u001b[0;34m\u001b[0m\u001b[0m\n\u001b[1;32m     46\u001b[0m                 \u001b[0mprint\u001b[0m\u001b[0;34m(\u001b[0m\u001b[0;34m'here'\u001b[0m\u001b[0;34m)\u001b[0m\u001b[0;34m\u001b[0m\u001b[0m\n\u001b[0;32m---> 47\u001b[0;31m                 \u001b[0mtraverse\u001b[0m\u001b[0;34m(\u001b[0m\u001b[0mpageNum\u001b[0m \u001b[0;34m+\u001b[0m \u001b[0;36m1\u001b[0m\u001b[0;34m,\u001b[0m \u001b[0mresultFolder\u001b[0m\u001b[0;34m)\u001b[0m\u001b[0;34m\u001b[0m\u001b[0m\n\u001b[0m\u001b[1;32m     48\u001b[0m     \u001b[0md\u001b[0m\u001b[0;34m.\u001b[0m\u001b[0mpress\u001b[0m\u001b[0;34m.\u001b[0m\u001b[0mback\u001b[0m\u001b[0;34m(\u001b[0m\u001b[0;34m)\u001b[0m\u001b[0;34m\u001b[0m\u001b[0m\n",
      "\u001b[0;32m<ipython-input-77-726b31a0e0fb>\u001b[0m in \u001b[0;36mtraverse\u001b[0;34m(pageNum, resultFolder)\u001b[0m\n\u001b[1;32m     45\u001b[0m             \u001b[0;32mif\u001b[0m \u001b[0;34m(\u001b[0m\u001b[0mcurrent\u001b[0m \u001b[0;34m!=\u001b[0m \u001b[0mnew\u001b[0m\u001b[0;34m)\u001b[0m\u001b[0;34m:\u001b[0m\u001b[0;34m\u001b[0m\u001b[0m\n\u001b[1;32m     46\u001b[0m                 \u001b[0mprint\u001b[0m\u001b[0;34m(\u001b[0m\u001b[0;34m'here'\u001b[0m\u001b[0;34m)\u001b[0m\u001b[0;34m\u001b[0m\u001b[0m\n\u001b[0;32m---> 47\u001b[0;31m                 \u001b[0mtraverse\u001b[0m\u001b[0;34m(\u001b[0m\u001b[0mpageNum\u001b[0m \u001b[0;34m+\u001b[0m \u001b[0;36m1\u001b[0m\u001b[0;34m,\u001b[0m \u001b[0mresultFolder\u001b[0m\u001b[0;34m)\u001b[0m\u001b[0;34m\u001b[0m\u001b[0m\n\u001b[0m\u001b[1;32m     48\u001b[0m     \u001b[0md\u001b[0m\u001b[0;34m.\u001b[0m\u001b[0mpress\u001b[0m\u001b[0;34m.\u001b[0m\u001b[0mback\u001b[0m\u001b[0;34m(\u001b[0m\u001b[0;34m)\u001b[0m\u001b[0;34m\u001b[0m\u001b[0m\n",
      "\u001b[0;32m<ipython-input-77-726b31a0e0fb>\u001b[0m in \u001b[0;36mtraverse\u001b[0;34m(pageNum, resultFolder)\u001b[0m\n\u001b[1;32m     45\u001b[0m             \u001b[0;32mif\u001b[0m \u001b[0;34m(\u001b[0m\u001b[0mcurrent\u001b[0m \u001b[0;34m!=\u001b[0m \u001b[0mnew\u001b[0m\u001b[0;34m)\u001b[0m\u001b[0;34m:\u001b[0m\u001b[0;34m\u001b[0m\u001b[0m\n\u001b[1;32m     46\u001b[0m                 \u001b[0mprint\u001b[0m\u001b[0;34m(\u001b[0m\u001b[0;34m'here'\u001b[0m\u001b[0;34m)\u001b[0m\u001b[0;34m\u001b[0m\u001b[0m\n\u001b[0;32m---> 47\u001b[0;31m                 \u001b[0mtraverse\u001b[0m\u001b[0;34m(\u001b[0m\u001b[0mpageNum\u001b[0m \u001b[0;34m+\u001b[0m \u001b[0;36m1\u001b[0m\u001b[0;34m,\u001b[0m \u001b[0mresultFolder\u001b[0m\u001b[0;34m)\u001b[0m\u001b[0;34m\u001b[0m\u001b[0m\n\u001b[0m\u001b[1;32m     48\u001b[0m     \u001b[0md\u001b[0m\u001b[0;34m.\u001b[0m\u001b[0mpress\u001b[0m\u001b[0;34m.\u001b[0m\u001b[0mback\u001b[0m\u001b[0;34m(\u001b[0m\u001b[0;34m)\u001b[0m\u001b[0;34m\u001b[0m\u001b[0m\n",
      "\u001b[0;32m<ipython-input-77-726b31a0e0fb>\u001b[0m in \u001b[0;36mtraverse\u001b[0;34m(pageNum, resultFolder)\u001b[0m\n\u001b[1;32m     45\u001b[0m             \u001b[0;32mif\u001b[0m \u001b[0;34m(\u001b[0m\u001b[0mcurrent\u001b[0m \u001b[0;34m!=\u001b[0m \u001b[0mnew\u001b[0m\u001b[0;34m)\u001b[0m\u001b[0;34m:\u001b[0m\u001b[0;34m\u001b[0m\u001b[0m\n\u001b[1;32m     46\u001b[0m                 \u001b[0mprint\u001b[0m\u001b[0;34m(\u001b[0m\u001b[0;34m'here'\u001b[0m\u001b[0;34m)\u001b[0m\u001b[0;34m\u001b[0m\u001b[0m\n\u001b[0;32m---> 47\u001b[0;31m                 \u001b[0mtraverse\u001b[0m\u001b[0;34m(\u001b[0m\u001b[0mpageNum\u001b[0m \u001b[0;34m+\u001b[0m \u001b[0;36m1\u001b[0m\u001b[0;34m,\u001b[0m \u001b[0mresultFolder\u001b[0m\u001b[0;34m)\u001b[0m\u001b[0;34m\u001b[0m\u001b[0m\n\u001b[0m\u001b[1;32m     48\u001b[0m     \u001b[0md\u001b[0m\u001b[0;34m.\u001b[0m\u001b[0mpress\u001b[0m\u001b[0;34m.\u001b[0m\u001b[0mback\u001b[0m\u001b[0;34m(\u001b[0m\u001b[0;34m)\u001b[0m\u001b[0;34m\u001b[0m\u001b[0m\n",
      "\u001b[0;32m<ipython-input-77-726b31a0e0fb>\u001b[0m in \u001b[0;36mtraverse\u001b[0;34m(pageNum, resultFolder)\u001b[0m\n\u001b[1;32m     45\u001b[0m             \u001b[0;32mif\u001b[0m \u001b[0;34m(\u001b[0m\u001b[0mcurrent\u001b[0m \u001b[0;34m!=\u001b[0m \u001b[0mnew\u001b[0m\u001b[0;34m)\u001b[0m\u001b[0;34m:\u001b[0m\u001b[0;34m\u001b[0m\u001b[0m\n\u001b[1;32m     46\u001b[0m                 \u001b[0mprint\u001b[0m\u001b[0;34m(\u001b[0m\u001b[0;34m'here'\u001b[0m\u001b[0;34m)\u001b[0m\u001b[0;34m\u001b[0m\u001b[0m\n\u001b[0;32m---> 47\u001b[0;31m                 \u001b[0mtraverse\u001b[0m\u001b[0;34m(\u001b[0m\u001b[0mpageNum\u001b[0m \u001b[0;34m+\u001b[0m \u001b[0;36m1\u001b[0m\u001b[0;34m,\u001b[0m \u001b[0mresultFolder\u001b[0m\u001b[0;34m)\u001b[0m\u001b[0;34m\u001b[0m\u001b[0m\n\u001b[0m\u001b[1;32m     48\u001b[0m     \u001b[0md\u001b[0m\u001b[0;34m.\u001b[0m\u001b[0mpress\u001b[0m\u001b[0;34m.\u001b[0m\u001b[0mback\u001b[0m\u001b[0;34m(\u001b[0m\u001b[0;34m)\u001b[0m\u001b[0;34m\u001b[0m\u001b[0m\n",
      "\u001b[0;32m<ipython-input-77-726b31a0e0fb>\u001b[0m in \u001b[0;36mtraverse\u001b[0;34m(pageNum, resultFolder)\u001b[0m\n\u001b[1;32m     45\u001b[0m             \u001b[0;32mif\u001b[0m \u001b[0;34m(\u001b[0m\u001b[0mcurrent\u001b[0m \u001b[0;34m!=\u001b[0m \u001b[0mnew\u001b[0m\u001b[0;34m)\u001b[0m\u001b[0;34m:\u001b[0m\u001b[0;34m\u001b[0m\u001b[0m\n\u001b[1;32m     46\u001b[0m                 \u001b[0mprint\u001b[0m\u001b[0;34m(\u001b[0m\u001b[0;34m'here'\u001b[0m\u001b[0;34m)\u001b[0m\u001b[0;34m\u001b[0m\u001b[0m\n\u001b[0;32m---> 47\u001b[0;31m                 \u001b[0mtraverse\u001b[0m\u001b[0;34m(\u001b[0m\u001b[0mpageNum\u001b[0m \u001b[0;34m+\u001b[0m \u001b[0;36m1\u001b[0m\u001b[0;34m,\u001b[0m \u001b[0mresultFolder\u001b[0m\u001b[0;34m)\u001b[0m\u001b[0;34m\u001b[0m\u001b[0m\n\u001b[0m\u001b[1;32m     48\u001b[0m     \u001b[0md\u001b[0m\u001b[0;34m.\u001b[0m\u001b[0mpress\u001b[0m\u001b[0;34m.\u001b[0m\u001b[0mback\u001b[0m\u001b[0;34m(\u001b[0m\u001b[0;34m)\u001b[0m\u001b[0;34m\u001b[0m\u001b[0m\n",
      "\u001b[0;32m<ipython-input-77-726b31a0e0fb>\u001b[0m in \u001b[0;36mtraverse\u001b[0;34m(pageNum, resultFolder)\u001b[0m\n\u001b[1;32m     45\u001b[0m             \u001b[0;32mif\u001b[0m \u001b[0;34m(\u001b[0m\u001b[0mcurrent\u001b[0m \u001b[0;34m!=\u001b[0m \u001b[0mnew\u001b[0m\u001b[0;34m)\u001b[0m\u001b[0;34m:\u001b[0m\u001b[0;34m\u001b[0m\u001b[0m\n\u001b[1;32m     46\u001b[0m                 \u001b[0mprint\u001b[0m\u001b[0;34m(\u001b[0m\u001b[0;34m'here'\u001b[0m\u001b[0;34m)\u001b[0m\u001b[0;34m\u001b[0m\u001b[0m\n\u001b[0;32m---> 47\u001b[0;31m                 \u001b[0mtraverse\u001b[0m\u001b[0;34m(\u001b[0m\u001b[0mpageNum\u001b[0m \u001b[0;34m+\u001b[0m \u001b[0;36m1\u001b[0m\u001b[0;34m,\u001b[0m \u001b[0mresultFolder\u001b[0m\u001b[0;34m)\u001b[0m\u001b[0;34m\u001b[0m\u001b[0m\n\u001b[0m\u001b[1;32m     48\u001b[0m     \u001b[0md\u001b[0m\u001b[0;34m.\u001b[0m\u001b[0mpress\u001b[0m\u001b[0;34m.\u001b[0m\u001b[0mback\u001b[0m\u001b[0;34m(\u001b[0m\u001b[0;34m)\u001b[0m\u001b[0;34m\u001b[0m\u001b[0m\n",
      "\u001b[0;32m<ipython-input-77-726b31a0e0fb>\u001b[0m in \u001b[0;36mtraverse\u001b[0;34m(pageNum, resultFolder)\u001b[0m\n\u001b[1;32m     15\u001b[0m \u001b[0;34m\u001b[0m\u001b[0m\n\u001b[1;32m     16\u001b[0m \u001b[0;32mdef\u001b[0m \u001b[0mtraverse\u001b[0m\u001b[0;34m(\u001b[0m\u001b[0mpageNum\u001b[0m\u001b[0;34m,\u001b[0m \u001b[0mresultFolder\u001b[0m\u001b[0;34m)\u001b[0m\u001b[0;34m:\u001b[0m\u001b[0;34m\u001b[0m\u001b[0m\n\u001b[0;32m---> 17\u001b[0;31m     \u001b[0mcurrent\u001b[0m \u001b[0;34m=\u001b[0m \u001b[0md\u001b[0m\u001b[0;34m.\u001b[0m\u001b[0mdump\u001b[0m\u001b[0;34m(\u001b[0m\u001b[0;34m'temp.xml'\u001b[0m\u001b[0;34m,\u001b[0m \u001b[0mcompressed\u001b[0m\u001b[0;34m=\u001b[0m\u001b[0;32mFalse\u001b[0m\u001b[0;34m)\u001b[0m\u001b[0;34m\u001b[0m\u001b[0m\n\u001b[0m\u001b[1;32m     18\u001b[0m     \u001b[0mthirdPartyComponentList\u001b[0m \u001b[0;34m=\u001b[0m \u001b[0;34m{\u001b[0m\u001b[0;34m}\u001b[0m\u001b[0;34m\u001b[0m\u001b[0m\n\u001b[1;32m     19\u001b[0m     \u001b[0mparser\u001b[0m \u001b[0;34m=\u001b[0m \u001b[0mxml\u001b[0m\u001b[0;34m.\u001b[0m\u001b[0msax\u001b[0m\u001b[0;34m.\u001b[0m\u001b[0mmake_parser\u001b[0m\u001b[0;34m(\u001b[0m\u001b[0;34m)\u001b[0m\u001b[0;34m\u001b[0m\u001b[0m\n",
      "\u001b[0;32m/anaconda3/lib/python3.6/site-packages/uiautomator/__init__.py\u001b[0m in \u001b[0;36mdump\u001b[0;34m(self, filename, compressed, pretty)\u001b[0m\n\u001b[1;32m    608\u001b[0m     \u001b[0;32mdef\u001b[0m \u001b[0mdump\u001b[0m\u001b[0;34m(\u001b[0m\u001b[0mself\u001b[0m\u001b[0;34m,\u001b[0m \u001b[0mfilename\u001b[0m\u001b[0;34m=\u001b[0m\u001b[0;32mNone\u001b[0m\u001b[0;34m,\u001b[0m \u001b[0mcompressed\u001b[0m\u001b[0;34m=\u001b[0m\u001b[0;32mTrue\u001b[0m\u001b[0;34m,\u001b[0m \u001b[0mpretty\u001b[0m\u001b[0;34m=\u001b[0m\u001b[0;32mTrue\u001b[0m\u001b[0;34m)\u001b[0m\u001b[0;34m:\u001b[0m\u001b[0;34m\u001b[0m\u001b[0m\n\u001b[1;32m    609\u001b[0m         \u001b[0;34m'''dump device window and pull to local file.'''\u001b[0m\u001b[0;34m\u001b[0m\u001b[0m\n\u001b[0;32m--> 610\u001b[0;31m         \u001b[0mcontent\u001b[0m \u001b[0;34m=\u001b[0m \u001b[0mself\u001b[0m\u001b[0;34m.\u001b[0m\u001b[0mserver\u001b[0m\u001b[0;34m.\u001b[0m\u001b[0mjsonrpc\u001b[0m\u001b[0;34m.\u001b[0m\u001b[0mdumpWindowHierarchy\u001b[0m\u001b[0;34m(\u001b[0m\u001b[0mcompressed\u001b[0m\u001b[0;34m,\u001b[0m \u001b[0;32mNone\u001b[0m\u001b[0;34m)\u001b[0m\u001b[0;34m\u001b[0m\u001b[0m\n\u001b[0m\u001b[1;32m    611\u001b[0m         \u001b[0;32mif\u001b[0m \u001b[0mfilename\u001b[0m\u001b[0;34m:\u001b[0m\u001b[0;34m\u001b[0m\u001b[0m\n\u001b[1;32m    612\u001b[0m             \u001b[0;32mwith\u001b[0m \u001b[0mopen\u001b[0m\u001b[0;34m(\u001b[0m\u001b[0mfilename\u001b[0m\u001b[0;34m,\u001b[0m \u001b[0;34m\"wb\"\u001b[0m\u001b[0;34m)\u001b[0m \u001b[0;32mas\u001b[0m \u001b[0mf\u001b[0m\u001b[0;34m:\u001b[0m\u001b[0;34m\u001b[0m\u001b[0m\n",
      "\u001b[0;32m/anaconda3/lib/python3.6/site-packages/uiautomator/__init__.py\u001b[0m in \u001b[0;36mwrapper\u001b[0;34m(*args, **kwargs)\u001b[0m\n\u001b[1;32m    419\u001b[0m                 \u001b[0mURLError\u001b[0m \u001b[0;34m=\u001b[0m \u001b[0murllib3\u001b[0m\u001b[0;34m.\u001b[0m\u001b[0mexceptions\u001b[0m\u001b[0;34m.\u001b[0m\u001b[0mHTTPError\u001b[0m \u001b[0;32mif\u001b[0m \u001b[0mos\u001b[0m\u001b[0;34m.\u001b[0m\u001b[0mname\u001b[0m \u001b[0;34m==\u001b[0m \u001b[0;34m\"nt\"\u001b[0m \u001b[0;32melse\u001b[0m \u001b[0murllib2\u001b[0m\u001b[0;34m.\u001b[0m\u001b[0mURLError\u001b[0m\u001b[0;34m\u001b[0m\u001b[0m\n\u001b[1;32m    420\u001b[0m                 \u001b[0;32mtry\u001b[0m\u001b[0;34m:\u001b[0m\u001b[0;34m\u001b[0m\u001b[0m\n\u001b[0;32m--> 421\u001b[0;31m                     \u001b[0;32mreturn\u001b[0m \u001b[0m_method_obj\u001b[0m\u001b[0;34m(\u001b[0m\u001b[0;34m*\u001b[0m\u001b[0margs\u001b[0m\u001b[0;34m,\u001b[0m \u001b[0;34m**\u001b[0m\u001b[0mkwargs\u001b[0m\u001b[0;34m)\u001b[0m\u001b[0;34m\u001b[0m\u001b[0m\n\u001b[0m\u001b[1;32m    422\u001b[0m                 \u001b[0;32mexcept\u001b[0m \u001b[0;34m(\u001b[0m\u001b[0mURLError\u001b[0m\u001b[0;34m,\u001b[0m \u001b[0msocket\u001b[0m\u001b[0;34m.\u001b[0m\u001b[0merror\u001b[0m\u001b[0;34m,\u001b[0m \u001b[0mHTTPException\u001b[0m\u001b[0;34m)\u001b[0m \u001b[0;32mas\u001b[0m \u001b[0me\u001b[0m\u001b[0;34m:\u001b[0m\u001b[0;34m\u001b[0m\u001b[0m\n\u001b[1;32m    423\u001b[0m                     \u001b[0;32mif\u001b[0m \u001b[0mrestart\u001b[0m\u001b[0;34m:\u001b[0m\u001b[0;34m\u001b[0m\u001b[0m\n",
      "\u001b[0;32m/anaconda3/lib/python3.6/site-packages/uiautomator/__init__.py\u001b[0m in \u001b[0;36m__call__\u001b[0;34m(self, *args, **kwargs)\u001b[0m\n\u001b[1;32m    122\u001b[0m                                       \u001b[0mjson\u001b[0m\u001b[0;34m.\u001b[0m\u001b[0mdumps\u001b[0m\u001b[0;34m(\u001b[0m\u001b[0mdata\u001b[0m\u001b[0;34m)\u001b[0m\u001b[0;34m.\u001b[0m\u001b[0mencode\u001b[0m\u001b[0;34m(\u001b[0m\u001b[0;34m\"utf-8\"\u001b[0m\u001b[0;34m)\u001b[0m\u001b[0;34m,\u001b[0m\u001b[0;34m\u001b[0m\u001b[0m\n\u001b[1;32m    123\u001b[0m                                       {\"Content-type\": \"application/json\"})\n\u001b[0;32m--> 124\u001b[0;31m                 \u001b[0mresult\u001b[0m \u001b[0;34m=\u001b[0m \u001b[0murllib2\u001b[0m\u001b[0;34m.\u001b[0m\u001b[0murlopen\u001b[0m\u001b[0;34m(\u001b[0m\u001b[0mreq\u001b[0m\u001b[0;34m,\u001b[0m \u001b[0mtimeout\u001b[0m\u001b[0;34m=\u001b[0m\u001b[0mself\u001b[0m\u001b[0;34m.\u001b[0m\u001b[0mtimeout\u001b[0m\u001b[0;34m)\u001b[0m\u001b[0;34m\u001b[0m\u001b[0m\n\u001b[0m\u001b[1;32m    125\u001b[0m                 \u001b[0mjsonresult\u001b[0m \u001b[0;34m=\u001b[0m \u001b[0mjson\u001b[0m\u001b[0;34m.\u001b[0m\u001b[0mloads\u001b[0m\u001b[0;34m(\u001b[0m\u001b[0mresult\u001b[0m\u001b[0;34m.\u001b[0m\u001b[0mread\u001b[0m\u001b[0;34m(\u001b[0m\u001b[0;34m)\u001b[0m\u001b[0;34m.\u001b[0m\u001b[0mdecode\u001b[0m\u001b[0;34m(\u001b[0m\u001b[0;34m\"utf-8\"\u001b[0m\u001b[0;34m)\u001b[0m\u001b[0;34m)\u001b[0m\u001b[0;34m\u001b[0m\u001b[0m\n\u001b[1;32m    126\u001b[0m             \u001b[0;32mfinally\u001b[0m\u001b[0;34m:\u001b[0m\u001b[0;34m\u001b[0m\u001b[0m\n",
      "\u001b[0;32m/anaconda3/lib/python3.6/urllib/request.py\u001b[0m in \u001b[0;36murlopen\u001b[0;34m(url, data, timeout, cafile, capath, cadefault, context)\u001b[0m\n\u001b[1;32m    221\u001b[0m     \u001b[0;32melse\u001b[0m\u001b[0;34m:\u001b[0m\u001b[0;34m\u001b[0m\u001b[0m\n\u001b[1;32m    222\u001b[0m         \u001b[0mopener\u001b[0m \u001b[0;34m=\u001b[0m \u001b[0m_opener\u001b[0m\u001b[0;34m\u001b[0m\u001b[0m\n\u001b[0;32m--> 223\u001b[0;31m     \u001b[0;32mreturn\u001b[0m \u001b[0mopener\u001b[0m\u001b[0;34m.\u001b[0m\u001b[0mopen\u001b[0m\u001b[0;34m(\u001b[0m\u001b[0murl\u001b[0m\u001b[0;34m,\u001b[0m \u001b[0mdata\u001b[0m\u001b[0;34m,\u001b[0m \u001b[0mtimeout\u001b[0m\u001b[0;34m)\u001b[0m\u001b[0;34m\u001b[0m\u001b[0m\n\u001b[0m\u001b[1;32m    224\u001b[0m \u001b[0;34m\u001b[0m\u001b[0m\n\u001b[1;32m    225\u001b[0m \u001b[0;32mdef\u001b[0m \u001b[0minstall_opener\u001b[0m\u001b[0;34m(\u001b[0m\u001b[0mopener\u001b[0m\u001b[0;34m)\u001b[0m\u001b[0;34m:\u001b[0m\u001b[0;34m\u001b[0m\u001b[0m\n",
      "\u001b[0;32m/anaconda3/lib/python3.6/urllib/request.py\u001b[0m in \u001b[0;36mopen\u001b[0;34m(self, fullurl, data, timeout)\u001b[0m\n\u001b[1;32m    524\u001b[0m             \u001b[0mreq\u001b[0m \u001b[0;34m=\u001b[0m \u001b[0mmeth\u001b[0m\u001b[0;34m(\u001b[0m\u001b[0mreq\u001b[0m\u001b[0;34m)\u001b[0m\u001b[0;34m\u001b[0m\u001b[0m\n\u001b[1;32m    525\u001b[0m \u001b[0;34m\u001b[0m\u001b[0m\n\u001b[0;32m--> 526\u001b[0;31m         \u001b[0mresponse\u001b[0m \u001b[0;34m=\u001b[0m \u001b[0mself\u001b[0m\u001b[0;34m.\u001b[0m\u001b[0m_open\u001b[0m\u001b[0;34m(\u001b[0m\u001b[0mreq\u001b[0m\u001b[0;34m,\u001b[0m \u001b[0mdata\u001b[0m\u001b[0;34m)\u001b[0m\u001b[0;34m\u001b[0m\u001b[0m\n\u001b[0m\u001b[1;32m    527\u001b[0m \u001b[0;34m\u001b[0m\u001b[0m\n\u001b[1;32m    528\u001b[0m         \u001b[0;31m# post-process response\u001b[0m\u001b[0;34m\u001b[0m\u001b[0;34m\u001b[0m\u001b[0m\n",
      "\u001b[0;32m/anaconda3/lib/python3.6/urllib/request.py\u001b[0m in \u001b[0;36m_open\u001b[0;34m(self, req, data)\u001b[0m\n\u001b[1;32m    542\u001b[0m         \u001b[0mprotocol\u001b[0m \u001b[0;34m=\u001b[0m \u001b[0mreq\u001b[0m\u001b[0;34m.\u001b[0m\u001b[0mtype\u001b[0m\u001b[0;34m\u001b[0m\u001b[0m\n\u001b[1;32m    543\u001b[0m         result = self._call_chain(self.handle_open, protocol, protocol +\n\u001b[0;32m--> 544\u001b[0;31m                                   '_open', req)\n\u001b[0m\u001b[1;32m    545\u001b[0m         \u001b[0;32mif\u001b[0m \u001b[0mresult\u001b[0m\u001b[0;34m:\u001b[0m\u001b[0;34m\u001b[0m\u001b[0m\n\u001b[1;32m    546\u001b[0m             \u001b[0;32mreturn\u001b[0m \u001b[0mresult\u001b[0m\u001b[0;34m\u001b[0m\u001b[0m\n",
      "\u001b[0;32m/anaconda3/lib/python3.6/urllib/request.py\u001b[0m in \u001b[0;36m_call_chain\u001b[0;34m(self, chain, kind, meth_name, *args)\u001b[0m\n\u001b[1;32m    502\u001b[0m         \u001b[0;32mfor\u001b[0m \u001b[0mhandler\u001b[0m \u001b[0;32min\u001b[0m \u001b[0mhandlers\u001b[0m\u001b[0;34m:\u001b[0m\u001b[0;34m\u001b[0m\u001b[0m\n\u001b[1;32m    503\u001b[0m             \u001b[0mfunc\u001b[0m \u001b[0;34m=\u001b[0m \u001b[0mgetattr\u001b[0m\u001b[0;34m(\u001b[0m\u001b[0mhandler\u001b[0m\u001b[0;34m,\u001b[0m \u001b[0mmeth_name\u001b[0m\u001b[0;34m)\u001b[0m\u001b[0;34m\u001b[0m\u001b[0m\n\u001b[0;32m--> 504\u001b[0;31m             \u001b[0mresult\u001b[0m \u001b[0;34m=\u001b[0m \u001b[0mfunc\u001b[0m\u001b[0;34m(\u001b[0m\u001b[0;34m*\u001b[0m\u001b[0margs\u001b[0m\u001b[0;34m)\u001b[0m\u001b[0;34m\u001b[0m\u001b[0m\n\u001b[0m\u001b[1;32m    505\u001b[0m             \u001b[0;32mif\u001b[0m \u001b[0mresult\u001b[0m \u001b[0;32mis\u001b[0m \u001b[0;32mnot\u001b[0m \u001b[0;32mNone\u001b[0m\u001b[0;34m:\u001b[0m\u001b[0;34m\u001b[0m\u001b[0m\n\u001b[1;32m    506\u001b[0m                 \u001b[0;32mreturn\u001b[0m \u001b[0mresult\u001b[0m\u001b[0;34m\u001b[0m\u001b[0m\n",
      "\u001b[0;32m/anaconda3/lib/python3.6/urllib/request.py\u001b[0m in \u001b[0;36mhttp_open\u001b[0;34m(self, req)\u001b[0m\n\u001b[1;32m   1344\u001b[0m \u001b[0;34m\u001b[0m\u001b[0m\n\u001b[1;32m   1345\u001b[0m     \u001b[0;32mdef\u001b[0m \u001b[0mhttp_open\u001b[0m\u001b[0;34m(\u001b[0m\u001b[0mself\u001b[0m\u001b[0;34m,\u001b[0m \u001b[0mreq\u001b[0m\u001b[0;34m)\u001b[0m\u001b[0;34m:\u001b[0m\u001b[0;34m\u001b[0m\u001b[0m\n\u001b[0;32m-> 1346\u001b[0;31m         \u001b[0;32mreturn\u001b[0m \u001b[0mself\u001b[0m\u001b[0;34m.\u001b[0m\u001b[0mdo_open\u001b[0m\u001b[0;34m(\u001b[0m\u001b[0mhttp\u001b[0m\u001b[0;34m.\u001b[0m\u001b[0mclient\u001b[0m\u001b[0;34m.\u001b[0m\u001b[0mHTTPConnection\u001b[0m\u001b[0;34m,\u001b[0m \u001b[0mreq\u001b[0m\u001b[0;34m)\u001b[0m\u001b[0;34m\u001b[0m\u001b[0m\n\u001b[0m\u001b[1;32m   1347\u001b[0m \u001b[0;34m\u001b[0m\u001b[0m\n\u001b[1;32m   1348\u001b[0m     \u001b[0mhttp_request\u001b[0m \u001b[0;34m=\u001b[0m \u001b[0mAbstractHTTPHandler\u001b[0m\u001b[0;34m.\u001b[0m\u001b[0mdo_request_\u001b[0m\u001b[0;34m\u001b[0m\u001b[0m\n",
      "\u001b[0;32m/anaconda3/lib/python3.6/urllib/request.py\u001b[0m in \u001b[0;36mdo_open\u001b[0;34m(self, http_class, req, **http_conn_args)\u001b[0m\n\u001b[1;32m   1319\u001b[0m             \u001b[0;32mexcept\u001b[0m \u001b[0mOSError\u001b[0m \u001b[0;32mas\u001b[0m \u001b[0merr\u001b[0m\u001b[0;34m:\u001b[0m \u001b[0;31m# timeout error\u001b[0m\u001b[0;34m\u001b[0m\u001b[0m\n\u001b[1;32m   1320\u001b[0m                 \u001b[0;32mraise\u001b[0m \u001b[0mURLError\u001b[0m\u001b[0;34m(\u001b[0m\u001b[0merr\u001b[0m\u001b[0;34m)\u001b[0m\u001b[0;34m\u001b[0m\u001b[0m\n\u001b[0;32m-> 1321\u001b[0;31m             \u001b[0mr\u001b[0m \u001b[0;34m=\u001b[0m \u001b[0mh\u001b[0m\u001b[0;34m.\u001b[0m\u001b[0mgetresponse\u001b[0m\u001b[0;34m(\u001b[0m\u001b[0;34m)\u001b[0m\u001b[0;34m\u001b[0m\u001b[0m\n\u001b[0m\u001b[1;32m   1322\u001b[0m         \u001b[0;32mexcept\u001b[0m\u001b[0;34m:\u001b[0m\u001b[0;34m\u001b[0m\u001b[0m\n\u001b[1;32m   1323\u001b[0m             \u001b[0mh\u001b[0m\u001b[0;34m.\u001b[0m\u001b[0mclose\u001b[0m\u001b[0;34m(\u001b[0m\u001b[0;34m)\u001b[0m\u001b[0;34m\u001b[0m\u001b[0m\n",
      "\u001b[0;32m/anaconda3/lib/python3.6/http/client.py\u001b[0m in \u001b[0;36mgetresponse\u001b[0;34m(self)\u001b[0m\n\u001b[1;32m   1329\u001b[0m         \u001b[0;32mtry\u001b[0m\u001b[0;34m:\u001b[0m\u001b[0;34m\u001b[0m\u001b[0m\n\u001b[1;32m   1330\u001b[0m             \u001b[0;32mtry\u001b[0m\u001b[0;34m:\u001b[0m\u001b[0;34m\u001b[0m\u001b[0m\n\u001b[0;32m-> 1331\u001b[0;31m                 \u001b[0mresponse\u001b[0m\u001b[0;34m.\u001b[0m\u001b[0mbegin\u001b[0m\u001b[0;34m(\u001b[0m\u001b[0;34m)\u001b[0m\u001b[0;34m\u001b[0m\u001b[0m\n\u001b[0m\u001b[1;32m   1332\u001b[0m             \u001b[0;32mexcept\u001b[0m \u001b[0mConnectionError\u001b[0m\u001b[0;34m:\u001b[0m\u001b[0;34m\u001b[0m\u001b[0m\n\u001b[1;32m   1333\u001b[0m                 \u001b[0mself\u001b[0m\u001b[0;34m.\u001b[0m\u001b[0mclose\u001b[0m\u001b[0;34m(\u001b[0m\u001b[0;34m)\u001b[0m\u001b[0;34m\u001b[0m\u001b[0m\n",
      "\u001b[0;32m/anaconda3/lib/python3.6/http/client.py\u001b[0m in \u001b[0;36mbegin\u001b[0;34m(self)\u001b[0m\n\u001b[1;32m    295\u001b[0m         \u001b[0;31m# read until we get a non-100 response\u001b[0m\u001b[0;34m\u001b[0m\u001b[0;34m\u001b[0m\u001b[0m\n\u001b[1;32m    296\u001b[0m         \u001b[0;32mwhile\u001b[0m \u001b[0;32mTrue\u001b[0m\u001b[0;34m:\u001b[0m\u001b[0;34m\u001b[0m\u001b[0m\n\u001b[0;32m--> 297\u001b[0;31m             \u001b[0mversion\u001b[0m\u001b[0;34m,\u001b[0m \u001b[0mstatus\u001b[0m\u001b[0;34m,\u001b[0m \u001b[0mreason\u001b[0m \u001b[0;34m=\u001b[0m \u001b[0mself\u001b[0m\u001b[0;34m.\u001b[0m\u001b[0m_read_status\u001b[0m\u001b[0;34m(\u001b[0m\u001b[0;34m)\u001b[0m\u001b[0;34m\u001b[0m\u001b[0m\n\u001b[0m\u001b[1;32m    298\u001b[0m             \u001b[0;32mif\u001b[0m \u001b[0mstatus\u001b[0m \u001b[0;34m!=\u001b[0m \u001b[0mCONTINUE\u001b[0m\u001b[0;34m:\u001b[0m\u001b[0;34m\u001b[0m\u001b[0m\n\u001b[1;32m    299\u001b[0m                 \u001b[0;32mbreak\u001b[0m\u001b[0;34m\u001b[0m\u001b[0m\n",
      "\u001b[0;32m/anaconda3/lib/python3.6/http/client.py\u001b[0m in \u001b[0;36m_read_status\u001b[0;34m(self)\u001b[0m\n\u001b[1;32m    256\u001b[0m \u001b[0;34m\u001b[0m\u001b[0m\n\u001b[1;32m    257\u001b[0m     \u001b[0;32mdef\u001b[0m \u001b[0m_read_status\u001b[0m\u001b[0;34m(\u001b[0m\u001b[0mself\u001b[0m\u001b[0;34m)\u001b[0m\u001b[0;34m:\u001b[0m\u001b[0;34m\u001b[0m\u001b[0m\n\u001b[0;32m--> 258\u001b[0;31m         \u001b[0mline\u001b[0m \u001b[0;34m=\u001b[0m \u001b[0mstr\u001b[0m\u001b[0;34m(\u001b[0m\u001b[0mself\u001b[0m\u001b[0;34m.\u001b[0m\u001b[0mfp\u001b[0m\u001b[0;34m.\u001b[0m\u001b[0mreadline\u001b[0m\u001b[0;34m(\u001b[0m\u001b[0m_MAXLINE\u001b[0m \u001b[0;34m+\u001b[0m \u001b[0;36m1\u001b[0m\u001b[0;34m)\u001b[0m\u001b[0;34m,\u001b[0m \u001b[0;34m\"iso-8859-1\"\u001b[0m\u001b[0;34m)\u001b[0m\u001b[0;34m\u001b[0m\u001b[0m\n\u001b[0m\u001b[1;32m    259\u001b[0m         \u001b[0;32mif\u001b[0m \u001b[0mlen\u001b[0m\u001b[0;34m(\u001b[0m\u001b[0mline\u001b[0m\u001b[0;34m)\u001b[0m \u001b[0;34m>\u001b[0m \u001b[0m_MAXLINE\u001b[0m\u001b[0;34m:\u001b[0m\u001b[0;34m\u001b[0m\u001b[0m\n\u001b[1;32m    260\u001b[0m             \u001b[0;32mraise\u001b[0m \u001b[0mLineTooLong\u001b[0m\u001b[0;34m(\u001b[0m\u001b[0;34m\"status line\"\u001b[0m\u001b[0;34m)\u001b[0m\u001b[0;34m\u001b[0m\u001b[0m\n",
      "\u001b[0;32m/anaconda3/lib/python3.6/socket.py\u001b[0m in \u001b[0;36mreadinto\u001b[0;34m(self, b)\u001b[0m\n\u001b[1;32m    584\u001b[0m         \u001b[0;32mwhile\u001b[0m \u001b[0;32mTrue\u001b[0m\u001b[0;34m:\u001b[0m\u001b[0;34m\u001b[0m\u001b[0m\n\u001b[1;32m    585\u001b[0m             \u001b[0;32mtry\u001b[0m\u001b[0;34m:\u001b[0m\u001b[0;34m\u001b[0m\u001b[0m\n\u001b[0;32m--> 586\u001b[0;31m                 \u001b[0;32mreturn\u001b[0m \u001b[0mself\u001b[0m\u001b[0;34m.\u001b[0m\u001b[0m_sock\u001b[0m\u001b[0;34m.\u001b[0m\u001b[0mrecv_into\u001b[0m\u001b[0;34m(\u001b[0m\u001b[0mb\u001b[0m\u001b[0;34m)\u001b[0m\u001b[0;34m\u001b[0m\u001b[0m\n\u001b[0m\u001b[1;32m    587\u001b[0m             \u001b[0;32mexcept\u001b[0m \u001b[0mtimeout\u001b[0m\u001b[0;34m:\u001b[0m\u001b[0;34m\u001b[0m\u001b[0m\n\u001b[1;32m    588\u001b[0m                 \u001b[0mself\u001b[0m\u001b[0;34m.\u001b[0m\u001b[0m_timeout_occurred\u001b[0m \u001b[0;34m=\u001b[0m \u001b[0;32mTrue\u001b[0m\u001b[0;34m\u001b[0m\u001b[0m\n",
      "\u001b[0;31mKeyboardInterrupt\u001b[0m: "
     ]
    }
   ],
   "source": [
    "traverse(1, '/Users/xikaioliver/Desktop/Result')"
   ]
  },
  {
   "cell_type": "code",
   "execution_count": 65,
   "metadata": {
    "scrolled": true
   },
   "outputs": [],
   "source": [
    "packageName = 'com.fsck.k9'"
   ]
  },
  {
   "cell_type": "code",
   "execution_count": 47,
   "metadata": {},
   "outputs": [
    {
     "data": {
      "text/plain": [
       "<uiautomator.AutomatorDeviceObject at 0x10467bb38>"
      ]
     },
     "execution_count": 47,
     "metadata": {},
     "output_type": "execute_result"
    }
   ],
   "source": [
    "d(packageName = packageName, clickable=True)"
   ]
  },
  {
   "cell_type": "code",
   "execution_count": 42,
   "metadata": {},
   "outputs": [
    {
     "data": {
      "text/plain": [
       "True"
      ]
     },
     "execution_count": 42,
     "metadata": {},
     "output_type": "execute_result"
    }
   ],
   "source": [
    "d.press('home')"
   ]
  },
  {
   "cell_type": "code",
   "execution_count": null,
   "metadata": {},
   "outputs": [],
   "source": []
  }
 ],
 "metadata": {
  "kernelspec": {
   "display_name": "Python 3",
   "language": "python",
   "name": "python3"
  },
  "language_info": {
   "codemirror_mode": {
    "name": "ipython",
    "version": 3
   },
   "file_extension": ".py",
   "mimetype": "text/x-python",
   "name": "python",
   "nbconvert_exporter": "python",
   "pygments_lexer": "ipython3",
   "version": "3.6.5"
  }
 },
 "nbformat": 4,
 "nbformat_minor": 2
}
