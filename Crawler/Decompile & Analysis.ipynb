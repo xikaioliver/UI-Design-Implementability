{
 "cells": [
  {
   "cell_type": "code",
   "execution_count": 3,
   "metadata": {},
   "outputs": [],
   "source": [
    "import os"
   ]
  },
  {
   "cell_type": "code",
   "execution_count": 6,
   "metadata": {},
   "outputs": [],
   "source": [
    "list = os.listdir('./APK')\n",
    "f_list = open('./APK/UnDecompiled_List.txt', 'a+')\n",
    "for name in list:\n",
    "    if name.endswith('.apk'):\n",
    "        f_list.write(name+'\\n')\n",
    "f_list.close()"
   ]
  },
  {
   "cell_type": "code",
   "execution_count": 8,
   "metadata": {},
   "outputs": [
    {
     "name": "stdout",
     "output_type": "stream",
     "text": [
      "[]\n"
     ]
    }
   ],
   "source": [
    "with open(\"./APK/UnDecompiled_List.txt\",\"r\") as f:\n",
    "    lines = f.readlines()\n",
    "    print(lines)\n",
    "f_w = open('./APK/Decompiled_List.txt', 'a+')\n",
    "with open(\"./APK/UnDecompiled_List.txt\",\"w\") as f_w_un:\n",
    "    for line in lines:\n",
    "        print('jadx ./APK/' + line[:-2] + ' -d ./APK/' + line[:-5])\n",
    "        file = os.popen('jadx ./APK/' + line[-2] + ' -d ./APK/' + line[:-5])\n",
    "        f_w.write(line)\n",
    "f_w.close()"
   ]
  },
  {
   "cell_type": "code",
   "execution_count": 9,
   "metadata": {},
   "outputs": [
    {
     "name": "stdout",
     "output_type": "stream",
     "text": [
      "jadx ./APK/info.staticfree.android.twentyfourhour_5.apk -d ./APK/info.staticfree.android.twentyfourhour_5\n",
      "jadx ./APK/com.uberspot.a2048_23.apk -d ./APK/com.uberspot.a2048_23\n",
      "jadx ./APK/com.traffar.a24game_5.apk -d ./APK/com.traffar.a24game_5\n",
      "jadx ./APK/nerd.tuxmobil.fahrplan.camp_39.apk -d ./APK/nerd.tuxmobil.fahrplan.camp_39\n"
     ]
    }
   ],
   "source": [
    "list = os.listdir('./APK')\n",
    "for name in list:\n",
    "    if name.endswith('.apk'):\n",
    "        print('jadx ./APK/' + name + ' -d ./APK/' + name[:-4])\n",
    "        file = os.popen('jadx ./APK/' + name + ' -d ./APK/' + name[:-4])"
   ]
  },
  {
   "cell_type": "code",
   "execution_count": 1,
   "metadata": {},
   "outputs": [],
   "source": [
    "import xml.sax\n",
    " \n",
    "class LayoutHandler( xml.sax.ContentHandler ):\n",
    "#    def __init__(self):\n",
    "#       self.CurrentData = \"\"\n",
    " \n",
    "   # 元素开始事件处理\n",
    "   def startElement(self, tag, attributes):\n",
    "      print(tag + '{', end = \"\")\n",
    " \n",
    "   # 元素结束事件处理\n",
    "   def endElement(self, tag):\n",
    "      print('}', end = \"\")\n",
    " \n",
    "    # 内容事件处理\n",
    "#    def characters(self, content):\n",
    "#     if content != \"\":\n",
    "#         print(content, end=\"\")\n",
    "#       if self.CurrentData == \"type\":\n",
    "#          self.type = content\n",
    "#       elif self.CurrentData == \"format\":\n",
    "#          self.format = content\n",
    "#       elif self.CurrentData == \"year\":\n",
    "#          self.year = content\n",
    "#       elif self.CurrentData == \"rating\":\n",
    "#          self.rating = content\n",
    "#       elif self.CurrentData == \"stars\":\n",
    "#          self.stars = content\n",
    "#       elif self.CurrentData == \"description\":\n",
    "#          self.description = content"
   ]
  },
  {
   "cell_type": "code",
   "execution_count": 2,
   "metadata": {
    "scrolled": true
   },
   "outputs": [
    {
     "name": "stdout",
     "output_type": "stream",
     "text": [
      "LinearLayout{LinearLayout{FrameLayout{LinearLayout{TextView{}TextView{}}}FrameLayout{LinearLayout{TextView{}TextView{}}}FrameLayout{LinearLayout{TextView{}TextView{}}ImageView{}}FrameLayout{LinearLayout{TextView{}TextView{}}}FrameLayout{LinearLayout{TextView{}TextView{}}com.qzone.widget.ScrollingNumTextView{}}}}"
     ]
    }
   ],
   "source": [
    "# 创建一个 XMLReader\n",
    "parser = xml.sax.make_parser()\n",
    "# turn off namepsaces\n",
    "parser.setFeature(xml.sax.handler.feature_namespaces, 0)\n",
    " \n",
    "# 重写 ContextHandler\n",
    "Handler = LayoutHandler()\n",
    "parser.setContentHandler( Handler )\n",
    "   \n",
    "parser.parse(\"name_APKTOOL_DUPLICATENAME_0x7f040a0a.xml\")"
   ]
  },
  {
   "cell_type": "code",
   "execution_count": 3,
   "metadata": {},
   "outputs": [
    {
     "name": "stdout",
     "output_type": "stream",
     "text": [
      "RelativeLayout{LinearLayout{FrameLayout{com.qzone.widget.QZonePullToRefreshListView{}}}FrameLayout{FrameLayout{}FrameLayout{}include{}ViewStub{}}View{}com.qzone.homepage.ui.component.CustomMenuBarForQzoneHomePage{}include{}ViewStub{}include{}ViewStub{}ViewStub{}View{}include{}FrameLayout{TextView{}}}"
     ]
    }
   ],
   "source": [
    "# 创建一个 XMLReader\n",
    "parser = xml.sax.make_parser()\n",
    "# turn off namepsaces\n",
    "parser.setFeature(xml.sax.handler.feature_namespaces, 0)\n",
    " \n",
    "# 重写 ContextHandler\n",
    "Handler = LayoutHandler()\n",
    "parser.setContentHandler( Handler )\n",
    "   \n",
    "parser.parse(\"name_APKTOOL_DUPLICATENAME_0x7f040a0b.xml\")"
   ]
  },
  {
   "cell_type": "code",
   "execution_count": 5,
   "metadata": {
    "scrolled": true
   },
   "outputs": [
    {
     "name": "stdout",
     "output_type": "stream",
     "text": [
      "com.qzone.widget.FillLinearLayout{FrameLayout{FrameLayout{}com.qzone.proxy.personalitycomponent.ui.QZoneWidgetControllerDecorator{}com.qzone.cover.ui.QzoneAvatarDecorator{}com.qzone.cover.ui.QzoneFacadeDecorator{}com.qzone.cover.ui.QzoneVipDecorator{}TextView{}TextView{}TextView{}com.qzone.widget.AsyncImageView{}LinearLayout{TextView{}ImageView{}}LinearLayout{include{}}}com.qzone.widget.CommonBtmLine{}LinearLayout{RelativeLayout{com.qzone.widget.CommonBtmLine{}com.qzone.widget.AsyncImageView{}TextView{}TextView{}com.qzone.widget.CommonBtmLine{}ImageView{}LinearLayout{ImageView{}TextView{}}}RelativeLayout{com.qzone.widget.CommonBtmLine{}com.qzone.widget.AsyncImageView{}TextView{}TextView{}com.qzone.widget.CommonBtmLine{}ImageView{}}}RelativeLayout{com.qzone.widget.CommonBtmLine{}com.qzone.widget.AsyncImageView{}TextView{}com.qzone.widget.CommonBtmLine{}ImageView{}}include{}RelativeLayout{com.qzone.widget.CommonBtmLine{}com.qzone.widget.AsyncImageView{}TextView{}com.qzone.widget.CommonBtmLine{}ImageView{}ImageView{}}RelativeLayout{com.qzone.widget.AsyncImageView{}TextView{}com.qzone.widget.CommonBtmLine{}ViewSwitcher{}ImageView{}}com.qzone.widget.CommonBtmLine{}RelativeLayout{}include{}RelativeLayout{com.qzone.widget.AsyncImageView{}TextView{}com.qzone.widget.CommonBtmLine{}ImageView{}}RelativeLayout{com.qzone.widget.AsyncImageView{}TextView{}com.qzone.widget.CommonBtmLine{}ImageView{}TextView{}}FrameLayout{}}"
     ]
    }
   ],
   "source": [
    "# 创建一个 XMLReader\n",
    "parser = xml.sax.make_parser()\n",
    "# turn off namepsaces\n",
    "parser.setFeature(xml.sax.handler.feature_namespaces, 0)\n",
    " \n",
    "# 重写 ContextHandler\n",
    "Handler = LayoutHandler()\n",
    "parser.setContentHandler( Handler )\n",
    "   \n",
    "parser.parse(\"name_APKTOOL_DUPLICATENAME_0x7f040a0c.xml\")"
   ]
  },
  {
   "cell_type": "code",
   "execution_count": null,
   "metadata": {},
   "outputs": [],
   "source": []
  }
 ],
 "metadata": {
  "kernelspec": {
   "display_name": "Python 3",
   "language": "python",
   "name": "python3"
  },
  "language_info": {
   "codemirror_mode": {
    "name": "ipython",
    "version": 3
   },
   "file_extension": ".py",
   "mimetype": "text/x-python",
   "name": "python",
   "nbconvert_exporter": "python",
   "pygments_lexer": "ipython3",
   "version": "3.6.5"
  }
 },
 "nbformat": 4,
 "nbformat_minor": 2
}
